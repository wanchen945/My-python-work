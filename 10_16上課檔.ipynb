{
 "cells": [
  {
   "cell_type": "code",
   "execution_count": 2,
   "metadata": {},
   "outputs": [],
   "source": [
    "%matplotlib inline\n",
    "import numpy as np\n",
    "import matplotlib.pyplot as plt\n",
    "import pandas as pd\n",
    "from ipywidgets import interact"
   ]
  },
  {
   "cell_type": "code",
   "execution_count": 3,
   "metadata": {},
   "outputs": [],
   "source": [
    "st=\"拍拍\""
   ]
  },
  {
   "cell_type": "code",
   "execution_count": 4,
   "metadata": {},
   "outputs": [
    {
     "data": {
      "text/plain": [
       "'拍拍'"
      ]
     },
     "execution_count": 4,
     "metadata": {},
     "output_type": "execute_result"
    }
   ],
   "source": [
    "st"
   ]
  },
  {
   "cell_type": "code",
   "execution_count": 5,
   "metadata": {},
   "outputs": [
    {
     "name": "stdout",
     "output_type": "stream",
     "text": [
      "拍拍\n"
     ]
    }
   ],
   "source": [
    "print(st)"
   ]
  },
  {
   "cell_type": "code",
   "execution_count": 8,
   "metadata": {},
   "outputs": [
    {
     "data": {
      "text/plain": [
       "2"
      ]
     },
     "execution_count": 8,
     "metadata": {},
     "output_type": "execute_result"
    }
   ],
   "source": [
    "st.count(\"拍\")"
   ]
  },
  {
   "cell_type": "code",
   "execution_count": 9,
   "metadata": {},
   "outputs": [],
   "source": [
    "class Card:\n",
    "    suit=3\n",
    "    rank=5"
   ]
  },
  {
   "cell_type": "code",
   "execution_count": 10,
   "metadata": {},
   "outputs": [],
   "source": [
    "card01=Card()"
   ]
  },
  {
   "cell_type": "code",
   "execution_count": 11,
   "metadata": {},
   "outputs": [],
   "source": [
    "card02=Card()"
   ]
  },
  {
   "cell_type": "code",
   "execution_count": 12,
   "metadata": {},
   "outputs": [
    {
     "data": {
      "text/plain": [
       "<__main__.Card at 0x182ff83ccf8>"
      ]
     },
     "execution_count": 12,
     "metadata": {},
     "output_type": "execute_result"
    }
   ],
   "source": [
    "card01"
   ]
  },
  {
   "cell_type": "code",
   "execution_count": 13,
   "metadata": {},
   "outputs": [
    {
     "data": {
      "text/plain": [
       "3"
      ]
     },
     "execution_count": 13,
     "metadata": {},
     "output_type": "execute_result"
    }
   ],
   "source": [
    "card01.suit"
   ]
  },
  {
   "cell_type": "code",
   "execution_count": 14,
   "metadata": {},
   "outputs": [],
   "source": [
    "card01.suit=2"
   ]
  },
  {
   "cell_type": "code",
   "execution_count": 16,
   "metadata": {},
   "outputs": [
    {
     "data": {
      "text/plain": [
       "2"
      ]
     },
     "execution_count": 16,
     "metadata": {},
     "output_type": "execute_result"
    }
   ],
   "source": [
    "card01.suit"
   ]
  },
  {
   "cell_type": "code",
   "execution_count": 17,
   "metadata": {},
   "outputs": [
    {
     "data": {
      "text/plain": [
       "str"
      ]
     },
     "execution_count": 17,
     "metadata": {},
     "output_type": "execute_result"
    }
   ],
   "source": [
    "type(st)"
   ]
  },
  {
   "cell_type": "code",
   "execution_count": 18,
   "metadata": {},
   "outputs": [
    {
     "data": {
      "text/plain": [
       "__main__.Card"
      ]
     },
     "execution_count": 18,
     "metadata": {},
     "output_type": "execute_result"
    }
   ],
   "source": [
    "type(card01)"
   ]
  },
  {
   "cell_type": "markdown",
   "metadata": {},
   "source": [
    "### 希望\n",
    "\n",
    "        card01=Card(1,10)"
   ]
  },
  {
   "cell_type": "markdown",
   "metadata": {},
   "source": [
    "### 特別函數\n",
    "     __init__(前面兩個底線 後面兩個底線)"
   ]
  },
  {
   "cell_type": "code",
   "execution_count": 19,
   "metadata": {},
   "outputs": [],
   "source": [
    "class Card:\n",
    "    \n",
    "    def __init__(self,s,r):\n",
    "        self.suit=s\n",
    "        self.rank=r"
   ]
  },
  {
   "cell_type": "code",
   "execution_count": 20,
   "metadata": {},
   "outputs": [],
   "source": [
    "card01=Card(2,10)"
   ]
  },
  {
   "cell_type": "code",
   "execution_count": 21,
   "metadata": {},
   "outputs": [
    {
     "data": {
      "text/plain": [
       "2"
      ]
     },
     "execution_count": 21,
     "metadata": {},
     "output_type": "execute_result"
    }
   ],
   "source": [
    "card01.suit"
   ]
  },
  {
   "cell_type": "code",
   "execution_count": 23,
   "metadata": {},
   "outputs": [
    {
     "data": {
      "text/plain": [
       "10"
      ]
     },
     "execution_count": 23,
     "metadata": {},
     "output_type": "execute_result"
    }
   ],
   "source": [
    "card01.rank"
   ]
  },
  {
   "cell_type": "code",
   "execution_count": 27,
   "metadata": {},
   "outputs": [
    {
     "data": {
      "text/plain": [
       "<__main__.Card at 0x182f072f9b0>"
      ]
     },
     "execution_count": 27,
     "metadata": {},
     "output_type": "execute_result"
    }
   ],
   "source": [
    "card01"
   ]
  },
  {
   "cell_type": "code",
   "execution_count": 28,
   "metadata": {},
   "outputs": [
    {
     "data": {
      "text/plain": [
       "['A', '2', '3', '4', '5', '6', '7', '8', '9', '0', 'J', 'Q', 'K']"
      ]
     },
     "execution_count": 28,
     "metadata": {},
     "output_type": "execute_result"
    }
   ],
   "source": [
    "list(\"A234567890JQK\")"
   ]
  },
  {
   "cell_type": "code",
   "execution_count": 157,
   "metadata": {},
   "outputs": [],
   "source": [
    "class Card:\n",
    "    SUITS=[\"♣\",\"♦\",\"♥\",\"♠\"]\n",
    "    RANKS=['A', '2', '3', '4', '5', '6', '7', '8', '9', '10', 'J', 'Q', 'K']\n",
    "    \n",
    "    def __init__(self,s,r):\n",
    "        self.suit=s\n",
    "        self.rank=r\n",
    "        \n",
    "    def show(self):\n",
    "        thecard=self.SUITS[self.suit]+self.RANKS[self.rank]\n",
    "        print(thecard)"
   ]
  },
  {
   "cell_type": "code",
   "execution_count": 50,
   "metadata": {},
   "outputs": [],
   "source": [
    "card01=Card(0,A)\n",
    "card02=Card(0,2)\n",
    "card03=Card(0,3)\n",
    "card04=Card(0,4)\n",
    "card05=Card(0,5)\n",
    "card06=Card(0,6)\n",
    "card07=Card(0,7)\n",
    "card08=Card(0,8)\n",
    "card09=Card(0,9)\n",
    "card10=Card(0,10)\n",
    "card11=Card(0,11)\n",
    "card12=Card(0,12)\n",
    "card13=Card(0,13)\n",
    "card14=Card(1,1)"
   ]
  },
  {
   "cell_type": "code",
   "execution_count": 51,
   "metadata": {},
   "outputs": [
    {
     "ename": "AttributeError",
     "evalue": "'Card' object has no attribute 'show'",
     "output_type": "error",
     "traceback": [
      "\u001b[1;31m---------------------------------------------------------------------------\u001b[0m",
      "\u001b[1;31mAttributeError\u001b[0m                            Traceback (most recent call last)",
      "\u001b[1;32m<ipython-input-51-a8dc20ee2bf5>\u001b[0m in \u001b[0;36m<module>\u001b[1;34m\u001b[0m\n\u001b[1;32m----> 1\u001b[1;33m \u001b[0mcard02\u001b[0m\u001b[1;33m.\u001b[0m\u001b[0mshow\u001b[0m\u001b[1;33m(\u001b[0m\u001b[1;33m)\u001b[0m\u001b[1;33m\u001b[0m\u001b[1;33m\u001b[0m\u001b[0m\n\u001b[0m",
      "\u001b[1;31mAttributeError\u001b[0m: 'Card' object has no attribute 'show'"
     ]
    }
   ],
   "source": [
    "card02.show()"
   ]
  },
  {
   "cell_type": "code",
   "execution_count": 158,
   "metadata": {},
   "outputs": [],
   "source": [
    "class Card:\n",
    "    SUITS=[\"♣\",\"♦\",\"♥\",\"♠\"]\n",
    "    RANKS=['A', '2', '3', '4', '5', '6', '7', '8', '9', '10', 'J', 'Q', 'K']\n",
    "    \n",
    "    def __init__(self,s,r):\n",
    "        self.suit=s\n",
    "        self.rank=r\n",
    "        \n",
    "    def __repr__(self):\n",
    "        thecard=self.SUITS[self.suit]+self.RANKS[self.rank]\n",
    "        return thecard\n",
    "        \n",
    "        "
   ]
  },
  {
   "cell_type": "code",
   "execution_count": 162,
   "metadata": {},
   "outputs": [
    {
     "ename": "NameError",
     "evalue": "name 'A' is not defined",
     "output_type": "error",
     "traceback": [
      "\u001b[1;31m---------------------------------------------------------------------------\u001b[0m",
      "\u001b[1;31mNameError\u001b[0m                                 Traceback (most recent call last)",
      "\u001b[1;32m<ipython-input-162-fb527f63688e>\u001b[0m in \u001b[0;36m<module>\u001b[1;34m\u001b[0m\n\u001b[1;32m----> 1\u001b[1;33m \u001b[0mcard01\u001b[0m\u001b[1;33m=\u001b[0m\u001b[0mCard\u001b[0m\u001b[1;33m(\u001b[0m\u001b[1;36m0\u001b[0m\u001b[1;33m,\u001b[0m\u001b[0mA\u001b[0m\u001b[1;33m)\u001b[0m\u001b[1;33m\u001b[0m\u001b[1;33m\u001b[0m\u001b[0m\n\u001b[0m\u001b[0;32m      2\u001b[0m \u001b[0mcard02\u001b[0m\u001b[1;33m=\u001b[0m\u001b[0mCard\u001b[0m\u001b[1;33m(\u001b[0m\u001b[1;36m0\u001b[0m\u001b[1;33m,\u001b[0m\u001b[1;36m2\u001b[0m\u001b[1;33m)\u001b[0m\u001b[1;33m\u001b[0m\u001b[1;33m\u001b[0m\u001b[0m\n\u001b[0;32m      3\u001b[0m \u001b[0mcard03\u001b[0m\u001b[1;33m=\u001b[0m\u001b[0mCard\u001b[0m\u001b[1;33m(\u001b[0m\u001b[1;36m0\u001b[0m\u001b[1;33m,\u001b[0m\u001b[1;36m3\u001b[0m\u001b[1;33m)\u001b[0m\u001b[1;33m\u001b[0m\u001b[1;33m\u001b[0m\u001b[0m\n\u001b[0;32m      4\u001b[0m \u001b[0mcard04\u001b[0m\u001b[1;33m=\u001b[0m\u001b[0mCard\u001b[0m\u001b[1;33m(\u001b[0m\u001b[1;36m0\u001b[0m\u001b[1;33m,\u001b[0m\u001b[1;36m4\u001b[0m\u001b[1;33m)\u001b[0m\u001b[1;33m\u001b[0m\u001b[1;33m\u001b[0m\u001b[0m\n\u001b[0;32m      5\u001b[0m \u001b[0mcard05\u001b[0m\u001b[1;33m=\u001b[0m\u001b[0mCard\u001b[0m\u001b[1;33m(\u001b[0m\u001b[1;36m0\u001b[0m\u001b[1;33m,\u001b[0m\u001b[1;36m5\u001b[0m\u001b[1;33m)\u001b[0m\u001b[1;33m\u001b[0m\u001b[1;33m\u001b[0m\u001b[0m\n",
      "\u001b[1;31mNameError\u001b[0m: name 'A' is not defined"
     ]
    }
   ],
   "source": [
    "card01=Card(0,A)\n",
    "card02=Card(0,2)\n",
    "card03=Card(0,3)\n",
    "card04=Card(0,4)\n",
    "card05=Card(0,5)\n",
    "card06=Card(0,6)\n",
    "card07=Card(0,7)\n",
    "card08=Card(0,8)\n",
    "card09=Card(0,9)\n",
    "card10=Card(0,10)\n",
    "card11=Card(0,11)\n",
    "card12=Card(0,12)\n",
    "card13=Card(0,13)\n",
    "card14=Card(1,A)\n",
    "card15=Card(1,2)\n",
    "card16=Card(1,3)\n",
    "card17=Card(1,4)\n",
    "card18=Card(1,5)\n",
    "card19=Card(1,6)\n",
    "card20=Card(1,7)\n",
    "card21=Card(1,8)\n",
    "card22=Card(1,9)\n",
    "card23=Card(1,10)\n",
    "card24=Card(1,11)\n",
    "card25=Card(1,12)\n",
    "card26=Card(1,13)\n",
    "card27=Card(2,A)\n",
    "card28=Card(2,2)\n",
    "card29=Card(2,3)\n",
    "card30=Card(2,4)\n",
    "card31=Card(2,5)\n",
    "card32=Card(2,6)\n",
    "card33=Card(2,7)\n",
    "card34=Card(2,8)\n",
    "card35=Card(2,9)\n",
    "card36=Card(2,10)\n",
    "card37=Card(2,11)\n",
    "card38=Card(2,12)\n",
    "card39=Card(2,13)\n",
    "card40=Card(3,A)\n",
    "card41=Card(3,2)\n",
    "card42=Card(3,3)\n",
    "card43=Card(3,4)\n",
    "card44=Card(3,5)\n",
    "card45=Card(3,6)\n",
    "card46=Card(3,7)\n",
    "card47=Card(3,8)\n",
    "card48=Card(3,9)\n",
    "card49=Card(3,10)\n",
    "card50=Card(3,11)\n",
    "card51=Card(3,12)\n",
    "card52=Card(3,13)"
   ]
  },
  {
   "cell_type": "code",
   "execution_count": 163,
   "metadata": {},
   "outputs": [
    {
     "data": {
      "text/plain": [
       "♣2"
      ]
     },
     "execution_count": 163,
     "metadata": {},
     "output_type": "execute_result"
    }
   ],
   "source": [
    "card01"
   ]
  },
  {
   "cell_type": "code",
   "execution_count": 164,
   "metadata": {},
   "outputs": [
    {
     "name": "stdout",
     "output_type": "stream",
     "text": [
      "♣3\n"
     ]
    }
   ],
   "source": [
    "print(card02)"
   ]
  },
  {
   "cell_type": "markdown",
   "metadata": {},
   "source": [
    "## python的檔案功能"
   ]
  },
  {
   "cell_type": "code",
   "execution_count": 55,
   "metadata": {},
   "outputs": [],
   "source": [
    "mydic={'apple':'蘋果','orange':'柳橙','banana':'香蕉'}"
   ]
  },
  {
   "cell_type": "code",
   "execution_count": 56,
   "metadata": {},
   "outputs": [
    {
     "data": {
      "text/plain": [
       "dict_keys(['apple', 'orange', 'banana'])"
      ]
     },
     "execution_count": 56,
     "metadata": {},
     "output_type": "execute_result"
    }
   ],
   "source": [
    "mydic.keys()"
   ]
  },
  {
   "cell_type": "code",
   "execution_count": 58,
   "metadata": {},
   "outputs": [
    {
     "data": {
      "text/plain": [
       "dict_values(['蘋果', '柳橙', '香蕉'])"
      ]
     },
     "execution_count": 58,
     "metadata": {},
     "output_type": "execute_result"
    }
   ],
   "source": [
    "mydic.values()"
   ]
  },
  {
   "cell_type": "code",
   "execution_count": 59,
   "metadata": {},
   "outputs": [
    {
     "data": {
      "text/plain": [
       "dict_items([('apple', '蘋果'), ('orange', '柳橙'), ('banana', '香蕉')])"
      ]
     },
     "execution_count": 59,
     "metadata": {},
     "output_type": "execute_result"
    }
   ],
   "source": [
    "mydic.items()"
   ]
  },
  {
   "cell_type": "code",
   "execution_count": 76,
   "metadata": {},
   "outputs": [
    {
     "name": "stdout",
     "output_type": "stream",
     "text": [
      "apple,蘋果\n",
      "orange,柳橙\n",
      "banana,香蕉\n"
     ]
    }
   ],
   "source": [
    "for eng in mydic.keys():\n",
    "    print(eng+\",\"+mydic[eng])"
   ]
  },
  {
   "cell_type": "code",
   "execution_count": 77,
   "metadata": {},
   "outputs": [
    {
     "name": "stdout",
     "output_type": "stream",
     "text": [
      "apple,蘋果\n",
      "orange,柳橙\n",
      "banana,香蕉\n"
     ]
    }
   ],
   "source": [
    "for eng in mydic.keys():\n",
    "    chi=mydic[eng]\n",
    "    print(f'{eng},{chi}')"
   ]
  },
  {
   "cell_type": "code",
   "execution_count": 78,
   "metadata": {},
   "outputs": [
    {
     "name": "stdout",
     "output_type": "stream",
     "text": [
      "apple,蘋果\n",
      "orange,柳橙\n",
      "banana,香蕉\n"
     ]
    }
   ],
   "source": [
    "for eng in mydic.keys():\n",
    "    spam=[eng,mydic[eng]]\n",
    "    print(','.join(spam))"
   ]
  },
  {
   "cell_type": "markdown",
   "metadata": {},
   "source": [
    "### 存檔"
   ]
  },
  {
   "cell_type": "code",
   "execution_count": 81,
   "metadata": {},
   "outputs": [],
   "source": [
    "f= open('mydic.csv','w')"
   ]
  },
  {
   "cell_type": "code",
   "execution_count": 82,
   "metadata": {},
   "outputs": [],
   "source": [
    "for eng in mydic.keys():\n",
    "    print(eng+\",\"+mydic[eng],file=f)"
   ]
  },
  {
   "cell_type": "code",
   "execution_count": 83,
   "metadata": {},
   "outputs": [],
   "source": [
    "f.close()"
   ]
  },
  {
   "cell_type": "code",
   "execution_count": 84,
   "metadata": {},
   "outputs": [
    {
     "name": "stdout",
     "output_type": "stream",
     "text": [
      " 磁碟區 C 中的磁碟沒有標籤。\n",
      " 磁碟區序號:  F4CB-093B\n",
      "\n",
      " C:\\Users\\user\\Desktop\\數學軟體與應用python連接jupyter notebook 的目錄\n",
      "\n",
      "2019/10/16  上午 10:24    <DIR>          .\n",
      "2019/10/16  上午 10:24    <DIR>          ..\n",
      "2019/10/16  上午 09:12    <DIR>          .ipynb_checkpoints\n",
      "2019/09/25  下午 12:02            22,149 0925 week3.ipynb\n",
      "2019/10/09  下午 12:02           123,158 10_09上課檔.ipynb\n",
      "2019/10/16  上午 10:24            12,629 10_16上課檔.ipynb\n",
      "2019/10/04  下午 11:19            10,345 1002第四周上課.ipynb\n",
      "2019/10/04  下午 11:10             1,362 107102004 教育二 謝宛蓁 第四周小作業01.ipynb\n",
      "2019/10/04  下午 11:18             2,828 107102004 教育二 謝宛蓁 第四周小作業02.ipynb\n",
      "2019/10/04  下午 11:21             1,396 107102004 教育二 謝宛蓁 第四周小作業-03.ipynb\n",
      "2019/09/29  下午 01:26             3,157 107102004_猜數字作業.ipynb\n",
      "2019/09/13  上午 09:37             4,854 1-4 把python當計算機用.ipynb\n",
      "2019/09/13  上午 09:41            83,602 1-5 jupyter的魔術指令.ipynb\n",
      "2019/09/11  下午 09:38             2,305 1-6 用markdown 作筆記.ipynb\n",
      "2019/09/11  下午 09:45             4,498 1-7變數好好用.ipynb\n",
      "2019/09/13  上午 10:43             3,715 1-8 字串和hallo word.ipynb\n",
      "2019/09/11  下午 09:52            14,501 1-8 串列 list 是數據分析第一步.ipynb\n",
      "2019/09/13  下午 11:58             4,473 1-8拍拍機器人.ipynb\n",
      "2019/09/11  下午 09:12             8,693 bear.png\n",
      "2019/09/23  下午 07:00             2,427 moocs-2(2).ipynb\n",
      "2019/10/16  上午 10:24                38 mydic.csv\n",
      "2019/10/02  上午 10:44                12 README.md\n",
      "2019/10/12  下午 02:06               555 Untitled.ipynb\n",
      "2019/10/09  上午 10:31                 0 untitled.txt\n",
      "2019/10/12  下午 10:11               555 Untitled1.ipynb\n",
      "2019/10/14  下午 07:30             1,380 存不存？.ipynb\n",
      "2019/09/14  上午 12:00             1,861 宛蓁的小筆記.ipynb\n",
      "2019/10/12  上午 11:23            15,822 狼人殺.ipynb\n",
      "2019/10/12  上午 11:30             1,936 猜數字進階版.ipynb\n",
      "2019/09/12  上午 12:03           294,403 第一次練習python.ipynb\n",
      "2019/09/14  上午 12:05            26,215 第一周作業.ipynb\n",
      "2019/09/28  上午 12:02            40,413 第二周上課.ipynb\n",
      "2019/09/28  下午 12:58             4,891 第三周作業檔.ipynb\n",
      "2019/10/12  下午 05:02             3,861 第三周線上課程作業01.ipynb\n",
      "2019/10/12  下午 11:57             1,968 第四周線上課程01.ipynb\n",
      "2019/09/23  下午 06:27             7,068 摩克斯第二周.ipynb\n",
      "2019/10/12  下午 03:50           174,072 線上課程第三周.ipynb\n",
      "2019/10/12  下午 11:38            41,134 線上課程第四周.ipynb\n",
      "2019/09/14  上午 12:07           473,793 講義1.pdf\n",
      "2019/10/14  下午 07:30             1,464 蘋果可分幾天呢？.ipynb\n",
      "              37 個檔案       1,397,533 位元組\n",
      "               3 個目錄  153,316,851,712 位元組可用\n"
     ]
    }
   ],
   "source": [
    "%ls"
   ]
  },
  {
   "cell_type": "markdown",
   "metadata": {},
   "source": [
    "## 查看檔案內容"
   ]
  },
  {
   "cell_type": "code",
   "execution_count": 176,
   "metadata": {},
   "outputs": [
    {
     "name": "stdout",
     "output_type": "stream",
     "text": [
      "apple,蘋果\n",
      "orange,柳橙\n",
      "banana,香蕉\n"
     ]
    }
   ],
   "source": [
    "! type mydic.csv"
   ]
  },
  {
   "cell_type": "markdown",
   "metadata": {},
   "source": [
    "## 讀回我們存的檔案"
   ]
  },
  {
   "cell_type": "code",
   "execution_count": 177,
   "metadata": {},
   "outputs": [],
   "source": [
    "f=open('mydic.csv','r')"
   ]
  },
  {
   "cell_type": "code",
   "execution_count": 178,
   "metadata": {},
   "outputs": [],
   "source": [
    "mydata=f.readlines()"
   ]
  },
  {
   "cell_type": "code",
   "execution_count": 179,
   "metadata": {},
   "outputs": [],
   "source": [
    "f.close()"
   ]
  },
  {
   "cell_type": "code",
   "execution_count": 180,
   "metadata": {},
   "outputs": [
    {
     "data": {
      "text/plain": [
       "['apple,蘋果\\n', 'orange,柳橙\\n', 'banana,香蕉\\n']"
      ]
     },
     "execution_count": 180,
     "metadata": {},
     "output_type": "execute_result"
    }
   ],
   "source": [
    "mydata"
   ]
  },
  {
   "cell_type": "code",
   "execution_count": 181,
   "metadata": {},
   "outputs": [
    {
     "name": "stdout",
     "output_type": "stream",
     "text": [
      "apple,蘋果\n",
      "\n",
      "orange,柳橙\n",
      "\n",
      "banana,香蕉\n",
      "\n"
     ]
    }
   ],
   "source": [
    "for line in mydata:\n",
    "    print(line)"
   ]
  },
  {
   "cell_type": "code",
   "execution_count": 182,
   "metadata": {},
   "outputs": [],
   "source": [
    "line=mydata[1]"
   ]
  },
  {
   "cell_type": "code",
   "execution_count": 183,
   "metadata": {},
   "outputs": [
    {
     "data": {
      "text/plain": [
       "'orange,柳橙\\n'"
      ]
     },
     "execution_count": 183,
     "metadata": {},
     "output_type": "execute_result"
    }
   ],
   "source": [
    "line"
   ]
  },
  {
   "cell_type": "code",
   "execution_count": 184,
   "metadata": {},
   "outputs": [
    {
     "data": {
      "text/plain": [
       "'orange,柳橙'"
      ]
     },
     "execution_count": 184,
     "metadata": {},
     "output_type": "execute_result"
    }
   ],
   "source": [
    "line.rstrip('\\n')"
   ]
  },
  {
   "cell_type": "code",
   "execution_count": 185,
   "metadata": {},
   "outputs": [],
   "source": [
    "line_new=line.rstrip('\\n')"
   ]
  },
  {
   "cell_type": "code",
   "execution_count": 186,
   "metadata": {},
   "outputs": [
    {
     "data": {
      "text/plain": [
       "['orange', '柳橙']"
      ]
     },
     "execution_count": 186,
     "metadata": {},
     "output_type": "execute_result"
    }
   ],
   "source": [
    "line_new.split(',')"
   ]
  },
  {
   "cell_type": "code",
   "execution_count": 187,
   "metadata": {},
   "outputs": [],
   "source": [
    "newdic['water melon']='西瓜'"
   ]
  },
  {
   "cell_type": "code",
   "execution_count": 188,
   "metadata": {},
   "outputs": [],
   "source": [
    "newdic={}\n",
    "\n",
    "for line in mydata:\n",
    "    newline=line.rstrip('\\n')\n",
    "    mylist=newline.split"
   ]
  },
  {
   "cell_type": "code",
   "execution_count": 189,
   "metadata": {},
   "outputs": [],
   "source": [
    "for a in newdic.keys():\n",
    "    print(a+','+mydic[a])"
   ]
  },
  {
   "cell_type": "markdown",
   "metadata": {},
   "source": [
    "## pickle存取法"
   ]
  },
  {
   "cell_type": "code",
   "execution_count": 190,
   "metadata": {},
   "outputs": [
    {
     "data": {
      "text/plain": [
       "{'apple': '蘋果', 'orange': '柳橙', 'banana': '香蕉'}"
      ]
     },
     "execution_count": 190,
     "metadata": {},
     "output_type": "execute_result"
    }
   ],
   "source": [
    "mydic"
   ]
  },
  {
   "cell_type": "code",
   "execution_count": 191,
   "metadata": {},
   "outputs": [],
   "source": [
    "import pickle"
   ]
  },
  {
   "cell_type": "code",
   "execution_count": 192,
   "metadata": {},
   "outputs": [],
   "source": [
    "f=open(\"mydic.pickle\",\"wb\")"
   ]
  },
  {
   "cell_type": "code",
   "execution_count": 193,
   "metadata": {},
   "outputs": [],
   "source": [
    "pickle.dump(mydic,f)"
   ]
  },
  {
   "cell_type": "code",
   "execution_count": 194,
   "metadata": {},
   "outputs": [],
   "source": [
    "f.close()"
   ]
  },
  {
   "cell_type": "code",
   "execution_count": 195,
   "metadata": {},
   "outputs": [
    {
     "name": "stdout",
     "output_type": "stream",
     "text": [
      " 磁碟區 C 中的磁碟沒有標籤。\n",
      " 磁碟區序號:  F4CB-093B\n",
      "\n",
      " C:\\Users\\user\\Desktop\\數學軟體與應用python連接jupyter notebook 的目錄\n",
      "\n",
      "2019/10/16  上午 11:29    <DIR>          .\n",
      "2019/10/16  上午 11:29    <DIR>          ..\n",
      "2019/10/16  上午 09:12    <DIR>          .ipynb_checkpoints\n",
      "2019/09/25  下午 12:02            22,149 0925 week3.ipynb\n",
      "2019/10/09  下午 12:02           123,158 10_09上課檔.ipynb\n",
      "2019/10/16  上午 11:29            29,196 10_16上課檔.ipynb\n",
      "2019/10/04  下午 11:19            10,345 1002第四周上課.ipynb\n",
      "2019/10/04  下午 11:10             1,362 107102004 教育二 謝宛蓁 第四周小作業01.ipynb\n",
      "2019/10/04  下午 11:18             2,828 107102004 教育二 謝宛蓁 第四周小作業02.ipynb\n",
      "2019/10/04  下午 11:21             1,396 107102004 教育二 謝宛蓁 第四周小作業-03.ipynb\n",
      "2019/09/29  下午 01:26             3,157 107102004_猜數字作業.ipynb\n",
      "2019/09/13  上午 09:37             4,854 1-4 把python當計算機用.ipynb\n",
      "2019/09/13  上午 09:41            83,602 1-5 jupyter的魔術指令.ipynb\n",
      "2019/09/11  下午 09:38             2,305 1-6 用markdown 作筆記.ipynb\n",
      "2019/09/11  下午 09:45             4,498 1-7變數好好用.ipynb\n",
      "2019/09/13  上午 10:43             3,715 1-8 字串和hallo word.ipynb\n",
      "2019/09/11  下午 09:52            14,501 1-8 串列 list 是數據分析第一步.ipynb\n",
      "2019/09/13  下午 11:58             4,473 1-8拍拍機器人.ipynb\n",
      "2019/09/11  下午 09:12             8,693 bear.png\n",
      "2019/09/23  下午 07:00             2,427 moocs-2(2).ipynb\n",
      "2019/10/16  上午 10:24                38 mydic.csv\n",
      "2019/10/16  上午 11:30                85 mydic.pickle\n",
      "2019/10/02  上午 10:44                12 README.md\n",
      "2019/10/16  上午 11:28                29 test.text\n",
      "2019/10/12  下午 02:06               555 Untitled.ipynb\n",
      "2019/10/09  上午 10:31                 0 untitled.txt\n",
      "2019/10/12  下午 10:11               555 Untitled1.ipynb\n",
      "2019/10/14  下午 07:30             1,380 存不存？.ipynb\n",
      "2019/09/14  上午 12:00             1,861 宛蓁的小筆記.ipynb\n",
      "2019/10/12  上午 11:23            15,822 狼人殺.ipynb\n",
      "2019/10/12  上午 11:30             1,936 猜數字進階版.ipynb\n",
      "2019/09/12  上午 12:03           294,403 第一次練習python.ipynb\n",
      "2019/09/14  上午 12:05            26,215 第一周作業.ipynb\n",
      "2019/09/28  上午 12:02            40,413 第二周上課.ipynb\n",
      "2019/09/28  下午 12:58             4,891 第三周作業檔.ipynb\n",
      "2019/10/12  下午 05:02             3,861 第三周線上課程作業01.ipynb\n",
      "2019/10/12  下午 11:57             1,968 第四周線上課程01.ipynb\n",
      "2019/09/23  下午 06:27             7,068 摩克斯第二周.ipynb\n",
      "2019/10/12  下午 03:50           174,072 線上課程第三周.ipynb\n",
      "2019/10/12  下午 11:38            41,134 線上課程第四周.ipynb\n",
      "2019/09/14  上午 12:07           473,793 講義1.pdf\n",
      "2019/10/14  下午 07:30             1,464 蘋果可分幾天呢？.ipynb\n",
      "              39 個檔案       1,414,214 位元組\n",
      "               3 個目錄  153,314,922,496 位元組可用\n"
     ]
    }
   ],
   "source": [
    "%ls"
   ]
  },
  {
   "cell_type": "code",
   "execution_count": 196,
   "metadata": {},
   "outputs": [],
   "source": [
    "f=open('mydic.pickle','rb')"
   ]
  },
  {
   "cell_type": "code",
   "execution_count": 197,
   "metadata": {},
   "outputs": [],
   "source": [
    "egg=pickle.load(f)"
   ]
  },
  {
   "cell_type": "code",
   "execution_count": 198,
   "metadata": {},
   "outputs": [],
   "source": [
    "f.close()"
   ]
  },
  {
   "cell_type": "code",
   "execution_count": 199,
   "metadata": {},
   "outputs": [
    {
     "data": {
      "text/plain": [
       "{'apple': '蘋果', 'orange': '柳橙', 'banana': '香蕉'}"
      ]
     },
     "execution_count": 199,
     "metadata": {},
     "output_type": "execute_result"
    }
   ],
   "source": [
    "egg"
   ]
  },
  {
   "cell_type": "markdown",
   "metadata": {},
   "source": [
    "## 隨意弄個檔案"
   ]
  },
  {
   "cell_type": "code",
   "execution_count": 266,
   "metadata": {},
   "outputs": [
    {
     "name": "stdout",
     "output_type": "stream",
     "text": [
      "Overwriting test.text\n"
     ]
    }
   ],
   "source": [
    "%%writefile \"test.text\"\n",
    "天空 小雨\n",
    "靦腆 牽絲   流連 卻 忘卻\n",
    "雨 光輝 轉  眼   消逝  疾逝"
   ]
  },
  {
   "cell_type": "code",
   "execution_count": 267,
   "metadata": {},
   "outputs": [
    {
     "name": "stdout",
     "output_type": "stream",
     "text": [
      "Overwriting test.text\n"
     ]
    }
   ],
   "source": [
    "%%writefile \"test.text\"\n",
    "air cloud\n",
    "rain love   life"
   ]
  },
  {
   "cell_type": "code",
   "execution_count": 268,
   "metadata": {},
   "outputs": [
    {
     "name": "stdout",
     "output_type": "stream",
     "text": [
      "air cloud\n",
      "rain love   life\n"
     ]
    }
   ],
   "source": [
    "!type \"test.text\""
   ]
  },
  {
   "cell_type": "code",
   "execution_count": 269,
   "metadata": {},
   "outputs": [],
   "source": [
    "f=open(\"test.text\",\"r\")"
   ]
  },
  {
   "cell_type": "code",
   "execution_count": 270,
   "metadata": {},
   "outputs": [],
   "source": [
    "spam=f.readlines()"
   ]
  },
  {
   "cell_type": "code",
   "execution_count": 271,
   "metadata": {},
   "outputs": [],
   "source": [
    "f.close()"
   ]
  },
  {
   "cell_type": "code",
   "execution_count": 272,
   "metadata": {},
   "outputs": [
    {
     "data": {
      "text/plain": [
       "['air cloud\\n', 'rain love   life\\n']"
      ]
     },
     "execution_count": 272,
     "metadata": {},
     "output_type": "execute_result"
    }
   ],
   "source": [
    "spam"
   ]
  },
  {
   "cell_type": "code",
   "execution_count": 273,
   "metadata": {},
   "outputs": [],
   "source": [
    "line=spam[1]"
   ]
  },
  {
   "cell_type": "code",
   "execution_count": null,
   "metadata": {},
   "outputs": [],
   "source": []
  },
  {
   "cell_type": "code",
   "execution_count": null,
   "metadata": {},
   "outputs": [],
   "source": []
  },
  {
   "cell_type": "code",
   "execution_count": 274,
   "metadata": {},
   "outputs": [
    {
     "data": {
      "text/plain": [
       "'rain love   life\\n'"
      ]
     },
     "execution_count": 274,
     "metadata": {},
     "output_type": "execute_result"
    }
   ],
   "source": [
    "line"
   ]
  },
  {
   "cell_type": "code",
   "execution_count": null,
   "metadata": {},
   "outputs": [],
   "source": []
  },
  {
   "cell_type": "code",
   "execution_count": 275,
   "metadata": {},
   "outputs": [],
   "source": [
    "egg=line.rstrip('\\n').split(' ')"
   ]
  },
  {
   "cell_type": "code",
   "execution_count": 276,
   "metadata": {},
   "outputs": [
    {
     "data": {
      "text/plain": [
       "['rain', 'love', '', '', 'life']"
      ]
     },
     "execution_count": 276,
     "metadata": {},
     "output_type": "execute_result"
    }
   ],
   "source": [
    "egg"
   ]
  },
  {
   "cell_type": "code",
   "execution_count": 277,
   "metadata": {},
   "outputs": [
    {
     "data": {
      "text/plain": [
       "['rain', 'love', 'life']"
      ]
     },
     "execution_count": 277,
     "metadata": {},
     "output_type": "execute_result"
    }
   ],
   "source": [
    "list(filter(lambda w:(w != \"\"),egg))"
   ]
  },
  {
   "cell_type": "code",
   "execution_count": 278,
   "metadata": {},
   "outputs": [
    {
     "data": {
      "text/plain": [
       "'rain love   life\\n'"
      ]
     },
     "execution_count": 278,
     "metadata": {},
     "output_type": "execute_result"
    }
   ],
   "source": [
    "line"
   ]
  },
  {
   "cell_type": "code",
   "execution_count": 279,
   "metadata": {},
   "outputs": [
    {
     "data": {
      "text/plain": [
       "['rain', 'love', 'life']"
      ]
     },
     "execution_count": 279,
     "metadata": {},
     "output_type": "execute_result"
    }
   ],
   "source": [
    "line.rstrip('\\n').split()"
   ]
  },
  {
   "cell_type": "code",
   "execution_count": 280,
   "metadata": {},
   "outputs": [
    {
     "data": {
      "text/plain": [
       "['air cloud\\n', 'rain love   life\\n']"
      ]
     },
     "execution_count": 280,
     "metadata": {},
     "output_type": "execute_result"
    }
   ],
   "source": [
    "spam"
   ]
  },
  {
   "cell_type": "code",
   "execution_count": 285,
   "metadata": {},
   "outputs": [],
   "source": [
    "my_word_list=[]\n",
    "for line in spam:\n",
    "    newlist=line.rstrip('\\n').split()\n",
    "    my_word_list.append(newlist)"
   ]
  },
  {
   "cell_type": "code",
   "execution_count": 287,
   "metadata": {},
   "outputs": [],
   "source": [
    "my_word_list=[]\n",
    "for line in spam:\n",
    "    newlist=line.rstrip('\\n').split()\n",
    "    my_word_list=my_word_list+newlist"
   ]
  },
  {
   "cell_type": "code",
   "execution_count": null,
   "metadata": {},
   "outputs": [],
   "source": []
  }
 ],
 "metadata": {
  "kernelspec": {
   "display_name": "Python 3",
   "language": "python",
   "name": "python3"
  },
  "language_info": {
   "codemirror_mode": {
    "name": "ipython",
    "version": 3
   },
   "file_extension": ".py",
   "mimetype": "text/x-python",
   "name": "python",
   "nbconvert_exporter": "python",
   "pygments_lexer": "ipython3",
   "version": "3.7.3"
  }
 },
 "nbformat": 4,
 "nbformat_minor": 2
}
