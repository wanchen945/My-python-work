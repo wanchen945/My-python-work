{
 "cells": [
  {
   "cell_type": "code",
   "execution_count": 6,
   "metadata": {},
   "outputs": [],
   "source": [
    "from ipywidgets import interact"
   ]
  },
  {
   "cell_type": "code",
   "execution_count": 7,
   "metadata": {},
   "outputs": [
    {
     "name": "stdout",
     "output_type": "stream",
     "text": [
      "健康蔬食 的配料有:\n",
      "\t 高麗菜\n",
      "\t 青江菜\n",
      "\t 花椰菜\n",
      "\t 凍豆腐\n",
      "\n",
      "酥皮濃湯 的配料有:\n",
      "\t 起士\n",
      "\t 馬鈴薯\n",
      "\t 玉米\n",
      "\t 少許火腿\n",
      "\n",
      "紅通通嫩QQ 的配料有:\n",
      "\t 番茄\n",
      "\t 豬肉\n",
      "\t 醬油\n",
      "\n",
      "甜甜甜好甜 的配料有:\n",
      "\t 巧克力\n",
      "\t 砂糖\n",
      "\t 奶油\n",
      "\n",
      "有光不暖 的配料有:\n",
      "\t 沙拉\n",
      "\t 蛋\n",
      "\t 冰沙\n",
      "\n",
      "深海遺珠 的配料有:\n",
      "\t 干貝\n",
      "\t 食用藍色色素\n",
      "\t 蓮藕粉\n",
      "\t 白色小珍珠\n",
      "\n",
      "大食怪 的配料有:\n",
      "\t 香菇\n",
      "\t 豬肉\n",
      "\t 醬油\n",
      "\t 白飯\n",
      "\n",
      "深海遺珠 的配料有:\n",
      "\t 干貝\n",
      "\t 食用藍色色素\n",
      "\t 蓮藕粉\n",
      "\t 白色小珍珠\n",
      "\n",
      "驚喜包 的配料有:\n",
      "\t 驚喜\n",
      "子酥脆南瓜 的配料有:\n",
      "\t 干貝\n",
      "\t 食用藍色色素\n",
      "\t 蓮藕粉\n",
      "\t 白色小珍珠\n"
     ]
    }
   ],
   "source": [
    "def drink(beverage,*ingredients):\n",
    "    print(beverage,\"的配料有:\")\n",
    "    for item in ingredients:\n",
    "        print(\"\\t\",item)\n",
    "\n",
    "drink(\"健康蔬食\",\"高麗菜\",\"青江菜\",\"花椰菜\",\"凍豆腐\")\n",
    "print()\n",
    "drink(\"酥皮濃湯\",\"起士\",\"馬鈴薯\",\"玉米\",\"少許火腿\")\n",
    "print()\n",
    "drink(\"紅通通嫩QQ\",\"番茄\",\"豬肉\",\"醬油\")\n",
    "print()\n",
    "drink(\"甜甜甜好甜\",\"巧克力\",\"砂糖\",\"奶油\")\n",
    "print()\n",
    "drink(\"有光不暖\",\"沙拉\",\"蛋\",\"冰沙\")\n",
    "print()\n",
    "drink(\"深海遺珠\",\"干貝\",\"食用藍色色素\",\"蓮藕粉\",\"白色小珍珠\")\n",
    "print()\n",
    "drink(\"大食怪\",\"香菇\",\"豬肉\",\"醬油\",\"白飯\")\n",
    "print()\n",
    "drink(\"深海遺珠\",\"干貝\",\"食用藍色色素\",\"蓮藕粉\",\"白色小珍珠\")\n",
    "print()\n",
    "drink(\"驚喜包\",\"驚喜\")\n",
    "drink(\"子酥脆南瓜\",\"干貝\",\"食用藍色色素\",\"蓮藕粉\",\"白色小珍珠\")\n"
   ]
  },
  {
   "cell_type": "markdown",
   "metadata": {},
   "source": [
    "### 在這裡跟大家介紹一家經濟實惠又超好吃的店"
   ]
  },
  {
   "cell_type": "markdown",
   "metadata": {},
   "source": [
    "### 它叫六堆伙房"
   ]
  },
  {
   "cell_type": "code",
   "execution_count": 8,
   "metadata": {},
   "outputs": [
    {
     "name": "stdout",
     "output_type": "stream",
     "text": [
      "小菜 有:\n",
      "\t 紫蘇脆南瓜\n",
      "\t 紫蘇梅番茄\n",
      "\t 金沙翠苦瓜\n",
      "\t 美濃花生豆腐\n",
      "\t 黃金泡菜\n",
      "\t 香辣豆干\n",
      "\t 胡麻龍鬚塔\n",
      "\t 桔香涼拌過貓\n",
      "\t 涼拌黑木耳\n",
      "\t 花生醬涼拌小黃瓜\n",
      "\t 蒜泥茄子\n",
      "\n",
      "真的都超級好吃(*´∀`)~♥(*´∀`)~♥(*´∀`)~♥\n"
     ]
    }
   ],
   "source": [
    "def drink(beverage,*ingredients):\n",
    "    print(beverage,\"有:\")\n",
    "    for item in ingredients:\n",
    "        print(\"\\t\",item)\n",
    "\n",
    "drink(\"小菜\",\"紫蘇脆南瓜\",\"紫蘇梅番茄\",\"金沙翠苦瓜\",\"美濃花生豆腐\",\"黃金泡菜\",\"香辣豆干\",\"胡麻龍鬚塔\",\"桔香涼拌過貓\",\"涼拌黑木耳\",\"花生醬涼拌小黃瓜\",\"蒜泥茄子\")\n",
    "print()\n",
    "print(\"真的都超級好吃(*´∀`)~♥(*´∀`)~♥(*´∀`)~♥\")"
   ]
  },
  {
   "cell_type": "markdown",
   "metadata": {},
   "source": [
    "### 它的招牌有"
   ]
  },
  {
   "cell_type": "code",
   "execution_count": 13,
   "metadata": {},
   "outputs": [
    {
     "data": {
      "application/vnd.jupyter.widget-view+json": {
       "model_id": "e46842b360c7444284afe82d0037d35f",
       "version_major": 2,
       "version_minor": 0
      },
      "text/plain": [
       "interactive(children=(Dropdown(description='x', options={'鹹蛋絲瓜麵線': '只要108(๑´ڡ`๑)', '芋頭米粉湯': '只要108(๑´ڡ`๑)', '酸…"
      ]
     },
     "metadata": {},
     "output_type": "display_data"
    }
   ],
   "source": [
    "def f(x):\n",
    "    print(x)\n",
    "interact(f,x={\"鹹蛋絲瓜麵線\":\"只要108(๑´ڡ`๑)\",\"芋頭米粉湯\":\"只要108(๑´ڡ`๑)\",\"酸菜魚片麵\":\"只要108(๑´ڡ`๑)\",\"福菜鹹豬肉拌飯\":\"只要108(๑´ڡ`๑)\",\n",
    "              \"客家乾拌細麵\":\"只要88(๑´ڡ`๑)\",\"金沙南瓜豆腐\":\"要188，但真的好吃，有吃鹹酥雞的感覺(๑´ڡ`๑)\",\"擂茶麻糬鍋餅\":\"$73，連不愛吃抹茶的我都愛(๑´ڡ`๑)\"});"
   ]
  },
  {
   "cell_type": "markdown",
   "metadata": {},
   "source": [
    "### 真的CP值爆表\n",
    "#### 貼心小叮嚀：人多記得先訂位✧*｡٩(ˊᗜˋ*)و✧*｡"
   ]
  },
  {
   "cell_type": "code",
   "execution_count": null,
   "metadata": {},
   "outputs": [],
   "source": []
  }
 ],
 "metadata": {
  "kernelspec": {
   "display_name": "Python 3",
   "language": "python",
   "name": "python3"
  },
  "language_info": {
   "codemirror_mode": {
    "name": "ipython",
    "version": 3
   },
   "file_extension": ".py",
   "mimetype": "text/x-python",
   "name": "python",
   "nbconvert_exporter": "python",
   "pygments_lexer": "ipython3",
   "version": "3.7.3"
  }
 },
 "nbformat": 4,
 "nbformat_minor": 2
}
