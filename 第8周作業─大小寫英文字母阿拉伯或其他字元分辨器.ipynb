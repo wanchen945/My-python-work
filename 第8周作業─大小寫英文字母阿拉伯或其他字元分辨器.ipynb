{
 "cells": [
  {
   "cell_type": "markdown",
   "metadata": {},
   "source": [
    "## 判斷字元為大小寫英文字、阿拉伯數字或為其他字元"
   ]
  },
  {
   "cell_type": "code",
   "execution_count": 9,
   "metadata": {},
   "outputs": [],
   "source": [
    "%matplotlib inline\n",
    "\n",
    "import numpy as np\n",
    "import pandas as pd\n",
    "import matplotlib.pyplot as plt"
   ]
  },
  {
   "cell_type": "code",
   "execution_count": 10,
   "metadata": {},
   "outputs": [
    {
     "name": "stdout",
     "output_type": "stream",
     "text": [
      "請輸入一個字元：A\n",
      "A是大寫字元\n"
     ]
    }
   ],
   "source": [
    "num=input(\"請輸入一個字元：\")\n",
    "\n",
    "if chr(97)<=num<=chr(122):\n",
    "        print(\"{}是小寫字元\".format(num))\n",
    "elif chr(65)<=num<=chr(90):\n",
    "        print(\"{}是大寫字元\".format(num))\n",
    "elif chr(48)<=num<=chr(57):\n",
    "        print(\"{}是阿拉伯數字\".format(num))\n",
    "else:\n",
    "        print(\"{}是其他字元\".format(num))"
   ]
  },
  {
   "cell_type": "markdown",
   "metadata": {},
   "source": [
    "### 使用方法"
   ]
  },
  {
   "cell_type": "code",
   "execution_count": 11,
   "metadata": {},
   "outputs": [
    {
     "name": "stdout",
     "output_type": "stream",
     "text": [
      "65\n",
      "90\n",
      "97\n",
      "122\n",
      "48\n",
      "57\n"
     ]
    }
   ],
   "source": [
    "print(ord(\"A\"))#65\n",
    "print(ord(\"Z\"))#90\n",
    "print(ord(\"a\"))#97\n",
    "print(ord(\"z\"))#122\n",
    "print(ord(\"0\"))#48\n",
    "print(ord(\"9\"))#57"
   ]
  }
 ],
 "metadata": {
  "kernelspec": {
   "display_name": "Python 3",
   "language": "python",
   "name": "python3"
  },
  "language_info": {
   "codemirror_mode": {
    "name": "ipython",
    "version": 3
   },
   "file_extension": ".py",
   "mimetype": "text/x-python",
   "name": "python",
   "nbconvert_exporter": "python",
   "pygments_lexer": "ipython3",
   "version": "3.7.3"
  }
 },
 "nbformat": 4,
 "nbformat_minor": 2
}
