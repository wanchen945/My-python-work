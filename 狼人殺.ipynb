{
 "cells": [
  {
   "cell_type": "code",
   "execution_count": 1,
   "metadata": {},
   "outputs": [],
   "source": [
    "L=[\"狼人\",\"狼人\",\"狼王\",\"預言家\",\"女巫\",\"獵人\",\"騎士\",\"平民\",\"平民\",\"平民\"]"
   ]
  },
  {
   "cell_type": "code",
   "execution_count": 2,
   "metadata": {},
   "outputs": [
    {
     "data": {
      "text/plain": [
       "['狼人', '狼人', '狼王', '預言家', '女巫', '獵人', '騎士', '平民', '平民', '平民']"
      ]
     },
     "execution_count": 2,
     "metadata": {},
     "output_type": "execute_result"
    }
   ],
   "source": [
    "L"
   ]
  },
  {
   "cell_type": "code",
   "execution_count": 3,
   "metadata": {},
   "outputs": [],
   "source": [
    "def f(x):\n",
    "    print(x)"
   ]
  },
  {
   "cell_type": "code",
   "execution_count": 4,
   "metadata": {},
   "outputs": [
    {
     "name": "stdout",
     "output_type": "stream",
     "text": [
      "狼人\n"
     ]
    }
   ],
   "source": [
    "f(\"狼人\")"
   ]
  },
  {
   "cell_type": "code",
   "execution_count": 5,
   "metadata": {},
   "outputs": [],
   "source": [
    "from ipywidgets import interact"
   ]
  },
  {
   "cell_type": "code",
   "execution_count": 6,
   "metadata": {},
   "outputs": [
    {
     "data": {
      "application/vnd.jupyter.widget-view+json": {
       "model_id": "4a0373da345141888d58eac92c592801",
       "version_major": 2,
       "version_minor": 0
      },
      "text/plain": [
       "interactive(children=(Dropdown(description='x', options={1: '狼人', 2: '狼人', 3: '狼王', 4: '預言家', 5: '女巫', 6: '獵人'…"
      ]
     },
     "metadata": {},
     "output_type": "display_data"
    }
   ],
   "source": [
    "interact(f,x={1:\"狼人\",2:\"狼人\",3:\"狼王\",4:\"預言家\",5:\"女巫\",6:\"獵人\",7:\"騎士\",8:\"平民\",9:\"平民\",10:\"平民\"});"
   ]
  },
  {
   "cell_type": "markdown",
   "metadata": {},
   "source": [
    "# 狼人殺角色介紹"
   ]
  },
  {
   "cell_type": "code",
   "execution_count": 4,
   "metadata": {},
   "outputs": [
    {
     "data": {
      "application/vnd.jupyter.widget-view+json": {
       "model_id": "4b7423ab3f9d4a279d3a4e19c8449286",
       "version_major": 2,
       "version_minor": 0
      },
      "text/plain": [
       "interactive(children=(Dropdown(description='x', options={'狼人': '角色介紹:每個晚上可以殺掉一人', '狼王': '角色介紹:若在白天被票出，可多帶一人', …"
      ]
     },
     "metadata": {},
     "output_type": "display_data"
    }
   ],
   "source": [
    "%matplotlib inline\n",
    "\n",
    "import numpy as np\n",
    "import pandas as pd\n",
    "import matplotlib.pyplot as plt\n",
    "from ipywidgets import interact\n",
    "interact(f,x\n",
    "         ={\"狼人\":\"角色介紹:每個晚上可以殺掉一人\",\n",
    "              \"狼王\":\"角色介紹:若在白天被票出，可多帶一人\",\n",
    "              \"預言家\":\"角色介紹:每個晚上可以查驗一個人的真實身分，查驗結果為「狼人」或「好人」。\",\n",
    "              \"女巫\":\"角色介紹:有兩瓶藥水。一瓶為解藥，可以救活當天晚上被殺死的玩家；另一瓶為毒藥，可以在晚上毒死任何一位玩家。備註：女巫在同一個晚上不能同時使用兩瓶藥。\",\n",
    "              \"獵人\":\"角色介紹:當獵人被票出時，可以開槍射殺任一玩家。備註：但獵人若死於女巫毒藥時，獵人無法發動技能。\",\n",
    "              \"騎士\":\"角色介紹:騎士可以在白天投票前的時候翻出底牌，並指定查驗一名玩家，由主持人宣布，該玩家是否為狼人。若是狼人，則此玩家立即死亡，白天結束，馬上進入晚上。如果不是，則騎士以死謝罪，當天的投票繼續。\",\n",
    "              \"平民\":\"角色介紹:沒有技能\"});"
   ]
  },
  {
   "cell_type": "code",
   "execution_count": null,
   "metadata": {},
   "outputs": [],
   "source": []
  },
  {
   "cell_type": "code",
   "execution_count": 31,
   "metadata": {},
   "outputs": [],
   "source": [
    "def pipi2(x):\n",
    "    print(\"拍拍\")"
   ]
  },
  {
   "cell_type": "code",
   "execution_count": 43,
   "metadata": {},
   "outputs": [
    {
     "data": {
      "application/vnd.jupyter.widget-view+json": {
       "model_id": "18d48c19bc8f4bdba8f7c6bf93eaae89",
       "version_major": 2,
       "version_minor": 0
      },
      "text/plain": [
       "interactive(children=(Text(value='請輸入你的訊息', description='x'), Output()), _dom_classes=('widget-interact',))"
      ]
     },
     "metadata": {},
     "output_type": "display_data"
    }
   ],
   "source": [
    "interact(pipi2,x=\"請輸入你的訊息\");"
   ]
  },
  {
   "cell_type": "code",
   "execution_count": 33,
   "metadata": {},
   "outputs": [],
   "source": [
    "from ipywidgets import interact_manual"
   ]
  },
  {
   "cell_type": "code",
   "execution_count": 44,
   "metadata": {},
   "outputs": [
    {
     "data": {
      "application/vnd.jupyter.widget-view+json": {
       "model_id": "b699a8c076f342299bf5b89619267e1a",
       "version_major": 2,
       "version_minor": 0
      },
      "text/plain": [
       "interactive(children=(Text(value='請輸入你的訊息', description='x'), Button(description='Run Interact', style=ButtonS…"
      ]
     },
     "metadata": {},
     "output_type": "display_data"
    }
   ],
   "source": [
    "interact_manual(pipi2,x=\"請輸入你的訊息\");"
   ]
  },
  {
   "cell_type": "code",
   "execution_count": 39,
   "metadata": {},
   "outputs": [],
   "source": [
    "def move(n=1):\n",
    "    print(\"  \"*n+ \"(*‘ v`*)\")"
   ]
  },
  {
   "cell_type": "code",
   "execution_count": 40,
   "metadata": {},
   "outputs": [
    {
     "name": "stdout",
     "output_type": "stream",
     "text": [
      "                                        (*‘ v`*)\n"
     ]
    }
   ],
   "source": [
    "move(20)"
   ]
  },
  {
   "cell_type": "code",
   "execution_count": 46,
   "metadata": {},
   "outputs": [
    {
     "data": {
      "application/vnd.jupyter.widget-view+json": {
       "model_id": "06ec48f043004a668c44e172ac7711b9",
       "version_major": 2,
       "version_minor": 0
      },
      "text/plain": [
       "interactive(children=(IntSlider(value=1, description='n', max=40, min=1), Output()), _dom_classes=('widget-int…"
      ]
     },
     "metadata": {},
     "output_type": "display_data"
    }
   ],
   "source": [
    "interact(move,n=(1,40));"
   ]
  },
  {
   "cell_type": "code",
   "execution_count": 47,
   "metadata": {},
   "outputs": [],
   "source": [
    "def myplot(n=1):\n",
    "    x=np.linspace(-5,5,500)\n",
    "    y=np.sinc(n*x)\n",
    "    plt.plot(x,y)"
   ]
  },
  {
   "cell_type": "code",
   "execution_count": null,
   "metadata": {},
   "outputs": [],
   "source": []
  },
  {
   "cell_type": "code",
   "execution_count": null,
   "metadata": {},
   "outputs": [],
   "source": []
  },
  {
   "cell_type": "code",
   "execution_count": 50,
   "metadata": {},
   "outputs": [
    {
     "data": {
      "application/vnd.jupyter.widget-view+json": {
       "model_id": "2cfb4479e4d34848acd0513f1be2368f",
       "version_major": 2,
       "version_minor": 0
      },
      "text/plain": [
       "interactive(children=(IntSlider(value=9, description='x', max=27, min=-9), Output()), _dom_classes=('widget-in…"
      ]
     },
     "metadata": {},
     "output_type": "display_data"
    }
   ],
   "source": [
    "interact(f,x=9);"
   ]
  },
  {
   "cell_type": "code",
   "execution_count": 49,
   "metadata": {},
   "outputs": [
    {
     "data": {
      "application/vnd.jupyter.widget-view+json": {
       "model_id": "3e7a4f44b6864c8bbbaf765486c48d44",
       "version_major": 2,
       "version_minor": 0
      },
      "text/plain": [
       "interactive(children=(FloatSlider(value=3.0, description='x', max=9.0, min=-3.0), Output()), _dom_classes=('wi…"
      ]
     },
     "metadata": {},
     "output_type": "display_data"
    }
   ],
   "source": [
    "interact(f,x=3.);"
   ]
  },
  {
   "cell_type": "code",
   "execution_count": 48,
   "metadata": {},
   "outputs": [
    {
     "data": {
      "application/vnd.jupyter.widget-view+json": {
       "model_id": "0634d0f049504a9e82b92c0203995bd6",
       "version_major": 2,
       "version_minor": 0
      },
      "text/plain": [
       "interactive(children=(Text(value='哈哈', description='x'), Output()), _dom_classes=('widget-interact',))"
      ]
     },
     "metadata": {},
     "output_type": "display_data"
    }
   ],
   "source": [
    "interact(f,x=\"哈哈\");"
   ]
  },
  {
   "cell_type": "markdown",
   "metadata": {},
   "source": [
    "## 猶豫不決是你嗎？"
   ]
  },
  {
   "cell_type": "markdown",
   "metadata": {},
   "source": [
    "## 條件判斷"
   ]
  },
  {
   "cell_type": "code",
   "execution_count": 55,
   "metadata": {},
   "outputs": [
    {
     "data": {
      "text/plain": [
       "False"
      ]
     },
     "execution_count": 55,
     "metadata": {},
     "output_type": "execute_result"
    }
   ],
   "source": [
    "2>3"
   ]
  },
  {
   "cell_type": "code",
   "execution_count": 56,
   "metadata": {},
   "outputs": [
    {
     "data": {
      "text/plain": [
       "True"
      ]
     },
     "execution_count": 56,
     "metadata": {},
     "output_type": "execute_result"
    }
   ],
   "source": [
    "8<9"
   ]
  },
  {
   "cell_type": "code",
   "execution_count": 57,
   "metadata": {},
   "outputs": [],
   "source": [
    "a=8"
   ]
  },
  {
   "cell_type": "code",
   "execution_count": 58,
   "metadata": {},
   "outputs": [
    {
     "data": {
      "text/plain": [
       "False"
      ]
     },
     "execution_count": 58,
     "metadata": {},
     "output_type": "execute_result"
    }
   ],
   "source": [
    "a==9"
   ]
  },
  {
   "cell_type": "code",
   "execution_count": 59,
   "metadata": {},
   "outputs": [
    {
     "data": {
      "text/plain": [
       "True"
      ]
     },
     "execution_count": 59,
     "metadata": {},
     "output_type": "execute_result"
    }
   ],
   "source": [
    "a!=9"
   ]
  },
  {
   "cell_type": "code",
   "execution_count": 61,
   "metadata": {},
   "outputs": [
    {
     "data": {
      "text/plain": [
       "False"
      ]
     },
     "execution_count": 61,
     "metadata": {},
     "output_type": "execute_result"
    }
   ],
   "source": [
    "a>=9"
   ]
  },
  {
   "cell_type": "code",
   "execution_count": 70,
   "metadata": {},
   "outputs": [
    {
     "name": "stdout",
     "output_type": "stream",
     "text": [
      "請輸入你的成績:89\n",
      "不賴喲!繼續加油\n"
     ]
    }
   ],
   "source": [
    "g=input(\"請輸入你的成績:\")\n",
    "g=float(g)\n",
    "if g<60:\n",
    "    print(\"再接再厲!\")\n",
    "elif g>90:\n",
    "    print(\"給你一個讚\")\n",
    "elif g>70:\n",
    "    print(\"不賴喲!繼續加油\")\n",
    "else:\n",
    "    print(\"不錯喲！繼續努力\")    "
   ]
  },
  {
   "cell_type": "code",
   "execution_count": 66,
   "metadata": {},
   "outputs": [
    {
     "data": {
      "text/plain": [
       "87.0"
      ]
     },
     "execution_count": 66,
     "metadata": {},
     "output_type": "execute_result"
    }
   ],
   "source": [
    "g"
   ]
  },
  {
   "cell_type": "code",
   "execution_count": 71,
   "metadata": {
    "scrolled": true
   },
   "outputs": [
    {
     "ename": "SyntaxError",
     "evalue": "invalid syntax (<ipython-input-71-4229679ccd27>, line 7)",
     "output_type": "error",
     "traceback": [
      "\u001b[1;36m  File \u001b[1;32m\"<ipython-input-71-4229679ccd27>\"\u001b[1;36m, line \u001b[1;32m7\u001b[0m\n\u001b[1;33m    print(\"考慮中\")    if 要:\u001b[0m\n\u001b[1;37m                        ^\u001b[0m\n\u001b[1;31mSyntaxError\u001b[0m\u001b[1;31m:\u001b[0m invalid syntax\n"
     ]
    }
   ],
   "source": [
    "g=input(\"今天要去上學嗎？\")\n",
    "if g<60:\n",
    "    print(\"要\")\n",
    "elif g>90:\n",
    "    print(\"不要\")\n",
    "else:\n",
    "    print(\"考慮中\")    if 要:\n",
    "    print(\"\")\n",
    "    "
   ]
  },
  {
   "cell_type": "code",
   "execution_count": 77,
   "metadata": {},
   "outputs": [
    {
     "name": "stdout",
     "output_type": "stream",
     "text": [
      ">> 88\n",
      "拍拍\n"
     ]
    }
   ],
   "source": [
    "msg=input(\">> \")\n",
    "if (\"開心\" in msg):\n",
    "    print(\"真好\")\n",
    "else:\n",
    "    print(\"拍拍\")"
   ]
  },
  {
   "cell_type": "code",
   "execution_count": null,
   "metadata": {},
   "outputs": [],
   "source": []
  },
  {
   "cell_type": "markdown",
   "metadata": {},
   "source": [
    "## while 迴圈"
   ]
  },
  {
   "cell_type": "code",
   "execution_count": 78,
   "metadata": {},
   "outputs": [
    {
     "name": "stdout",
     "output_type": "stream",
     "text": [
      "0\n",
      "1\n",
      "2\n",
      "3\n",
      "4\n",
      "5\n",
      "6\n",
      "7\n",
      "8\n",
      "9\n"
     ]
    }
   ],
   "source": [
    "s=0\n",
    "while s<10:\n",
    "    print(s)\n",
    "    s=s+1"
   ]
  },
  {
   "cell_type": "code",
   "execution_count": 2,
   "metadata": {},
   "outputs": [
    {
     "name": "stdout",
     "output_type": "stream",
     "text": [
      "今天要去上學嗎？✧*｡٩(ˊᗜˋ*)و✧*｡ 考慮中\n",
      "那你得加快考慮的速度了，因為再1分鐘就要打鐘了!!!Σ(lliдﾟﾉ)ﾉ\n"
     ]
    }
   ],
   "source": [
    "msg=\"多拉a夢\"\n",
    "msg=input(\"今天要去上學嗎？✧*｡٩(ˊᗜˋ*)و✧*｡ \")\n",
    "if (\"要\" in msg):\n",
    "    print(\"哇是個認真的乖學生呢(^_っ^)\")\n",
    "if (\"不要\" in msg):\n",
    "    print(\"怎麼了？今天心情不好嗎？(,,・ω・,,)\")\n",
    "if (\"考慮中\" in msg):\n",
    "    print(\"那你得加快考慮的速度了，因為再1分鐘就要打鐘了!!!Σ(lliдﾟﾉ)ﾉ\")"
   ]
  },
  {
   "cell_type": "code",
   "execution_count": 1,
   "metadata": {},
   "outputs": [
    {
     "name": "stdout",
     "output_type": "stream",
     "text": [
      "(`・ω・´):今天真開心\n",
      "(´・ω・`):我也好開心(,,・ω・,,)\n",
      "(`・ω・´):但程式有點難\n",
      "(´・ω・`):拍拍｡･ﾟ･(ﾉД`)ヽ(ﾟДﾟ )秀秀\n",
      "(`・ω・´):唉~先這樣吧~掰掰\n",
      "(´・ω・`):掰掰\n"
     ]
    }
   ],
   "source": [
    "msg=\"多拉a夢\"\n",
    "\n",
    "while (msg!=\"bye\"):\n",
    "    msg=input(\"(`・ω・´):\")\n",
    "    if (\"難\" in msg):\n",
    "        print(\"(´・ω・`):拍拍｡･ﾟ･(ﾉД`)ヽ(ﾟДﾟ )秀秀\")\n",
    "    elif (\"開心\" in msg):\n",
    "        print(\"(´・ω・`):我也好開心(,,・ω・,,)\")\n",
    "    elif (\"掰掰\" in msg):\n",
    "        print(\"(´・ω・`):掰掰\")\n",
    "        break\n",
    "    else:\n",
    "        print(\"(´・ω・`):拍拍\")"
   ]
  },
  {
   "cell_type": "code",
   "execution_count": null,
   "metadata": {},
   "outputs": [],
   "source": []
  },
  {
   "cell_type": "code",
   "execution_count": null,
   "metadata": {},
   "outputs": [],
   "source": []
  }
 ],
 "metadata": {
  "kernelspec": {
   "display_name": "Python 3",
   "language": "python",
   "name": "python3"
  },
  "language_info": {
   "codemirror_mode": {
    "name": "ipython",
    "version": 3
   },
   "file_extension": ".py",
   "mimetype": "text/x-python",
   "name": "python",
   "nbconvert_exporter": "python",
   "pygments_lexer": "ipython3",
   "version": "3.7.3"
  }
 },
 "nbformat": 4,
 "nbformat_minor": 2
}
