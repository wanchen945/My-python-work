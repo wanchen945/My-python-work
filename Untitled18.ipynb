{
 "cells": [
  {
   "cell_type": "code",
   "execution_count": 1,
   "metadata": {},
   "outputs": [],
   "source": [
    "import tkinter as tk\n",
    "\n",
    "window = tk.Tk()\n",
    "window.title('my window')\n",
    "window.geometry('200x200')\n",
    "\n",
    "l = tk.Label(window, text='', bg='yellow')\n",
    "l.pack()\n",
    "counter = 0\n",
    "def do_job():\n",
    "    global counter\n",
    "    l.config(text='do '+ str(counter))\n",
    "    counter+=1\n",
    "\n",
    "menubar = tk.Menu(window)\n",
    "filemenu = tk.Menu(menubar, tearoff=0)\n",
    "menubar.add_cascade(label='File', menu=filemenu)\n",
    "filemenu.add_command(label='New', command=do_job)\n",
    "filemenu.add_command(label='Open', command=do_job)\n",
    "filemenu.add_command(label='Save', command=do_job)\n",
    "filemenu.add_separator()\n",
    "filemenu.add_command(label='Exit', command=window.quit)\n",
    "\n",
    "editmenu = tk.Menu(menubar, tearoff=0)\n",
    "menubar.add_cascade(label='Edit', menu=editmenu)\n",
    "editmenu.add_command(label='Cut', command=do_job)\n",
    "editmenu.add_command(label='Copy', command=do_job)\n",
    "editmenu.add_command(label='Paste', command=do_job)\n",
    "\n",
    "submenu = tk.Menu(filemenu)\n",
    "filemenu.add_cascade(label='Import', menu=submenu, underline=0)\n",
    "submenu.add_command(label=\"Submenu1\", command=do_job)\n",
    "\n",
    "window.config(menu=menubar)\n",
    "\n",
    "window.mainloop()"
   ]
  },
  {
   "cell_type": "code",
   "execution_count": null,
   "metadata": {},
   "outputs": [],
   "source": []
  }
 ],
 "metadata": {
  "kernelspec": {
   "display_name": "Python 3",
   "language": "python",
   "name": "python3"
  },
  "language_info": {
   "codemirror_mode": {
    "name": "ipython",
    "version": 3
   },
   "file_extension": ".py",
   "mimetype": "text/x-python",
   "name": "python",
   "nbconvert_exporter": "python",
   "pygments_lexer": "ipython3",
   "version": "3.7.3"
  }
 },
 "nbformat": 4,
 "nbformat_minor": 2
}
