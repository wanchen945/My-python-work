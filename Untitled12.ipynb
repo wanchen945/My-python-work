{
 "cells": [
  {
   "cell_type": "code",
   "execution_count": 1,
   "metadata": {},
   "outputs": [],
   "source": [
    "%matplotlib inline\n",
    "import numpy as np\n",
    "import pandas as pd\n",
    "import matplotlib.pyplot as plt\n",
    "from numpy.random import randint\n",
    "from numpy.random import choice\n",
    "from IPython.display import display,HTML,Markdown,Image,YouTubeVideo\n",
    "from ipywidgets import interact\n",
    "import random\n",
    "funvideo=YouTubeVideo(\"5bqiK98bVGQ\")\n",
    "funvideo_2=YouTubeVideo(\"AZ4s3UnQW6s\")\n",
    "funvideo_3=YouTubeVideo(\"5bqiK98bVGQ\")"
   ]
  },
  {
   "cell_type": "code",
   "execution_count": 3,
   "metadata": {},
   "outputs": [
    {
     "name": "stdout",
     "output_type": "stream",
     "text": [
      "那真是太棒了，小天使今天也超級開心的\n",
      "在這開心的日子裡，我們來玩個剪刀石頭布吧\n",
      "好不好？只能說好喔好\n",
      "好，那我們來玩吧\n",
      "石頭， 布， 剪刀，結束遊戲？\n",
      "你出：剪刀\n",
      "小天使出： 石頭\n",
      "你輸了不哭不哭... 石頭 砸壞了 剪刀\n",
      "石頭， 布， 剪刀，結束遊戲？\n",
      "你出：結束遊戲\n",
      "小天使出： 剪刀\n",
      "哈哈哈你覺得好玩嗎？還不錯\n",
      "小天使覺得很好玩ε٩(๑> ₃ <)۶з謝謝你陪小天使玩\n"
     ]
    }
   ],
   "source": [
    "if \"好\" or \"超好\" in first_q:\n",
    "    \n",
    "    print(\"那真是太棒了，小天使今天也超級開心的\")\n",
    "    print(\"在這開心的日子裡，我們來玩個剪刀石頭布吧\")\n",
    "    input(\"好不好？只能說好喔\")\n",
    "    print(\"好，那我們來玩吧\")\n",
    "        \n",
    "    move = [\"剪刀\", \"石頭\", \"布\"]\n",
    "\n",
    "    computer = move[randint(0,2)]\n",
    "\n",
    "    player = False\n",
    "\n",
    "\n",
    "    while player == False:\n",
    "    \n",
    "        print(\"石頭， 布， 剪刀，結束遊戲？\")\n",
    "        player = input(\"你出：\")\n",
    "    \n",
    "        computer = move[randint(0,2)]\n",
    "        print(\"小天使出： \" + computer)\n",
    "\n",
    "        if player == computer:\n",
    "            print(\"平手!\")\n",
    "    \n",
    "        elif player == \"石頭\":\n",
    "        \n",
    "            if computer == \"布\":\n",
    "                print(\"你輸了嘿嘿!\", computer, \"包住\", player)\n",
    "        \n",
    "            else:\n",
    "                print(\"嗚嗚你贏了!\", player, \"砸壞了\", computer)\n",
    "    \n",
    "        elif player == \"布\":\n",
    "        \n",
    "            if computer == \"剪刀\":\n",
    "                print(\"你輸了嘿嘿!\", computer, \"剪掉\", player)\n",
    "        \n",
    "            else:\n",
    "                print(\"嗚嗚你贏了!\", player, \"包住\", computer)\n",
    "   \n",
    "        elif player == \"剪刀\":\n",
    "        \n",
    "            if computer == \"石頭\":\n",
    "                print(\"你輸了不哭不哭...\", computer, \"砸壞了\", player)\n",
    "        \n",
    "            else:\n",
    "                print(\"你贏了棒棒!\", player, \"剪掉\", computer)\n",
    "    \n",
    "        elif player==\"結束遊戲\":\n",
    "            break\n",
    "\n",
    "        \n",
    "        else:\n",
    "            print(\"認真點啦小天使想跟你玩剪刀石頭不很久了耶～只能輸入 剪刀 石頭 布 唷\")\n",
    "    \n",
    "        player = False\n",
    "\n",
    "input(\"哈哈哈你覺得好玩嗎？\")\n",
    "print(\"小天使覺得很好玩ε٩(๑> ₃ <)۶з謝謝你陪小天使玩\")"
   ]
  },
  {
   "cell_type": "code",
   "execution_count": null,
   "metadata": {},
   "outputs": [],
   "source": []
  }
 ],
 "metadata": {
  "kernelspec": {
   "display_name": "Python 3",
   "language": "python",
   "name": "python3"
  },
  "language_info": {
   "codemirror_mode": {
    "name": "ipython",
    "version": 3
   },
   "file_extension": ".py",
   "mimetype": "text/x-python",
   "name": "python",
   "nbconvert_exporter": "python",
   "pygments_lexer": "ipython3",
   "version": "3.7.3"
  }
 },
 "nbformat": 4,
 "nbformat_minor": 2
}
