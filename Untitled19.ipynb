{
 "cells": [
  {
   "cell_type": "code",
   "execution_count": 7,
   "metadata": {},
   "outputs": [
    {
     "name": "stdout",
     "output_type": "stream",
     "text": [
      "点了菜单了，明天2019五一假期来了\n"
     ]
    }
   ],
   "source": [
    "import tkinter\n",
    " \n",
    " \n",
    "def xFunc():\n",
    "    print(\"点了菜单了，明天2019五一假期来了\")\n",
    " \n",
    " \n",
    "win = tkinter.Tk()\n",
    "win.title(\"Kahn Software v1\")    # #窗口标题\n",
    "win.geometry(\"500x500+200+20\")\n",
    "'''\n",
    "菜单\n",
    "'''\n",
    "menubar = tkinter.Menu(win)   # #创建横向菜单条\n",
    "win.config(menu=menubar)\n",
    " \n",
    "# #大菜单1\n",
    "menu1 = tkinter.Menu(menubar, tearoff=False)   # #创建菜单选项\n",
    "for item in [\"打开\", \"新建\", \"编辑\", \"拷贝\", \"删除\", \"退出\"]:\n",
    "    if item == \"退出\":\n",
    "        menu1.add_separator()           # #添加分割线(可选)\n",
    "        menu1.add_command(label=item, command=win.quit)     # #退出窗体程序\n",
    "    else:\n",
    "        menu1.add_command(label=item, command=xFunc)           # #给菜单加具体的菜单内容\n",
    "menubar.add_cascade(label=\"文件大菜单\", menu=menu1)    # #往菜单条上增加菜单叫【文件】\n",
    " \n",
    "# #大菜单2\n",
    "menu2 = tkinter.Menu(menubar, tearoff=False)   # #创建第二个菜单\n",
    "menu2.add_command(label=\"配置\")\n",
    "menu2.add_command(label=\"选项\")\n",
    "menu2.add_command(label=\"全局设定\")\n",
    "menubar.add_cascade(label=\"配置大菜单\", menu=menu2)     # #将第二个子菜单列表绑定到菜单2上\n",
    " \n",
    "win.mainloop()   # #窗口持久化"
   ]
  },
  {
   "cell_type": "code",
   "execution_count": null,
   "metadata": {},
   "outputs": [],
   "source": []
  }
 ],
 "metadata": {
  "kernelspec": {
   "display_name": "Python 3",
   "language": "python",
   "name": "python3"
  },
  "language_info": {
   "codemirror_mode": {
    "name": "ipython",
    "version": 3
   },
   "file_extension": ".py",
   "mimetype": "text/x-python",
   "name": "python",
   "nbconvert_exporter": "python",
   "pygments_lexer": "ipython3",
   "version": "3.7.3"
  }
 },
 "nbformat": 4,
 "nbformat_minor": 2
}
