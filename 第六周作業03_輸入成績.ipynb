{
 "cells": [
  {
   "cell_type": "markdown",
   "metadata": {},
   "source": [
    "# 人人都是人才"
   ]
  },
  {
   "cell_type": "code",
   "execution_count": 41,
   "metadata": {},
   "outputs": [],
   "source": [
    "%matplotlib inline\n",
    "import numpy as np\n",
    "import matplotlib.pyplot as plt\n",
    "import pandas as pd"
   ]
  },
  {
   "cell_type": "code",
   "execution_count": 39,
   "metadata": {},
   "outputs": [
    {
     "name": "stdout",
     "output_type": "stream",
     "text": [
      "請輸入分數：9\n",
      "下次目標兩位數ლ(╹◡╹ლ)，你一定行的\n",
      "課業不好沒關係，找到自己的興趣、喜歡的，往那方面探索與專精，一樣也會是超厲害的人喔，相信你未來一定也能在你喜歡的地方發光發熱( ^ω^)\n"
     ]
    }
   ],
   "source": [
    "score=float(input(\"請輸入分數：\"))\n",
    "if (score==100):\n",
    "        print(\"你超棒！送你兩個甜甜圈\")\n",
    "elif(score>=90):\n",
    "        print(\"好厲害！送你一個雙胞胎\")\n",
    "elif(score>=80):\n",
    "        print(\"很不錯耶！繼續加油！記得適度休息喲(*´▽`*)\")\n",
    "elif(score>=70):\n",
    "        print(\"Lucky7讚讚\")\n",
    "elif(score==66):\n",
    "        print(\"66大順，之後一定超順利的啦，不用擔心\")\n",
    "elif(score>=60):\n",
    "        print(\"Great！老師有看到你的努力，之後用自己的步調一點一點慢慢吸收，未來絕對是個人才\")\n",
    "elif(score>=50):\n",
    "        print('''別氣餒, You almost did it 和自己擊個掌吧(*´ω`)人(´ω`*)\n",
    "老師有看到你的努力，之後用自己的步調一點一點慢慢吸收，未來絕對是個人才''')\n",
    "elif(score>=40):\n",
    "        print(\"You're potenial, don't give up.有問題隨時都可以來找老師喔, I know you can do it ε(*´･∀･｀)зﾞ\")\n",
    "elif(score>=30):\n",
    "        print(\"You're potenial, don't give up.有問題隨時都可以來找老師喔, I know you can do it ε(*´･∀･｀)зﾞ\")\n",
    "elif(score>=20):\n",
    "        print(\"You're potenial, don't give up.在念書之餘，也要記得去找尋自己的興趣喔(」・ω・)」うー！(／・ω・)／にゃー！\")\n",
    "elif(score>=10):\n",
    "        print(\"You're potenial, don't give up.在念書之餘，也要記得去找尋自己的興趣喔(」・ω・)」うー！(／・ω・)／にゃー！\")\n",
    "else:\n",
    "        print('''下次目標兩位數ლ(╹◡╹ლ)，你一定行的\n",
    "課業不好沒關係，找到自己的興趣、喜歡的，往那方面探索與專精，一樣也會是超厲害的人喔，相信你未來一定也能在你喜歡的地方發光發熱( ^ω^)''')"
   ]
  }
 ],
 "metadata": {
  "kernelspec": {
   "display_name": "Python 3",
   "language": "python",
   "name": "python3"
  },
  "language_info": {
   "codemirror_mode": {
    "name": "ipython",
    "version": 3
   },
   "file_extension": ".py",
   "mimetype": "text/x-python",
   "name": "python",
   "nbconvert_exporter": "python",
   "pygments_lexer": "ipython3",
   "version": "3.7.3"
  }
 },
 "nbformat": 4,
 "nbformat_minor": 2
}
