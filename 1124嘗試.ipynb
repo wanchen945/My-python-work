{
 "cells": [
  {
   "cell_type": "code",
   "execution_count": 1,
   "metadata": {},
   "outputs": [],
   "source": [
    "%matplotlib inline\n",
    "import numpy as np\n",
    "import pandas as pd\n",
    "import matplotlib.pyplot as plt\n",
    "from numpy.random import randint\n",
    "from numpy.random import choice\n",
    "from IPython.display import display,HTML,Markdown,Image,YouTubeVideo\n",
    "from ipywidgets import interact\n",
    "import random\n",
    "funvideo=YouTubeVideo(\"5bqiK98bVGQ\")\n",
    "funvideo_2=YouTubeVideo(\"AZ4s3UnQW6s\")\n",
    "funvideo_3=YouTubeVideo(\"5bqiK98bVGQ\")"
   ]
  },
  {
   "cell_type": "code",
   "execution_count": 16,
   "metadata": {},
   "outputs": [
    {
     "name": "stdout",
     "output_type": "stream",
     "text": [
      "今天心情好嗎？好\n",
      "那真是太棒了，小天使今天也超級開心的\n"
     ]
    }
   ],
   "source": [
    "first_q=input(\"今天心情好嗎？\")\n",
    "if \"不好\"  in first_q:\n",
    "        print(\"發生了什麼事？要跟我說說嗎？我是一個很棒的傾聽者黝\")\n",
    "elif \"還好\" in first_q:\n",
    "        print(\"那很棒耶，那跟小天使玩個猜數字的遊戲吧，小天使好想玩喔\")\n",
    "elif \"好\" in first_q:\n",
    "    print(\"那真是太棒了，小天使今天也超級開心的\")\n",
    "else:\n",
    "    print(\"小天使不太很明白你的意思，我還在學習中，等小天使變聰明以後，就能明白你說什麼了\")"
   ]
  },
  {
   "cell_type": "code",
   "execution_count": 11,
   "metadata": {},
   "outputs": [
    {
     "name": "stdout",
     "output_type": "stream",
     "text": [
      "今天心情好嗎？fij\n",
      "那很棒耶，那跟小天使玩個猜數字的遊戲吧，小天使好想玩喔\n"
     ]
    }
   ],
   "source": [
    "first_q=input(\"今天心情好嗎？\")\n",
    "if \"不好\" in first_q:\n",
    "        print(\"發生了什麼事？要跟我說說嗎？我是一個很棒的傾聽者黝\")\n",
    "elif \"還好\" or \"還不錯\" in first_q:\n",
    "        print(\"那很棒耶，那跟小天使玩個猜數字的遊戲吧，小天使好想玩喔\")\n",
    "elif \"好\" or \"超好\" in first_q:\n",
    "    print(\"那真是太棒了，小天使今天也超級開心的\")\n",
    "else:\n",
    "    print(\"小天使不太很明白你的意思，我還在學習中，等小天使變聰明以後，就能明白你說什麼了\")"
   ]
  },
  {
   "cell_type": "code",
   "execution_count": null,
   "metadata": {},
   "outputs": [],
   "source": []
  }
 ],
 "metadata": {
  "kernelspec": {
   "display_name": "Python 3",
   "language": "python",
   "name": "python3"
  },
  "language_info": {
   "codemirror_mode": {
    "name": "ipython",
    "version": 3
   },
   "file_extension": ".py",
   "mimetype": "text/x-python",
   "name": "python",
   "nbconvert_exporter": "python",
   "pygments_lexer": "ipython3",
   "version": "3.7.3"
  }
 },
 "nbformat": 4,
 "nbformat_minor": 2
}
