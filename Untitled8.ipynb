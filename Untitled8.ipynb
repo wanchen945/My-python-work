{
 "cells": [
  {
   "cell_type": "code",
   "execution_count": 6,
   "metadata": {},
   "outputs": [],
   "source": [
    "%matplotlib inline\n",
    "import numpy as np\n",
    "import pandas as pd\n",
    "import matplotlib.pyplot as plt\n",
    "from numpy.random import randint\n",
    "from numpy.random import choice\n",
    "from IPython.display import display,HTML,Markdown,Image,YouTubeVideo\n",
    "from ipywidgets import interact\n",
    "funvideo=YouTubeVideo(\"5bqiK98bVGQ\")\n",
    "funvideo_2=YouTubeVideo(\"AZ4s3UnQW6s\")\n",
    "funvideo_3=YouTubeVideo(\"5bqiK98bVGQ\")"
   ]
  },
  {
   "cell_type": "code",
   "execution_count": 13,
   "metadata": {},
   "outputs": [
    {
     "name": "stdout",
     "output_type": "stream",
     "text": [
      "請輸入數字：1、2、3、4，分別代表剪刀、石頭、布、結束遊戲：2\n"
     ]
    },
    {
     "ename": "TypeError",
     "evalue": "'int' object is not subscriptable",
     "output_type": "error",
     "traceback": [
      "\u001b[1;31m---------------------------------------------------------------------------\u001b[0m",
      "\u001b[1;31mTypeError\u001b[0m                                 Traceback (most recent call last)",
      "\u001b[1;32m<ipython-input-13-0c164e0af6fe>\u001b[0m in \u001b[0;36m<module>\u001b[1;34m\u001b[0m\n\u001b[0;32m     14\u001b[0m         \u001b[0mprint\u001b[0m\u001b[1;33m(\u001b[0m\u001b[1;34m\"電腦出 :\"\u001b[0m\u001b[1;33m+\u001b[0m\u001b[0mmy_RockPaperScissors\u001b[0m\u001b[1;33m[\u001b[0m\u001b[0mcomputer_RockPaperScissors\u001b[0m\u001b[1;33m]\u001b[0m\u001b[1;33m+\u001b[0m\u001b[1;34m\"你贏了！\"\u001b[0m\u001b[1;33m)\u001b[0m\u001b[1;33m\u001b[0m\u001b[1;33m\u001b[0m\u001b[0m\n\u001b[0;32m     15\u001b[0m     \u001b[1;32melif\u001b[0m \u001b[1;33m(\u001b[0m\u001b[0mmy_RockPaperScissors\u001b[0m\u001b[1;33m==\u001b[0m\u001b[1;36m2\u001b[0m \u001b[1;32mand\u001b[0m \u001b[0mcomputer_RockPaperScissors\u001b[0m\u001b[1;33m==\u001b[0m\u001b[1;36m3\u001b[0m\u001b[1;33m)\u001b[0m \u001b[1;32mor\u001b[0m \u001b[1;33m(\u001b[0m\u001b[0mmy_RockPaperScissors\u001b[0m\u001b[1;33m==\u001b[0m\u001b[1;36m1\u001b[0m \u001b[1;32mand\u001b[0m \u001b[0mcomputer_RockPaperScissors\u001b[0m\u001b[1;33m==\u001b[0m\u001b[1;36m2\u001b[0m\u001b[1;33m)\u001b[0m \u001b[1;32mor\u001b[0m \u001b[1;33m(\u001b[0m\u001b[0mmy_RockPaperScissors\u001b[0m\u001b[1;33m==\u001b[0m\u001b[1;36m3\u001b[0m \u001b[1;32mand\u001b[0m \u001b[0mcomputer_RockPaperScissors\u001b[0m\u001b[1;33m==\u001b[0m\u001b[1;36m2\u001b[0m\u001b[1;33m)\u001b[0m\u001b[1;33m:\u001b[0m\u001b[1;33m\u001b[0m\u001b[1;33m\u001b[0m\u001b[0m\n\u001b[1;32m---> 16\u001b[1;33m         \u001b[0mprint\u001b[0m\u001b[1;33m(\u001b[0m\u001b[1;34m\"電腦出 :\"\u001b[0m\u001b[1;33m+\u001b[0m\u001b[0mmy_RockPaperScissors\u001b[0m\u001b[1;33m[\u001b[0m\u001b[0mcomputer_RockPaperScissors\u001b[0m\u001b[1;33m]\u001b[0m\u001b[1;33m+\u001b[0m\u001b[1;34m\"你輸了！\"\u001b[0m\u001b[1;33m)\u001b[0m\u001b[1;33m\u001b[0m\u001b[1;33m\u001b[0m\u001b[0m\n\u001b[0m",
      "\u001b[1;31mTypeError\u001b[0m: 'int' object is not subscriptable"
     ]
    }
   ],
   "source": [
    "import random\n",
    "my_RockPaperScissors=[\"\",\"剪刀\",\"石頭\",\"布\"]\n",
    "while 1:\n",
    "    computer_RockPaperScissors=random.randrange(1,4)\n",
    "    my_RockPaperScissors=int(input(\"請輸入數字：1、2、3、4，分別代表剪刀、石頭、布、結束遊戲：\"))\n",
    "    if (my_RockPaperScissors<1) or (my_RockPaperScissors>4):\n",
    "        print(\"輸入錯誤，請重新輸入\")\n",
    "    elif (my_RockPaperScissors==4):\n",
    "        print(\"遊戲結束了，玩得開心嗎\")\n",
    "        break\n",
    "    elif (my_RockPaperScissors==computer_RockPaperScissors):\n",
    "        print(\"電腦出 :\"+my_RockPaperScissors[computer_RockPaperScissors]+\",平手！\")\n",
    "    elif (my_RockPaperScissors==2 and computer_RockPaperScissors==1) or (my_RockPaperScissors==1 and computer_RockPaperScissors==3) or (my_RockPaperScissors==3 and computer_RockPaperScissors==2):\n",
    "        print(\"電腦出 :\"+my_RockPaperScissors[computer_RockPaperScissors]+\"你贏了！\")\n",
    "    elif (my_RockPaperScissors==2 and computer_RockPaperScissors==3) or (my_RockPaperScissors==1 and computer_RockPaperScissors==2) or (my_RockPaperScissors==3 and computer_RockPaperScissors==2):\n",
    "        print(\"電腦出 :\"+my_RockPaperScissors[computer_RockPaperScissors]+\"你輸了！\")"
   ]
  },
  {
   "cell_type": "code",
   "execution_count": 15,
   "metadata": {},
   "outputs": [
    {
     "name": "stdout",
     "output_type": "stream",
     "text": [
      "請輸入數字：1、2、3、4，分別代表剪刀、石頭、布、結束遊戲：2\n",
      "請輸入數字：1、2、3、4，分別代表剪刀、石頭、布、結束遊戲：3\n",
      "請輸入數字：1、2、3、4，分別代表剪刀、石頭、布、結束遊戲：4\n",
      "遊戲結束\n"
     ]
    }
   ],
   "source": [
    "mpss=[\"\",\"剪刀\",\"石頭\",\"布\"]\n",
    "while 1:\n",
    "    s=random.randrange(1,4)\n",
    "    m=int(input(\"請輸入數字：1、2、3、4，分別代表剪刀、石頭、布、結束遊戲：\"))\n",
    "    if (m<1) or (m>4):\n",
    "        print(\"輸入錯誤，請重新輸入\")\n",
    "    elif (m==4):\n",
    "        print(\"遊戲結束\")\n",
    "        break\n",
    "    elif (mpss==s):\n",
    "        print(\"電腦出 :\"+mpss[str(s)]+\",平手！\")\n",
    "    elif (mpss==2 and s==1) or (mpss==1 and s==3) or (mpss==3 and s==2):\n",
    "        print(\"電腦出 :\"+mpss[str(s)]+\"你贏了！\")\n",
    "    elif (mpss==2 and s==3) or (mpss==1 and s==2) or (mpss==3 and s==2):\n",
    "        print(\"電腦出 :\"+mpss[str(s)]+\"你輸了！\")"
   ]
  },
  {
   "cell_type": "code",
   "execution_count": null,
   "metadata": {},
   "outputs": [],
   "source": []
  }
 ],
 "metadata": {
  "kernelspec": {
   "display_name": "Python 3",
   "language": "python",
   "name": "python3"
  },
  "language_info": {
   "codemirror_mode": {
    "name": "ipython",
    "version": 3
   },
   "file_extension": ".py",
   "mimetype": "text/x-python",
   "name": "python",
   "nbconvert_exporter": "python",
   "pygments_lexer": "ipython3",
   "version": "3.7.3"
  }
 },
 "nbformat": 4,
 "nbformat_minor": 2
}
