{
 "cells": [
  {
   "cell_type": "markdown",
   "metadata": {},
   "source": [
    "### 輸出絕對值"
   ]
  },
  {
   "cell_type": "code",
   "execution_count": 6,
   "metadata": {},
   "outputs": [
    {
     "name": "stdout",
     "output_type": "stream",
     "text": [
      "請輸入任意數值:89.9\n",
      "89.9的絕對值為 89.9\n"
     ]
    }
   ],
   "source": [
    "x=float(input(\"請輸入任意數值:\"))\n",
    "value=x if x>0 else -1*x\n",
    "print(\"{}的絕對值為\".format(x),float(value))"
   ]
  },
  {
   "cell_type": "markdown",
   "metadata": {},
   "source": [
    "### 正負數交叉輸出"
   ]
  },
  {
   "cell_type": "code",
   "execution_count": 4,
   "metadata": {},
   "outputs": [
    {
     "name": "stdout",
     "output_type": "stream",
     "text": [
      "請輸入任意數值:56\n",
      "56 為正數，輸出-56\n"
     ]
    }
   ],
   "source": [
    "y=float(input(\"請輸入任意數值:\"))\n",
    "if y>0:\n",
    "    print(int(y),\"為正數，輸出-{:.0f}\".format(int(y)))\n",
    "else:\n",
    "    print(int(y),\"為負數，輸出+{:.0f}\".format(int(-1*y)))"
   ]
  }
 ],
 "metadata": {
  "kernelspec": {
   "display_name": "Python 3",
   "language": "python",
   "name": "python3"
  },
  "language_info": {
   "codemirror_mode": {
    "name": "ipython",
    "version": 3
   },
   "file_extension": ".py",
   "mimetype": "text/x-python",
   "name": "python",
   "nbconvert_exporter": "python",
   "pygments_lexer": "ipython3",
   "version": "3.7.3"
  }
 },
 "nbformat": 4,
 "nbformat_minor": 2
}
