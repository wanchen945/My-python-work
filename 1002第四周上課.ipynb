{
 "cells": [
  {
   "cell_type": "code",
   "execution_count": 2,
   "metadata": {},
   "outputs": [],
   "source": [
    "%matplotlib inline\n",
    "\n",
    "import pandas as pd\n",
    "import numpy as np\n",
    "import matplotlib.pyplot as plt"
   ]
  },
  {
   "cell_type": "code",
   "execution_count": 3,
   "metadata": {},
   "outputs": [],
   "source": [
    "from numpy.random import randint"
   ]
  },
  {
   "cell_type": "code",
   "execution_count": 8,
   "metadata": {},
   "outputs": [
    {
     "name": "stdout",
     "output_type": "stream",
     "text": [
      "4,2,8,8,7,9,6,3,1,8,3,4,7,7,1,2,7,8,4,7,7,6,1,6,4,9,8,5,9,3,1,4,2,8,3,5,9,4,2,9,9,1,3,7,1,5,6,9,6,7,1,5,5,1,2,5,4,6,1,2,3,9,9,3,8,4,8,2,3,3,6,7,2,8,2,9,5,2,8,5,5,9,4,8,5,5,2,3,4,5,8,2,2,6,1,7,2,3,5,4,"
     ]
    }
   ],
   "source": [
    "for i in range(100):\n",
    "    print(randint(1,10),end=',')"
   ]
  },
  {
   "cell_type": "code",
   "execution_count": 10,
   "metadata": {},
   "outputs": [
    {
     "name": "stdout",
     "output_type": "stream",
     "text": [
      "1,4,4,3,5,"
     ]
    }
   ],
   "source": [
    "for i in range(5):\n",
    "    print(randint(1,11),end=',')"
   ]
  },
  {
   "cell_type": "code",
   "execution_count": 86,
   "metadata": {},
   "outputs": [],
   "source": [
    "words=\"雨\\n風\\n天空\\n哭泣\\n戀愛\\n相遇\\n分離\\n忘記\\n心碎\\n漠然\\n吹過\\n思念\\n靈魂\\n停止\\n回憶\\n吹拂\\n譁然\\n暗夜\\n鼓譟\\n靦腆\\n樹葉\\n掉落\\n追求\\n不挽留\""
   ]
  },
  {
   "cell_type": "code",
   "execution_count": 95,
   "metadata": {},
   "outputs": [
    {
     "data": {
      "text/plain": [
       "'\\n雨\\n風\\n的\\n了\\n天空\\n哭泣\\n戀愛\\n相遇\\n分離\\n忘記\\n心碎\\n驀然\\n吹過\\n思念\\n靈魂\\n停止\\n回憶\\n吹拂\\n譁然\\n暗夜\\n鼓譟\\n靦腆\\n樹葉\\n掉落\\n追求\\n挽留\\n不挽留'"
      ]
     },
     "execution_count": 95,
     "metadata": {},
     "output_type": "execute_result"
    }
   ],
   "source": [
    "words"
   ]
  },
  {
   "cell_type": "code",
   "execution_count": 88,
   "metadata": {},
   "outputs": [],
   "source": [
    "phrase=words.split('\\n')"
   ]
  },
  {
   "cell_type": "code",
   "execution_count": 91,
   "metadata": {},
   "outputs": [],
   "source": [
    "from numpy.random import choice"
   ]
  },
  {
   "cell_type": "code",
   "execution_count": 92,
   "metadata": {},
   "outputs": [
    {
     "data": {
      "text/plain": [
       "array(['靈魂', '相遇', '雨', '思念', '戀愛'], dtype='<U3')"
      ]
     },
     "execution_count": 92,
     "metadata": {},
     "output_type": "execute_result"
    }
   ],
   "source": [
    "choice(phrase,5)"
   ]
  },
  {
   "cell_type": "code",
   "execution_count": 97,
   "metadata": {},
   "outputs": [
    {
     "name": "stdout",
     "output_type": "stream",
     "text": [
      "*\n",
      "*\n",
      "*\n"
     ]
    }
   ],
   "source": [
    "l=randint(3,6)#3-5句\n",
    "\n",
    "for i in range(l):\n",
    "    print(\"*\")"
   ]
  },
  {
   "cell_type": "code",
   "execution_count": null,
   "metadata": {},
   "outputs": [],
   "source": [
    "ll="
   ]
  },
  {
   "cell_type": "code",
   "execution_count": 81,
   "metadata": {},
   "outputs": [
    {
     "data": {
      "text/plain": [
       "array(['吹過', '風', '鼓譟', '風', '戀愛'], dtype='<U3')"
      ]
     },
     "execution_count": 81,
     "metadata": {},
     "output_type": "execute_result"
    }
   ],
   "source": [
    "egg"
   ]
  },
  {
   "cell_type": "code",
   "execution_count": 82,
   "metadata": {},
   "outputs": [
    {
     "data": {
      "text/plain": [
       "'吹過 風 鼓譟 風 戀愛'"
      ]
     },
     "execution_count": 82,
     "metadata": {},
     "output_type": "execute_result"
    }
   ],
   "source": [
    "' '.join(egg)#空白隔開"
   ]
  },
  {
   "cell_type": "code",
   "execution_count": 83,
   "metadata": {},
   "outputs": [
    {
     "name": "stdout",
     "output_type": "stream",
     "text": [
      "旺季 思念 吹過 靈魂 戀愛 暗夜\n",
      "旺季 掉落 相遇 天空 靦腆 鼓譟\n",
      "追求 戀愛 心碎 靈魂 靦腆 吹拂\n",
      "譁然 分離 旺季 心碎 不挽留 思念 鼓譟\n",
      "不挽留 暗夜 分離 相遇 追求 追求\n"
     ]
    }
   ],
   "source": [
    "n=randint(3,6)#3-5句\n",
    "\n",
    "for i in range(n):\n",
    "    k=randint(5,8)\n",
    "    egg=choice(phrase,k)\n",
    "    ham=' '.join(egg)\n",
    "    print(ham)"
   ]
  },
  {
   "cell_type": "code",
   "execution_count": 98,
   "metadata": {},
   "outputs": [
    {
     "name": "stdout",
     "output_type": "stream",
     "text": [
      "他的 粉紅泡泡 偶然 與 雨衣\n",
      "甜的 照耀 眼神 戀愛 只剩 心碎\n",
      "難過 分離 分離 驚嘆 譁然\n"
     ]
    }
   ],
   "source": [
    "%matplotlib inline\n",
    "\n",
    "import pandas as pd\n",
    "import numpy as np\n",
    "import matplotlib.pyplot as plt\n",
    "\n",
    "from numpy.random import randint\n",
    "from numpy.random import choice\n",
    "words='''\n",
    "雨\n",
    "雨的\n",
    "雨絲\n",
    "雨衣\n",
    "雨水\n",
    "露水\n",
    "陽光\n",
    "微光\n",
    "光線\n",
    "照耀\n",
    "光耀\n",
    "風\n",
    "風的\n",
    "呼呼聲\n",
    "冷\n",
    "冷冷的\n",
    "冷顫\n",
    "顫抖\n",
    "披風\n",
    "緊緊的\n",
    "綑綁住\n",
    "掙脫\n",
    "的\n",
    "了\n",
    "天空\n",
    "彩虹\n",
    "雲朵\n",
    "飛機\n",
    "乘客\n",
    "行人\n",
    "走過\n",
    "不回頭\n",
    "回頭嗎？\n",
    "嗎\n",
    "驚嘆\n",
    "只剩\n",
    "一絲氣息\n",
    "結束\n",
    "轉捩點\n",
    "休息\n",
    "短暫\n",
    "我們\n",
    "難過\n",
    "哭泣\n",
    "你們\n",
    "啜泣聲\n",
    "戀愛\n",
    "粉紅泡泡\n",
    "綻放\n",
    "他們\n",
    "光芒\n",
    "甜的\n",
    "相遇\n",
    "偶然\n",
    "說\n",
    "說的\n",
    "巧遇\n",
    "眼神\n",
    "緣分\n",
    "一絲\n",
    "夢話\n",
    "髮絲\n",
    "他的\n",
    "她的\n",
    "分離\n",
    "忘記\n",
    "心碎\n",
    "你\n",
    "驀然\n",
    "吹過\n",
    "思念\n",
    "它的\n",
    "我\n",
    "靈魂\n",
    "停止\n",
    "回憶\n",
    "吹拂\n",
    "譁然\n",
    "暗夜\n",
    "鼓譟\n",
    "靦腆\n",
    "樹葉\n",
    "掉落\n",
    "追求\n",
    "挽留\n",
    "與\n",
    "不挽留\n",
    "步伐\n",
    "緩慢的'''\n",
    "phrase=words.split('\\n')\n",
    "n=randint(3,6)#3-5句\n",
    "\n",
    "for i in range(n):\n",
    "    k=randint(5,8)\n",
    "    egg=choice(phrase,k)\n",
    "    ham=' '.join(egg)\n",
    "    print(ham)\n"
   ]
  },
  {
   "cell_type": "code",
   "execution_count": null,
   "metadata": {},
   "outputs": [],
   "source": []
  },
  {
   "cell_type": "code",
   "execution_count": null,
   "metadata": {},
   "outputs": [],
   "source": [
    "%matplotlib inline\n",
    "\n",
    "import pandas as pd\n",
    "import numpy as np\n",
    "import matplotlib.pyplot as plt\n",
    "\n",
    "from numpy.random import randint\n",
    "from numpy.random import choice\n",
    "words='''\n",
    "雨\n",
    "雨的\n",
    "雨絲\n",
    "雨衣\n",
    "雨水\n",
    "露水\n",
    "陽光\n",
    "微光\n",
    "光線\n",
    "照耀\n",
    "光耀\n",
    "風\n",
    "風的\n",
    "呼呼聲\n",
    "冷\n",
    "冷冷的\n",
    "冷顫\n",
    "顫抖\n",
    "披風\n",
    "緊緊的\n",
    "綑綁住\n",
    "掙脫\n",
    "的\n",
    "了\n",
    "天空\n",
    "彩虹\n",
    "雲朵\n",
    "飛機\n",
    "乘客\n",
    "行人\n",
    "走過\n",
    "不回頭\n",
    "回頭嗎？\n",
    "嗎\n",
    "驚嘆\n",
    "只剩\n",
    "一絲氣息\n",
    "結束\n",
    "轉捩點\n",
    "休息\n",
    "短暫\n",
    "我們\n",
    "難過\n",
    "哭泣\n",
    "你們\n",
    "啜泣聲\n",
    "戀愛\n",
    "粉紅泡泡\n",
    "綻放\n",
    "他們\n",
    "光芒\n",
    "甜的\n",
    "相遇\n",
    "偶然\n",
    "說\n",
    "說的\n",
    "巧遇\n",
    "眼神\n",
    "緣分\n",
    "一絲\n",
    "夢話\n",
    "髮絲\n",
    "他的\n",
    "她的\n",
    "分離\n",
    "忘記\n",
    "心碎\n",
    "你\n",
    "驀然\n",
    "吹過\n",
    "思念\n",
    "它的\n",
    "我\n",
    "靈魂\n",
    "停止\n",
    "回憶\n",
    "吹拂\n",
    "譁然\n",
    "暗夜\n",
    "鼓譟\n",
    "靦腆\n",
    "樹葉\n",
    "掉落\n",
    "追求\n",
    "挽留\n",
    "與\n",
    "不挽留'''\n",
    "phrase=words.split('\\n')\n",
    "n=randint(3,6)#3-5句\n",
    "\n",
    "for i in range(n):\n",
    "    k=randint(5,8)\n",
    "    egg=choice(phrase,k)\n",
    "    ham=' '.join(egg)\n",
    "    print(ham)"
   ]
  },
  {
   "cell_type": "markdown",
   "metadata": {},
   "source": [
    "# GitHub"
   ]
  },
  {
   "cell_type": "code",
   "execution_count": null,
   "metadata": {},
   "outputs": [],
   "source": []
  },
  {
   "cell_type": "code",
   "execution_count": null,
   "metadata": {},
   "outputs": [],
   "source": []
  },
  {
   "cell_type": "code",
   "execution_count": null,
   "metadata": {},
   "outputs": [],
   "source": [
    "phrase=words.split('\\n')\n",
    "phrase_2=words_2.split('\\n')\n",
    "phrase_3=words_3.split('\\n')\n",
    "phrase_4=words_4.split('\\n')\n",
    "phrase_5=words_5.split('\\n')"
   ]
  }
 ],
 "metadata": {
  "kernelspec": {
   "display_name": "Python 3",
   "language": "python",
   "name": "python3"
  },
  "language_info": {
   "codemirror_mode": {
    "name": "ipython",
    "version": 3
   },
   "file_extension": ".py",
   "mimetype": "text/x-python",
   "name": "python",
   "nbconvert_exporter": "python",
   "pygments_lexer": "ipython3",
   "version": "3.7.3"
  }
 },
 "nbformat": 4,
 "nbformat_minor": 2
}
