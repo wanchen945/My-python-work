{
 "cells": [
  {
   "cell_type": "markdown",
   "metadata": {},
   "source": [
    "### ■ 使用者輸入R：讓使用者註冊，使用者輸入帳號密碼，將帳號、密碼分別以鍵、值存入字典中\n",
    "### ■ 使用者輸入L：讓使用者登入，檢查使用者輸入的帳號密碼對應是否正確"
   ]
  },
  {
   "cell_type": "code",
   "execution_count": 1,
   "metadata": {},
   "outputs": [],
   "source": [
    "%matplotlib inline\n",
    "\n",
    "import numpy as np\n",
    "import pandas as pd\n",
    "import matplotlib.pyplot as plt"
   ]
  },
  {
   "cell_type": "code",
   "execution_count": 1,
   "metadata": {},
   "outputs": [
    {
     "name": "stdout",
     "output_type": "stream",
     "text": [
      "請選擇想要進行的操作:註冊(R)、登入(L)、離開(Q):R\n",
      "請輸入帳號:Alice\n",
      "請輸入密碼:1234\n",
      "請選擇想要進行的操作:註冊(R)、登入(L)、離開(Q):R\n",
      "請輸入帳號:Alice\n",
      "帳號已存在\n",
      "請輸入帳號:Bob\n",
      "請輸入密碼:1234\n",
      "請選擇想要進行的操作:註冊(R)、登入(L)、離開(Q):L\n",
      "請輸入帳號:Alice\n",
      "請輸入密碼:1234\n",
      "登入成功\n",
      "請選擇想要進行的操作:註冊(R)、登入(L)、離開(Q):L\n",
      "請輸入帳號:Alice\n",
      "請輸入密碼:12\n",
      "密碼錯誤\n",
      "請選擇想要進行的操作:註冊(R)、登入(L)、離開(Q):L\n",
      "請輸入帳號:Claire\n",
      "帳號不存在\n",
      "請輸入帳號:Alice\n",
      "請輸入密碼:1234\n",
      "登入成功\n",
      "請選擇想要進行的操作:註冊(R)、登入(L)、離開(Q):X\n",
      "請輸入R、L、QQ\n",
      "請選擇想要進行的操作:註冊(R)、登入(L)、離開(Q):Q\n",
      "請選擇想要進行的操作:註冊(R)、登入(L)、離開(Q):Q\n"
     ]
    }
   ],
   "source": [
    "user_list={}\n",
    "while True:\n",
    "        mode=input(\"請選擇想要進行的操作:註冊(R)、登入(L)、離開(Q):\")\n",
    "        if mode==\"R\":\n",
    "                ID=input(\"請輸入帳號:\")\n",
    "                while ID in user_list:\n",
    "                        print(\"帳號已存在\")\n",
    "                        ID=input(\"請輸入帳號:\")\n",
    "                PW=input(\"請輸入密碼:\")\n",
    "                user_list[ID]=PW\n",
    "                \n",
    "        elif mode==\"L\":\n",
    "                ID=input(\"請輸入帳號:\")\n",
    "                while ID not in user_list:\n",
    "                        print(\"帳號不存在\")\n",
    "                        ID=input(\"請輸入帳號:\")\n",
    "                PW=input(\"請輸入密碼:\")\n",
    "                \n",
    "\n",
    "                if user_list[ID]==PW:\n",
    "                        print(\"登入成功\")\n",
    "                else:\n",
    "                        print(\"密碼錯誤\")\n",
    "        elif mode==\"Q\":\n",
    "                break\n",
    "        else:\n",
    "                mode=input(\"請輸入R、L、Q\")\n",
    "                mode=input(\"請選擇想要進行的操作:註冊(R)、登入(L)、離開(Q):\")"
   ]
  }
 ],
 "metadata": {
  "kernelspec": {
   "display_name": "Python 3",
   "language": "python",
   "name": "python3"
  },
  "language_info": {
   "codemirror_mode": {
    "name": "ipython",
    "version": 3
   },
   "file_extension": ".py",
   "mimetype": "text/x-python",
   "name": "python",
   "nbconvert_exporter": "python",
   "pygments_lexer": "ipython3",
   "version": "3.7.3"
  }
 },
 "nbformat": 4,
 "nbformat_minor": 2
}
