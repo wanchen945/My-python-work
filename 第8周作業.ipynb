{
 "cells": [
  {
   "cell_type": "markdown",
   "metadata": {},
   "source": [
    "### 有幾個字呢？"
   ]
  },
  {
   "cell_type": "code",
   "execution_count": 6,
   "metadata": {},
   "outputs": [],
   "source": [
    "%matplotlib inline\n",
    "import numpy as np\n",
    "import pandas as pd\n",
    "import matplotlib.pyplot as plt"
   ]
  },
  {
   "cell_type": "code",
   "execution_count": 7,
   "metadata": {},
   "outputs": [
    {
     "name": "stdout",
     "output_type": "stream",
     "text": [
      "請輸入一個英文句子:PHILADELPHIA — Franco Buttaro, 6, a kindergartner with autism, grew anxious while waiting in line to enter a Philadelphia Eagles game in early October. Once inside Lincoln Financial Field, his parents took him to a refuge called a sensory room that muffled noise from the arriving crowd, pregame music and fireworks.  There, Franco relaxed as he played with Slinky toys and the team mascot, Swoop, who is trained not to make sudden, exaggerated movements in front of this audience. Franco bounced in a pile of beanbag chairs, touched a display of soothing lights and rising bubbles and practiced his spelling with Legos on a wall-mounted replica of the Eagles’ field. As he played, he was assisted by a behavior analyst employed by the team.  Then Franco headed to his seat in the stadium, wearing a pair of noise-canceling headphones and the jersey of his favorite player, Eagles quarterback Carson Wentz. To his parents’ surprise and delight, after a second visit to the sensory room at halftime, Franco made it through the entire game as the Eagles defeated the New York Jets.The earsplitting noise, throbbing music, light shows and pyrotechnics that have become standard at sporting events can tarnish any fan’s experience. But the Eagles are among dozens of professional sports teams, and a smaller number of college teams, over the past two years to provide quiet spaces and other assistance for spectators with sensory challenges, who can be most acutely affected by the overwhelming environments.“Having a space where it’s calm and quiet, it allows Franco to hit the reset button,” said his father, Frank Buttaro III, of King of Prussia, Pa. “It opens up the opportunity for people that would most likely not be able to take their child to a game.”A year ago, before the Eagles’ sensory room existed, the family attended a preseason game and Franco became unnerved, his father said, so they left at halftime.“A lot of families won’t even try,” Mr. Buttaro said.The Eagles, who opened their sensory room this season, and more than 60 other pro teams in football, baseball, basketball, soccer and hockey, along with Pocono Raceway in Pennsylvania, partnered with KultureCity, a nonprofit founded in 2013 by two physicians in Birmingham, Ala. Among the aims of the organization are to make those with autism feel accepted and included in public spaces like stadiums, zoos, aquariums, restaurants and churches. Dr. Julian Maha, an emergency physician who co-founded KultureCity with Dr. Michele Kong, his wife, said that he is sometimes asked skeptically, “If you have a sensory need, why go to a loud event?” His response: “It’s like saying if you have a wheelchair, you don’t need to come because we don’t have accessibility. You should still have the right and the freedom to interact and go to public places and be accepted and included.”One in 59 children is on the autism spectrum, according to the Centers for Disease Control and Prevention. And one in six Americans has some type of sensory vulnerability, said Dr. Maha.It can be foreboding for fans with autism, sensory processing disorder, post-traumatic stress disorder and dementia, and for those who have experienced strokes and concussions, to attend sporting events that have routinely become, in Dr. Maha’s description, “a visual and auditory assault on the senses.” So KultureCity has devised methods to help teams and arena managers become more aware and embracing of those with sensory challenges. These methods involve training stadium workers to recognize and respond properly to those experiencing sensory overload; offering sensory bags that include items like headphones and earplugs, weighted lap pads, sunglasses and fidget toys; and creating sensory rooms where distressed fans can decompress before returning to their seats.Such accommodations appeal to teams’ sense of social responsibility and to their bottom line, Dr. Maha said, permitting them to market to a mostly ignored segment of the fan base. At the same time, he added, parents of children with sensory challenges are pushing insistently to be included in community events.He and his wife have a son, Abram, 11, a fervent basketball fan who is non-speaking and has autism. Their initial attempts to take Abram to Atlanta to see the Hawks play ended in frustration, and led to their creation of the nonprofit. His son’s sensitivity to the booming noise, Dr. Maha said, “meant we would last for five minutes and pretty much have to leave because we would start getting looks from the staff and there wasn’t anything to help him get through it.”It took three years before there was a major turning point in teams’ approach to accommodating children with sensory challenges.In February 2016, Amy and Jeff Belles of Akron, Ohio, took their son, Carson, who was 11 at the time, to a minor league hockey game on Autism Awareness Night at Quicken Loans Arena in Cleveland. Carson, who is non-verbal, wears an iPod Touch, equipped with a speech app and a Bluetooth speaker, that is strapped to his chest. The device set off the metal detector in the arena and Carson became agitated. A security guard, not trained to recognize and address sensory overloads, yelled at Carson’s parents to “get control of that kid.”It had taken the Belles years to make Carson feel comfortable enough to attend a game. In that moment, Amy Belles said, “We were kind of left feeling defeated, a little embarrassed, our dignity kind of stripped.”She made her concerns known via Twitter and arena officials responded, working with KultureCity to install a sensory room, train the stadium staff and make sensory kits available to spectators. In 2017, the stadium — now called Rocket Mortgage FieldHouse — became the first sensory-inclusive arena certified by the nonprofit in the United States.The Cleveland Indians also opened a sensory room this May and Carson threw out the ceremonial first pitch that day at Progressive Field.“Our kids can and should be part of the community with simple accommodation and training,” said Ms. Belles, a physical education teacher for children with special needs. “That’s all I wanted. Just give people an opportunity and a little compassion.”The Cleveland arena is also home to the Cavaliers. Eight other N.B.A. teams, including the Hawks, have joined the Cavs in making sensory rooms available in their arenas, with three more scheduled to open this fall, the league said. Twenty-six N.B.A. teams have taken steps to make their arenas sensory inclusive with staff training and the availability of sensory bags, with the goal being all 30 teams, said Kathy Behrens, the league’s president of social responsibility.At least five N.F.L. teams have opened sensory rooms, with seven others having undertaken measures of sensory inclusiveness such as staff training and sensory bags, according to the league. In Philadelphia, autism is an urgent concern for Jeffrey Lurie, the Eagles’ team owner, whose younger brother has autism. The team established the Eagles Autism Foundation and said it has raised more than $7 million over the past two years for research and care.Mr. Lurie, who has a doctorate in social policy, said that, as private entities, teams can act to accommodate sensory needs of their fans without waiting for government intervention.“Do you want to embrace those who are a little different?” Mr. Lurie said. “Or do you want to shun them as we’re seeing so often in our society today?”From five to 17 families per game have visited the sensory room at Lincoln Financial Field, team officials said. Sensory bags are also available at guest services locations around the stadium.At the recent Eagles-Jets game, Nathan Merryman, 7, a first-grader with sensory processing disorder from Stewartsville, N.J., became unnerved by loud pregame music and fireworks. His mother, Jeanne, brought him to the sensory room, and Nathan seemed to grow calm as he played with miniature footballs and squishy toys.  “When he gets anxious his ears get red,” Ms. Merryman said. “When hecame in here, I saw him get less red.” Without a sensory room at the stadium, she said, “We might hesitate coming again with him.”Near halftime, Chanté Douglas of Philadelphia, brought her son, Levi, 6, a first-grader with autism, into the sensory room to take a break from his first N.F.L. game. When she learned the stadium had such a refuge, Ms. Douglas said, “My anxiety level was at 1,000 and it dropped to, like, five.”\n"
     ]
    },
    {
     "name": "stdout",
     "output_type": "stream",
     "text": [
      "有1379個字\n"
     ]
    }
   ],
   "source": [
    "scentence=input(\"請輸入一個英文句子:\")\n",
    "L=scentence.split()\n",
    "z=len(L)\n",
    "print(\"有{}個字\".format(z))"
   ]
  }
 ],
 "metadata": {
  "kernelspec": {
   "display_name": "Python 3",
   "language": "python",
   "name": "python3"
  },
  "language_info": {
   "codemirror_mode": {
    "name": "ipython",
    "version": 3
   },
   "file_extension": ".py",
   "mimetype": "text/x-python",
   "name": "python",
   "nbconvert_exporter": "python",
   "pygments_lexer": "ipython3",
   "version": "3.7.3"
  }
 },
 "nbformat": 4,
 "nbformat_minor": 2
}
