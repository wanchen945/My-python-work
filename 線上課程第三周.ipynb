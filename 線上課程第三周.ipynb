{
 "cells": [
  {
   "cell_type": "code",
   "execution_count": 1,
   "metadata": {},
   "outputs": [],
   "source": [
    "from numpy import *"
   ]
  },
  {
   "cell_type": "code",
   "execution_count": 9,
   "metadata": {},
   "outputs": [
    {
     "data": {
      "text/plain": [
       "-0.9899924966004454"
      ]
     },
     "execution_count": 9,
     "metadata": {},
     "output_type": "execute_result"
    }
   ],
   "source": [
    "cos(3)"
   ]
  },
  {
   "cell_type": "code",
   "execution_count": 3,
   "metadata": {},
   "outputs": [
    {
     "data": {
      "text/plain": [
       "3.141592653589793"
      ]
     },
     "execution_count": 3,
     "metadata": {},
     "output_type": "execute_result"
    }
   ],
   "source": [
    "pi"
   ]
  },
  {
   "cell_type": "code",
   "execution_count": 10,
   "metadata": {},
   "outputs": [
    {
     "data": {
      "text/plain": [
       "0.9893582466233818"
      ]
     },
     "execution_count": 10,
     "metadata": {},
     "output_type": "execute_result"
    }
   ],
   "source": [
    "sin(8)"
   ]
  },
  {
   "cell_type": "code",
   "execution_count": 4,
   "metadata": {},
   "outputs": [],
   "source": [
    "from random import *"
   ]
  },
  {
   "cell_type": "code",
   "execution_count": 5,
   "metadata": {},
   "outputs": [
    {
     "data": {
      "text/plain": [
       "8"
      ]
     },
     "execution_count": 5,
     "metadata": {},
     "output_type": "execute_result"
    }
   ],
   "source": [
    "randint(1,10)"
   ]
  },
  {
   "cell_type": "code",
   "execution_count": 6,
   "metadata": {},
   "outputs": [
    {
     "name": "stdout",
     "output_type": "stream",
     "text": [
      "2, 10, 10, 4, 4, 10, 7, 1, 7, 6, 2, 3, 10, 6, 2, 1, 4, 4, 4, 3, 7, 3, 8, 2, 5, 7, 7, 1, 8, 9, 7, 9, 9, 10, 5, 8, 6, 10, 5, 5, 4, 9, 5, 3, 2, 10, 1, 10, 8, 10, "
     ]
    }
   ],
   "source": [
    "for i in range(50):\n",
    "    print(randint(1,10),end=\", \")"
   ]
  },
  {
   "cell_type": "code",
   "execution_count": 7,
   "metadata": {},
   "outputs": [],
   "source": [
    "from numpy.random import *"
   ]
  },
  {
   "cell_type": "code",
   "execution_count": 8,
   "metadata": {},
   "outputs": [
    {
     "ename": "SyntaxError",
     "evalue": "unexpected EOF while parsing (<ipython-input-8-d5cec1ff236b>, line 1)",
     "output_type": "error",
     "traceback": [
      "\u001b[1;36m  File \u001b[1;32m\"<ipython-input-8-d5cec1ff236b>\"\u001b[1;36m, line \u001b[1;32m1\u001b[0m\n\u001b[1;33m    for i in range(50):\u001b[0m\n\u001b[1;37m                       ^\u001b[0m\n\u001b[1;31mSyntaxError\u001b[0m\u001b[1;31m:\u001b[0m unexpected EOF while parsing\n"
     ]
    }
   ],
   "source": [
    "for i in range(50):\n",
    "    print()"
   ]
  },
  {
   "cell_type": "code",
   "execution_count": 11,
   "metadata": {},
   "outputs": [],
   "source": [
    "from numpy import sin"
   ]
  },
  {
   "cell_type": "code",
   "execution_count": 12,
   "metadata": {},
   "outputs": [
    {
     "data": {
      "text/plain": [
       "0.9893582466233818"
      ]
     },
     "execution_count": 12,
     "metadata": {},
     "output_type": "execute_result"
    }
   ],
   "source": [
    "sin(8)"
   ]
  },
  {
   "cell_type": "code",
   "execution_count": 13,
   "metadata": {},
   "outputs": [
    {
     "data": {
      "text/plain": [
       "-0.14550003380861354"
      ]
     },
     "execution_count": 13,
     "metadata": {},
     "output_type": "execute_result"
    }
   ],
   "source": [
    "cos(8)"
   ]
  },
  {
   "cell_type": "code",
   "execution_count": 14,
   "metadata": {},
   "outputs": [],
   "source": [
    "from numpy import *"
   ]
  },
  {
   "cell_type": "code",
   "execution_count": 15,
   "metadata": {},
   "outputs": [],
   "source": [
    "from random import *"
   ]
  },
  {
   "cell_type": "code",
   "execution_count": 16,
   "metadata": {},
   "outputs": [
    {
     "data": {
      "text/plain": [
       "6"
      ]
     },
     "execution_count": 16,
     "metadata": {},
     "output_type": "execute_result"
    }
   ],
   "source": [
    "randint(1,10)"
   ]
  },
  {
   "cell_type": "code",
   "execution_count": 22,
   "metadata": {},
   "outputs": [
    {
     "name": "stdout",
     "output_type": "stream",
     "text": [
      "1, 6, 1, 4, 9, 8, 1, 2, 6, 7, 3, 10, 8, 3, 1, 7, 3, 4, 4, 3, 10, 7, 6, 3, 2, 10, 8, 5, 7, 4, 4, 1, 10, 2, 9, 9, 6, 9, 6, 2, 7, 4, 9, 3, 4, 1, 3, 1, 3, 5, "
     ]
    }
   ],
   "source": [
    "for i in range(50):\n",
    "    print(randint(1,10),end=\", \")"
   ]
  },
  {
   "cell_type": "code",
   "execution_count": 27,
   "metadata": {},
   "outputs": [],
   "source": [
    "from numpy.random import *"
   ]
  },
  {
   "cell_type": "code",
   "execution_count": 28,
   "metadata": {},
   "outputs": [
    {
     "data": {
      "text/plain": [
       "4"
      ]
     },
     "execution_count": 28,
     "metadata": {},
     "output_type": "execute_result"
    }
   ],
   "source": [
    "randint(1,10)"
   ]
  },
  {
   "cell_type": "code",
   "execution_count": 30,
   "metadata": {},
   "outputs": [
    {
     "name": "stdout",
     "output_type": "stream",
     "text": [
      "6, 7, 8, 5, 2, 2, 5, 3, 7, 2, 7, 2, 6, 1, 9, 2, 1, 9, 5, 3, 9, 5, 9, 2, 5, 5, 5, 7, 6, 6, 5, 2, 2, 6, 8, 7, 2, 6, 5, 6, 2, 9, 5, 6, 8, 8, 6, 1, 1, 5, 6, 3, 9, 1, 4, 7, 9, 5, 6, 3, 6, 6, 1, 2, 3, 4, 6, 2, 7, 8, 5, 8, 9, 6, 6, 3, 7, 7, 9, 4, 9, 4, 6, 5, 6, 6, 9, 5, 2, 3, 2, 7, 1, 1, 2, 7, 4, 3, 7, 4, "
     ]
    }
   ],
   "source": [
    "for i in range(100):\n",
    "    print(randint(1,10),end=\", \")"
   ]
  },
  {
   "cell_type": "code",
   "execution_count": 31,
   "metadata": {},
   "outputs": [],
   "source": [
    "from random import  *"
   ]
  },
  {
   "cell_type": "code",
   "execution_count": 32,
   "metadata": {},
   "outputs": [],
   "source": [
    "import numpy"
   ]
  },
  {
   "cell_type": "code",
   "execution_count": 33,
   "metadata": {},
   "outputs": [
    {
     "data": {
      "text/plain": [
       "0.9893582466233818"
      ]
     },
     "execution_count": 33,
     "metadata": {},
     "output_type": "execute_result"
    }
   ],
   "source": [
    "numpy.sin(8)"
   ]
  },
  {
   "cell_type": "code",
   "execution_count": 34,
   "metadata": {},
   "outputs": [
    {
     "data": {
      "text/plain": [
       "3.141592653589793"
      ]
     },
     "execution_count": 34,
     "metadata": {},
     "output_type": "execute_result"
    }
   ],
   "source": [
    "numpy.pi"
   ]
  },
  {
   "cell_type": "code",
   "execution_count": 35,
   "metadata": {},
   "outputs": [],
   "source": [
    "import numpy as np"
   ]
  },
  {
   "cell_type": "code",
   "execution_count": 36,
   "metadata": {},
   "outputs": [
    {
     "data": {
      "text/plain": [
       "0.1411200080598672"
      ]
     },
     "execution_count": 36,
     "metadata": {},
     "output_type": "execute_result"
    }
   ],
   "source": [
    "np.sin(3)"
   ]
  },
  {
   "cell_type": "code",
   "execution_count": 37,
   "metadata": {},
   "outputs": [
    {
     "data": {
      "text/plain": [
       "3.141592653589793"
      ]
     },
     "execution_count": 37,
     "metadata": {},
     "output_type": "execute_result"
    }
   ],
   "source": [
    "np.pi"
   ]
  },
  {
   "cell_type": "code",
   "execution_count": 38,
   "metadata": {},
   "outputs": [
    {
     "data": {
      "text/plain": [
       "0.28366218546322625"
      ]
     },
     "execution_count": 38,
     "metadata": {},
     "output_type": "execute_result"
    }
   ],
   "source": [
    "np.cos(5)"
   ]
  },
  {
   "cell_type": "code",
   "execution_count": 39,
   "metadata": {},
   "outputs": [],
   "source": [
    "%matplotlib inline\n",
    "\n",
    "import numpy as np\n",
    "import matplotlib.pyplot as plt\n",
    "import pandas as pd\n"
   ]
  },
  {
   "cell_type": "code",
   "execution_count": 47,
   "metadata": {},
   "outputs": [
    {
     "data": {
      "text/plain": [
       "[<matplotlib.lines.Line2D at 0x2c93684fa20>]"
      ]
     },
     "execution_count": 47,
     "metadata": {},
     "output_type": "execute_result"
    },
    {
     "data": {
      "image/png": "[encoded data removed]",
      "text/plain": [
       "<Figure size 432x288 with 1 Axes>"
      ]
     },
     "metadata": {
      "needs_background": "light"
     },
     "output_type": "display_data"
    }
   ],
   "source": [
    "plt.plot([5,2,3,6,4,7,8])"
   ]
  },
  {
   "cell_type": "code",
   "execution_count": 42,
   "metadata": {},
   "outputs": [
    {
     "data": {
      "text/plain": [
       "[<matplotlib.lines.Line2D at 0x2c93668fc18>]"
      ]
     },
     "execution_count": 42,
     "metadata": {},
     "output_type": "execute_result"
    },
    {
     "data": {
      "image/png": "[encoded data removed]",
      "text/plain": [
       "<Figure size 432x288 with 1 Axes>"
      ]
     },
     "metadata": {
      "needs_background": "light"
     },
     "output_type": "display_data"
    }
   ],
   "source": [
    "plt.plot(np.random.randn(100))"
   ]
  },
  {
   "cell_type": "code",
   "execution_count": 50,
   "metadata": {},
   "outputs": [],
   "source": [
    "p=[1096.95,596.95,896.95]"
   ]
  },
  {
   "cell_type": "code",
   "execution_count": 51,
   "metadata": {},
   "outputs": [],
   "source": [
    "c=30.1"
   ]
  },
  {
   "cell_type": "code",
   "execution_count": 54,
   "metadata": {},
   "outputs": [
    {
     "name": "stdout",
     "output_type": "stream",
     "text": [
      "33018.195, 17968.195000000003, 26998.195000000003, "
     ]
    }
   ],
   "source": [
    "for k in p:\n",
    "    print((k*c),end=\", \")"
   ]
  },
  {
   "cell_type": "code",
   "execution_count": 55,
   "metadata": {},
   "outputs": [],
   "source": [
    "result=[]"
   ]
  },
  {
   "cell_type": "code",
   "execution_count": 56,
   "metadata": {},
   "outputs": [],
   "source": [
    "for k in p:\n",
    "    twd=k*c\n",
    "    result.append(twd)"
   ]
  },
  {
   "cell_type": "code",
   "execution_count": 57,
   "metadata": {},
   "outputs": [
    {
     "data": {
      "text/plain": [
       "[33018.195, 17968.195000000003, 26998.195000000003]"
      ]
     },
     "execution_count": 57,
     "metadata": {},
     "output_type": "execute_result"
    }
   ],
   "source": [
    "result"
   ]
  },
  {
   "cell_type": "code",
   "execution_count": 58,
   "metadata": {},
   "outputs": [],
   "source": [
    "%matplotlib inline\n",
    "import numpy as np\n",
    "import matplotlib.pyplot as plt"
   ]
  },
  {
   "cell_type": "code",
   "execution_count": 59,
   "metadata": {},
   "outputs": [],
   "source": [
    "p=[1096.95,596.95,896.95]"
   ]
  },
  {
   "cell_type": "code",
   "execution_count": 60,
   "metadata": {},
   "outputs": [],
   "source": [
    "c=30.1"
   ]
  },
  {
   "cell_type": "code",
   "execution_count": 61,
   "metadata": {},
   "outputs": [],
   "source": [
    "prices=np.array(p)"
   ]
  },
  {
   "cell_type": "code",
   "execution_count": 62,
   "metadata": {},
   "outputs": [
    {
     "data": {
      "text/plain": [
       "array([1096.95,  596.95,  896.95])"
      ]
     },
     "execution_count": 62,
     "metadata": {},
     "output_type": "execute_result"
    }
   ],
   "source": [
    "prices"
   ]
  },
  {
   "cell_type": "code",
   "execution_count": 63,
   "metadata": {},
   "outputs": [
    {
     "name": "stdout",
     "output_type": "stream",
     "text": [
      "[1096.95  596.95  896.95]\n"
     ]
    }
   ],
   "source": [
    "print(prices)"
   ]
  },
  {
   "cell_type": "code",
   "execution_count": 64,
   "metadata": {},
   "outputs": [
    {
     "data": {
      "text/plain": [
       "array([33018.195, 17968.195, 26998.195])"
      ]
     },
     "execution_count": 64,
     "metadata": {},
     "output_type": "execute_result"
    }
   ],
   "source": [
    "prices*c"
   ]
  },
  {
   "cell_type": "code",
   "execution_count": 70,
   "metadata": {},
   "outputs": [],
   "source": [
    "spend=[98,85,45,50,125,65]\n",
    "c=0.3"
   ]
  },
  {
   "cell_type": "code",
   "execution_count": 71,
   "metadata": {},
   "outputs": [],
   "source": [
    "aspend=np.array(spend)"
   ]
  },
  {
   "cell_type": "code",
   "execution_count": 74,
   "metadata": {},
   "outputs": [
    {
     "data": {
      "text/plain": [
       "array([ 98,  85,  45,  50, 125,  65])"
      ]
     },
     "execution_count": 74,
     "metadata": {},
     "output_type": "execute_result"
    }
   ],
   "source": [
    "aspend"
   ]
  },
  {
   "cell_type": "code",
   "execution_count": 75,
   "metadata": {},
   "outputs": [
    {
     "data": {
      "text/plain": [
       "array([29.4, 25.5, 13.5, 15. , 37.5, 19.5])"
      ]
     },
     "execution_count": 75,
     "metadata": {},
     "output_type": "execute_result"
    }
   ],
   "source": [
    "aspend*c"
   ]
  },
  {
   "cell_type": "code",
   "execution_count": 77,
   "metadata": {},
   "outputs": [],
   "source": [
    "%matplotlib inline\n",
    "import numpy as np\n",
    "\n",
    "import matplotlib.pyplot as plt"
   ]
  },
  {
   "cell_type": "code",
   "execution_count": 78,
   "metadata": {},
   "outputs": [],
   "source": [
    "grades=np.array([85,70,82])"
   ]
  },
  {
   "cell_type": "code",
   "execution_count": 79,
   "metadata": {},
   "outputs": [],
   "source": [
    "weights=np.array([0.3,0.4,0.3])"
   ]
  },
  {
   "cell_type": "code",
   "execution_count": 81,
   "metadata": {},
   "outputs": [],
   "source": [
    "g=grades*weights"
   ]
  },
  {
   "cell_type": "code",
   "execution_count": 82,
   "metadata": {},
   "outputs": [
    {
     "data": {
      "text/plain": [
       "array([25.5, 28. , 24.6])"
      ]
     },
     "execution_count": 82,
     "metadata": {},
     "output_type": "execute_result"
    }
   ],
   "source": [
    "g"
   ]
  },
  {
   "cell_type": "code",
   "execution_count": 83,
   "metadata": {},
   "outputs": [
    {
     "data": {
      "text/plain": [
       "78.1"
      ]
     },
     "execution_count": 83,
     "metadata": {},
     "output_type": "execute_result"
    }
   ],
   "source": [
    "g.sum()"
   ]
  },
  {
   "cell_type": "code",
   "execution_count": 86,
   "metadata": {},
   "outputs": [
    {
     "data": {
      "text/plain": [
       "78.1"
      ]
     },
     "execution_count": 86,
     "metadata": {},
     "output_type": "execute_result"
    }
   ],
   "source": [
    "np.dot(grades,weights)"
   ]
  },
  {
   "cell_type": "code",
   "execution_count": 92,
   "metadata": {},
   "outputs": [],
   "source": [
    "grades=np.array([[85,70,82],[75,92,85],[62,67,64],[87,94,60]])"
   ]
  },
  {
   "cell_type": "code",
   "execution_count": 93,
   "metadata": {},
   "outputs": [
    {
     "data": {
      "text/plain": [
       "array([[85, 70, 82],\n",
       "       [75, 92, 85],\n",
       "       [62, 67, 64],\n",
       "       [87, 94, 60]])"
      ]
     },
     "execution_count": 93,
     "metadata": {},
     "output_type": "execute_result"
    }
   ],
   "source": [
    "grades"
   ]
  },
  {
   "cell_type": "code",
   "execution_count": 94,
   "metadata": {},
   "outputs": [],
   "source": [
    "weights=np.array([0.3,0.4,0.3])"
   ]
  },
  {
   "cell_type": "code",
   "execution_count": 95,
   "metadata": {},
   "outputs": [
    {
     "data": {
      "text/plain": [
       "array([78.1, 84.8, 64.6, 81.7])"
      ]
     },
     "execution_count": 95,
     "metadata": {},
     "output_type": "execute_result"
    }
   ],
   "source": [
    "np.dot(grades,weights)"
   ]
  },
  {
   "cell_type": "code",
   "execution_count": 96,
   "metadata": {},
   "outputs": [],
   "source": [
    "L=np.array([3,5,7,9])"
   ]
  },
  {
   "cell_type": "code",
   "execution_count": 97,
   "metadata": {},
   "outputs": [
    {
     "data": {
      "text/plain": [
       "array([ 9, 15, 21, 27])"
      ]
     },
     "execution_count": 97,
     "metadata": {},
     "output_type": "execute_result"
    }
   ],
   "source": [
    "L*3"
   ]
  },
  {
   "cell_type": "code",
   "execution_count": 98,
   "metadata": {},
   "outputs": [],
   "source": [
    "A=np.random.randn(100)"
   ]
  },
  {
   "cell_type": "code",
   "execution_count": 99,
   "metadata": {},
   "outputs": [
    {
     "data": {
      "text/plain": [
       "array([ 2.32601030e+00, -1.04905285e-01, -6.38498258e-01,  1.48473389e+00,\n",
       "       -1.82407267e-01,  1.04432368e+00,  5.89859732e-03,  1.05114230e+00,\n",
       "       -1.83996813e-01,  3.33681400e-01, -2.39667287e+00,  6.72785505e-01,\n",
       "       -2.72565572e+00, -6.26816360e-01,  7.31648217e-01,  2.31498465e+00,\n",
       "        4.36296863e-01, -1.77361503e-01, -5.91427699e-01,  6.36696666e-01,\n",
       "       -3.10581470e-01, -1.48292181e+00,  2.87347551e+00, -5.01603119e-01,\n",
       "        1.36083829e+00,  1.11484626e+00,  8.11431812e-01, -2.78309698e-01,\n",
       "        2.51965487e+00,  5.02303912e-01, -1.84686412e+00, -5.50912159e-01,\n",
       "       -6.99360012e-01,  1.50420441e+00,  1.40178888e+00,  1.01454313e+00,\n",
       "       -9.11706266e-01,  1.99722283e+00,  5.52674946e-01,  9.77378029e-01,\n",
       "       -2.98496060e-01, -1.63595543e+00, -1.05775807e+00,  4.23875889e-01,\n",
       "        2.15070915e+00,  3.79699959e-01,  9.70564804e-01, -5.16538560e-01,\n",
       "       -1.69358485e+00, -1.03474740e+00, -1.12515460e+00, -2.09664799e-03,\n",
       "       -2.22452599e-01,  4.80868733e-02,  5.15176962e-01,  3.07128577e-01,\n",
       "       -2.63953402e-01, -1.14405599e+00,  1.77698787e-02, -6.95458523e-01,\n",
       "        4.29079110e-01, -1.69865363e-01, -9.97688575e-01,  5.32587159e-01,\n",
       "        7.03081611e-02, -1.47540669e+00,  1.28029960e+00,  8.31618360e-01,\n",
       "        4.20135423e-02,  1.10087913e+00, -5.39385841e-02, -7.84538593e-01,\n",
       "        2.02380436e+00, -4.21943587e-01,  1.44087601e-01,  8.78470766e-01,\n",
       "       -1.96144003e-01,  1.34791030e+00, -1.30710749e-01,  1.49636734e+00,\n",
       "        1.54261639e-01,  1.33032635e+00, -1.32439648e+00,  7.63595933e-01,\n",
       "        5.84300384e-01,  1.06958085e+00,  1.28868469e+00, -4.41417269e-01,\n",
       "        7.88137143e-01,  1.61910693e+00, -1.92925181e+00,  9.41929800e-01,\n",
       "       -1.00455011e+00,  6.11051174e-01,  8.00204329e-02,  2.19291419e+00,\n",
       "       -4.96385927e-01, -4.73152446e-01, -2.68899405e-01, -3.01650788e-01])"
      ]
     },
     "execution_count": 99,
     "metadata": {},
     "output_type": "execute_result"
    }
   ],
   "source": [
    "A"
   ]
  },
  {
   "cell_type": "code",
   "execution_count": 100,
   "metadata": {},
   "outputs": [],
   "source": [
    "A=10*A+50"
   ]
  },
  {
   "cell_type": "code",
   "execution_count": 101,
   "metadata": {},
   "outputs": [
    {
     "data": {
      "text/plain": [
       "array([73.26010303, 48.95094715, 43.61501742, 64.84733889, 48.17592733,\n",
       "       60.4432368 , 50.05898597, 60.51142296, 48.16003187, 53.336814  ,\n",
       "       26.03327135, 56.72785505, 22.74344283, 43.7318364 , 57.31648217,\n",
       "       73.14984648, 54.36296863, 48.22638497, 44.08572301, 56.36696666,\n",
       "       46.8941853 , 35.17078191, 78.73475508, 44.98396881, 63.60838287,\n",
       "       61.14846255, 58.11431812, 47.21690302, 75.19654869, 55.02303912,\n",
       "       31.53135883, 44.49087841, 43.00639988, 65.04204405, 64.01788876,\n",
       "       60.14543131, 40.88293734, 69.97222834, 55.52674946, 59.77378029,\n",
       "       47.0150394 , 33.64044567, 39.42241933, 54.23875889, 71.50709153,\n",
       "       53.79699959, 59.70564804, 44.8346144 , 33.06415147, 39.652526  ,\n",
       "       38.74845398, 49.97903352, 47.77547401, 50.48086873, 55.15176962,\n",
       "       53.07128577, 47.36046598, 38.55944013, 50.17769879, 43.04541477,\n",
       "       54.2907911 , 48.30134637, 40.02311425, 55.32587159, 50.70308161,\n",
       "       35.24593307, 62.80299604, 58.3161836 , 50.42013542, 61.00879134,\n",
       "       49.46061416, 42.15461407, 70.23804355, 45.78056413, 51.44087601,\n",
       "       58.78470766, 48.03855997, 63.47910304, 48.69289251, 64.96367344,\n",
       "       51.54261639, 63.30326352, 36.75603516, 57.63595933, 55.84300384,\n",
       "       60.69580848, 62.88684686, 45.58582731, 57.88137143, 66.19106933,\n",
       "       30.70748193, 59.419298  , 39.95449888, 56.11051174, 50.80020433,\n",
       "       71.92914192, 45.03614073, 45.26847554, 47.31100595, 46.98349212])"
      ]
     },
     "execution_count": 101,
     "metadata": {},
     "output_type": "execute_result"
    }
   ],
   "source": [
    "A"
   ]
  },
  {
   "cell_type": "code",
   "execution_count": 102,
   "metadata": {},
   "outputs": [
    {
     "data": {
      "text/plain": [
       "(100,)"
      ]
     },
     "execution_count": 102,
     "metadata": {},
     "output_type": "execute_result"
    }
   ],
   "source": [
    "A.shape"
   ]
  },
  {
   "cell_type": "code",
   "execution_count": 103,
   "metadata": {},
   "outputs": [],
   "source": [
    "A.shape=(5,20)"
   ]
  },
  {
   "cell_type": "code",
   "execution_count": 104,
   "metadata": {},
   "outputs": [
    {
     "data": {
      "text/plain": [
       "array([[73.26010303, 48.95094715, 43.61501742, 64.84733889, 48.17592733,\n",
       "        60.4432368 , 50.05898597, 60.51142296, 48.16003187, 53.336814  ,\n",
       "        26.03327135, 56.72785505, 22.74344283, 43.7318364 , 57.31648217,\n",
       "        73.14984648, 54.36296863, 48.22638497, 44.08572301, 56.36696666],\n",
       "       [46.8941853 , 35.17078191, 78.73475508, 44.98396881, 63.60838287,\n",
       "        61.14846255, 58.11431812, 47.21690302, 75.19654869, 55.02303912,\n",
       "        31.53135883, 44.49087841, 43.00639988, 65.04204405, 64.01788876,\n",
       "        60.14543131, 40.88293734, 69.97222834, 55.52674946, 59.77378029],\n",
       "       [47.0150394 , 33.64044567, 39.42241933, 54.23875889, 71.50709153,\n",
       "        53.79699959, 59.70564804, 44.8346144 , 33.06415147, 39.652526  ,\n",
       "        38.74845398, 49.97903352, 47.77547401, 50.48086873, 55.15176962,\n",
       "        53.07128577, 47.36046598, 38.55944013, 50.17769879, 43.04541477],\n",
       "       [54.2907911 , 48.30134637, 40.02311425, 55.32587159, 50.70308161,\n",
       "        35.24593307, 62.80299604, 58.3161836 , 50.42013542, 61.00879134,\n",
       "        49.46061416, 42.15461407, 70.23804355, 45.78056413, 51.44087601,\n",
       "        58.78470766, 48.03855997, 63.47910304, 48.69289251, 64.96367344],\n",
       "       [51.54261639, 63.30326352, 36.75603516, 57.63595933, 55.84300384,\n",
       "        60.69580848, 62.88684686, 45.58582731, 57.88137143, 66.19106933,\n",
       "        30.70748193, 59.419298  , 39.95449888, 56.11051174, 50.80020433,\n",
       "        71.92914192, 45.03614073, 45.26847554, 47.31100595, 46.98349212]])"
      ]
     },
     "execution_count": 104,
     "metadata": {},
     "output_type": "execute_result"
    }
   ],
   "source": [
    "A"
   ]
  },
  {
   "cell_type": "code",
   "execution_count": 105,
   "metadata": {},
   "outputs": [
    {
     "data": {
      "text/plain": [
       "array([[73.26010303],\n",
       "       [48.95094715],\n",
       "       [43.61501742],\n",
       "       [64.84733889],\n",
       "       [48.17592733],\n",
       "       [60.4432368 ],\n",
       "       [50.05898597],\n",
       "       [60.51142296],\n",
       "       [48.16003187],\n",
       "       [53.336814  ],\n",
       "       [26.03327135],\n",
       "       [56.72785505],\n",
       "       [22.74344283],\n",
       "       [43.7318364 ],\n",
       "       [57.31648217],\n",
       "       [73.14984648],\n",
       "       [54.36296863],\n",
       "       [48.22638497],\n",
       "       [44.08572301],\n",
       "       [56.36696666],\n",
       "       [46.8941853 ],\n",
       "       [35.17078191],\n",
       "       [78.73475508],\n",
       "       [44.98396881],\n",
       "       [63.60838287],\n",
       "       [61.14846255],\n",
       "       [58.11431812],\n",
       "       [47.21690302],\n",
       "       [75.19654869],\n",
       "       [55.02303912],\n",
       "       [31.53135883],\n",
       "       [44.49087841],\n",
       "       [43.00639988],\n",
       "       [65.04204405],\n",
       "       [64.01788876],\n",
       "       [60.14543131],\n",
       "       [40.88293734],\n",
       "       [69.97222834],\n",
       "       [55.52674946],\n",
       "       [59.77378029],\n",
       "       [47.0150394 ],\n",
       "       [33.64044567],\n",
       "       [39.42241933],\n",
       "       [54.23875889],\n",
       "       [71.50709153],\n",
       "       [53.79699959],\n",
       "       [59.70564804],\n",
       "       [44.8346144 ],\n",
       "       [33.06415147],\n",
       "       [39.652526  ],\n",
       "       [38.74845398],\n",
       "       [49.97903352],\n",
       "       [47.77547401],\n",
       "       [50.48086873],\n",
       "       [55.15176962],\n",
       "       [53.07128577],\n",
       "       [47.36046598],\n",
       "       [38.55944013],\n",
       "       [50.17769879],\n",
       "       [43.04541477],\n",
       "       [54.2907911 ],\n",
       "       [48.30134637],\n",
       "       [40.02311425],\n",
       "       [55.32587159],\n",
       "       [50.70308161],\n",
       "       [35.24593307],\n",
       "       [62.80299604],\n",
       "       [58.3161836 ],\n",
       "       [50.42013542],\n",
       "       [61.00879134],\n",
       "       [49.46061416],\n",
       "       [42.15461407],\n",
       "       [70.23804355],\n",
       "       [45.78056413],\n",
       "       [51.44087601],\n",
       "       [58.78470766],\n",
       "       [48.03855997],\n",
       "       [63.47910304],\n",
       "       [48.69289251],\n",
       "       [64.96367344],\n",
       "       [51.54261639],\n",
       "       [63.30326352],\n",
       "       [36.75603516],\n",
       "       [57.63595933],\n",
       "       [55.84300384],\n",
       "       [60.69580848],\n",
       "       [62.88684686],\n",
       "       [45.58582731],\n",
       "       [57.88137143],\n",
       "       [66.19106933],\n",
       "       [30.70748193],\n",
       "       [59.419298  ],\n",
       "       [39.95449888],\n",
       "       [56.11051174],\n",
       "       [50.80020433],\n",
       "       [71.92914192],\n",
       "       [45.03614073],\n",
       "       [45.26847554],\n",
       "       [47.31100595],\n",
       "       [46.98349212]])"
      ]
     },
     "execution_count": 105,
     "metadata": {},
     "output_type": "execute_result"
    }
   ],
   "source": [
    "A.reshape(100,1)"
   ]
  },
  {
   "cell_type": "code",
   "execution_count": 107,
   "metadata": {},
   "outputs": [],
   "source": [
    "A=A.reshape(100,1)"
   ]
  },
  {
   "cell_type": "code",
   "execution_count": 108,
   "metadata": {},
   "outputs": [
    {
     "data": {
      "text/plain": [
       "array([[73.26010303],\n",
       "       [48.95094715],\n",
       "       [43.61501742],\n",
       "       [64.84733889],\n",
       "       [48.17592733],\n",
       "       [60.4432368 ],\n",
       "       [50.05898597],\n",
       "       [60.51142296],\n",
       "       [48.16003187],\n",
       "       [53.336814  ],\n",
       "       [26.03327135],\n",
       "       [56.72785505],\n",
       "       [22.74344283],\n",
       "       [43.7318364 ],\n",
       "       [57.31648217],\n",
       "       [73.14984648],\n",
       "       [54.36296863],\n",
       "       [48.22638497],\n",
       "       [44.08572301],\n",
       "       [56.36696666],\n",
       "       [46.8941853 ],\n",
       "       [35.17078191],\n",
       "       [78.73475508],\n",
       "       [44.98396881],\n",
       "       [63.60838287],\n",
       "       [61.14846255],\n",
       "       [58.11431812],\n",
       "       [47.21690302],\n",
       "       [75.19654869],\n",
       "       [55.02303912],\n",
       "       [31.53135883],\n",
       "       [44.49087841],\n",
       "       [43.00639988],\n",
       "       [65.04204405],\n",
       "       [64.01788876],\n",
       "       [60.14543131],\n",
       "       [40.88293734],\n",
       "       [69.97222834],\n",
       "       [55.52674946],\n",
       "       [59.77378029],\n",
       "       [47.0150394 ],\n",
       "       [33.64044567],\n",
       "       [39.42241933],\n",
       "       [54.23875889],\n",
       "       [71.50709153],\n",
       "       [53.79699959],\n",
       "       [59.70564804],\n",
       "       [44.8346144 ],\n",
       "       [33.06415147],\n",
       "       [39.652526  ],\n",
       "       [38.74845398],\n",
       "       [49.97903352],\n",
       "       [47.77547401],\n",
       "       [50.48086873],\n",
       "       [55.15176962],\n",
       "       [53.07128577],\n",
       "       [47.36046598],\n",
       "       [38.55944013],\n",
       "       [50.17769879],\n",
       "       [43.04541477],\n",
       "       [54.2907911 ],\n",
       "       [48.30134637],\n",
       "       [40.02311425],\n",
       "       [55.32587159],\n",
       "       [50.70308161],\n",
       "       [35.24593307],\n",
       "       [62.80299604],\n",
       "       [58.3161836 ],\n",
       "       [50.42013542],\n",
       "       [61.00879134],\n",
       "       [49.46061416],\n",
       "       [42.15461407],\n",
       "       [70.23804355],\n",
       "       [45.78056413],\n",
       "       [51.44087601],\n",
       "       [58.78470766],\n",
       "       [48.03855997],\n",
       "       [63.47910304],\n",
       "       [48.69289251],\n",
       "       [64.96367344],\n",
       "       [51.54261639],\n",
       "       [63.30326352],\n",
       "       [36.75603516],\n",
       "       [57.63595933],\n",
       "       [55.84300384],\n",
       "       [60.69580848],\n",
       "       [62.88684686],\n",
       "       [45.58582731],\n",
       "       [57.88137143],\n",
       "       [66.19106933],\n",
       "       [30.70748193],\n",
       "       [59.419298  ],\n",
       "       [39.95449888],\n",
       "       [56.11051174],\n",
       "       [50.80020433],\n",
       "       [71.92914192],\n",
       "       [45.03614073],\n",
       "       [45.26847554],\n",
       "       [47.31100595],\n",
       "       [46.98349212]])"
      ]
     },
     "execution_count": 108,
     "metadata": {},
     "output_type": "execute_result"
    }
   ],
   "source": [
    "A"
   ]
  },
  {
   "cell_type": "code",
   "execution_count": 111,
   "metadata": {},
   "outputs": [],
   "source": [
    "xy=[[x,y] for x in range(10) for y in range(5)]"
   ]
  },
  {
   "cell_type": "code",
   "execution_count": 113,
   "metadata": {},
   "outputs": [],
   "source": [
    "xy=np.array(xy)"
   ]
  },
  {
   "cell_type": "code",
   "execution_count": 114,
   "metadata": {},
   "outputs": [
    {
     "data": {
      "text/plain": [
       "array([[0, 0],\n",
       "       [0, 1],\n",
       "       [0, 2],\n",
       "       [0, 3],\n",
       "       [0, 4],\n",
       "       [1, 0],\n",
       "       [1, 1],\n",
       "       [1, 2],\n",
       "       [1, 3],\n",
       "       [1, 4],\n",
       "       [2, 0],\n",
       "       [2, 1],\n",
       "       [2, 2],\n",
       "       [2, 3],\n",
       "       [2, 4],\n",
       "       [3, 0],\n",
       "       [3, 1],\n",
       "       [3, 2],\n",
       "       [3, 3],\n",
       "       [3, 4],\n",
       "       [4, 0],\n",
       "       [4, 1],\n",
       "       [4, 2],\n",
       "       [4, 3],\n",
       "       [4, 4],\n",
       "       [5, 0],\n",
       "       [5, 1],\n",
       "       [5, 2],\n",
       "       [5, 3],\n",
       "       [5, 4],\n",
       "       [6, 0],\n",
       "       [6, 1],\n",
       "       [6, 2],\n",
       "       [6, 3],\n",
       "       [6, 4],\n",
       "       [7, 0],\n",
       "       [7, 1],\n",
       "       [7, 2],\n",
       "       [7, 3],\n",
       "       [7, 4],\n",
       "       [8, 0],\n",
       "       [8, 1],\n",
       "       [8, 2],\n",
       "       [8, 3],\n",
       "       [8, 4],\n",
       "       [9, 0],\n",
       "       [9, 1],\n",
       "       [9, 2],\n",
       "       [9, 3],\n",
       "       [9, 4]])"
      ]
     },
     "execution_count": 114,
     "metadata": {},
     "output_type": "execute_result"
    }
   ],
   "source": [
    "xy"
   ]
  },
  {
   "cell_type": "code",
   "execution_count": 115,
   "metadata": {},
   "outputs": [
    {
     "data": {
      "text/plain": [
       "array([0., 0., 0., 0., 0., 0., 0., 0., 0., 0.])"
      ]
     },
     "execution_count": 115,
     "metadata": {},
     "output_type": "execute_result"
    }
   ],
   "source": [
    "np.zeros(10)"
   ]
  },
  {
   "cell_type": "code",
   "execution_count": 117,
   "metadata": {},
   "outputs": [
    {
     "data": {
      "text/plain": [
       "array([[0., 0., 0., 0.],\n",
       "       [0., 0., 0., 0.],\n",
       "       [0., 0., 0., 0.]])"
      ]
     },
     "execution_count": 117,
     "metadata": {},
     "output_type": "execute_result"
    }
   ],
   "source": [
    "np.zeros((3,4))"
   ]
  },
  {
   "cell_type": "code",
   "execution_count": 118,
   "metadata": {},
   "outputs": [
    {
     "data": {
      "text/plain": [
       "array([1., 1., 1., 1., 1.])"
      ]
     },
     "execution_count": 118,
     "metadata": {},
     "output_type": "execute_result"
    }
   ],
   "source": [
    "np.ones(5)"
   ]
  },
  {
   "cell_type": "code",
   "execution_count": 120,
   "metadata": {},
   "outputs": [
    {
     "data": {
      "text/plain": [
       "array([[1., 1., 1., 1.],\n",
       "       [1., 1., 1., 1.],\n",
       "       [1., 1., 1., 1.]])"
      ]
     },
     "execution_count": 120,
     "metadata": {},
     "output_type": "execute_result"
    }
   ],
   "source": [
    "np.ones((3,4))"
   ]
  },
  {
   "cell_type": "code",
   "execution_count": 122,
   "metadata": {},
   "outputs": [
    {
     "data": {
      "text/plain": [
       "array([[1., 0., 0., 0., 0.],\n",
       "       [0., 1., 0., 0., 0.],\n",
       "       [0., 0., 1., 0., 0.],\n",
       "       [0., 0., 0., 1., 0.],\n",
       "       [0., 0., 0., 0., 1.]])"
      ]
     },
     "execution_count": 122,
     "metadata": {},
     "output_type": "execute_result"
    }
   ],
   "source": [
    "np.eye(5)"
   ]
  },
  {
   "cell_type": "code",
   "execution_count": 125,
   "metadata": {},
   "outputs": [],
   "source": [
    "y=np.random.rand(50)"
   ]
  },
  {
   "cell_type": "code",
   "execution_count": 126,
   "metadata": {},
   "outputs": [
    {
     "data": {
      "text/plain": [
       "array([0.81898252, 0.31228252, 0.65048962, 0.5876764 , 0.16492974,\n",
       "       0.48115125, 0.96727056, 0.69315155, 0.4511233 , 0.40424763,\n",
       "       0.85904708, 0.36842094, 0.58606637, 0.21330542, 0.44328496,\n",
       "       0.11713279, 0.01541407, 0.21451094, 0.16585317, 0.99976688,\n",
       "       0.51172696, 0.8376126 , 0.60248259, 0.53538749, 0.40713111,\n",
       "       0.61328883, 0.49248231, 0.9625115 , 0.96369063, 0.65359131,\n",
       "       0.54903138, 0.54343713, 0.77646601, 0.69402428, 0.37818462,\n",
       "       0.82715796, 0.23105814, 0.97176183, 0.68637775, 0.98629672,\n",
       "       0.27869876, 0.50058253, 0.79053573, 0.51816428, 0.47455532,\n",
       "       0.39769402, 0.91411152, 0.19311878, 0.09195484, 0.45199423])"
      ]
     },
     "execution_count": 126,
     "metadata": {},
     "output_type": "execute_result"
    }
   ],
   "source": [
    "y"
   ]
  },
  {
   "cell_type": "code",
   "execution_count": 127,
   "metadata": {},
   "outputs": [
    {
     "data": {
      "text/plain": [
       "[<matplotlib.lines.Line2D at 0x2c9368caeb8>]"
      ]
     },
     "execution_count": 127,
     "metadata": {},
     "output_type": "execute_result"
    },
    {
     "data": {
      "image/png": "[encoded data removed]",
      "text/plain": [
       "<Figure size 432x288 with 1 Axes>"
      ]
     },
     "metadata": {
      "needs_background": "light"
     },
     "output_type": "display_data"
    }
   ],
   "source": [
    "plt.plot(y)"
   ]
  },
  {
   "cell_type": "code",
   "execution_count": 128,
   "metadata": {},
   "outputs": [],
   "source": [
    "x=np.linspace(0,10,100)"
   ]
  },
  {
   "cell_type": "code",
   "execution_count": 129,
   "metadata": {},
   "outputs": [
    {
     "data": {
      "text/plain": [
       "array([ 0.        ,  0.1010101 ,  0.2020202 ,  0.3030303 ,  0.4040404 ,\n",
       "        0.50505051,  0.60606061,  0.70707071,  0.80808081,  0.90909091,\n",
       "        1.01010101,  1.11111111,  1.21212121,  1.31313131,  1.41414141,\n",
       "        1.51515152,  1.61616162,  1.71717172,  1.81818182,  1.91919192,\n",
       "        2.02020202,  2.12121212,  2.22222222,  2.32323232,  2.42424242,\n",
       "        2.52525253,  2.62626263,  2.72727273,  2.82828283,  2.92929293,\n",
       "        3.03030303,  3.13131313,  3.23232323,  3.33333333,  3.43434343,\n",
       "        3.53535354,  3.63636364,  3.73737374,  3.83838384,  3.93939394,\n",
       "        4.04040404,  4.14141414,  4.24242424,  4.34343434,  4.44444444,\n",
       "        4.54545455,  4.64646465,  4.74747475,  4.84848485,  4.94949495,\n",
       "        5.05050505,  5.15151515,  5.25252525,  5.35353535,  5.45454545,\n",
       "        5.55555556,  5.65656566,  5.75757576,  5.85858586,  5.95959596,\n",
       "        6.06060606,  6.16161616,  6.26262626,  6.36363636,  6.46464646,\n",
       "        6.56565657,  6.66666667,  6.76767677,  6.86868687,  6.96969697,\n",
       "        7.07070707,  7.17171717,  7.27272727,  7.37373737,  7.47474747,\n",
       "        7.57575758,  7.67676768,  7.77777778,  7.87878788,  7.97979798,\n",
       "        8.08080808,  8.18181818,  8.28282828,  8.38383838,  8.48484848,\n",
       "        8.58585859,  8.68686869,  8.78787879,  8.88888889,  8.98989899,\n",
       "        9.09090909,  9.19191919,  9.29292929,  9.39393939,  9.49494949,\n",
       "        9.5959596 ,  9.6969697 ,  9.7979798 ,  9.8989899 , 10.        ])"
      ]
     },
     "execution_count": 129,
     "metadata": {},
     "output_type": "execute_result"
    }
   ],
   "source": [
    "x"
   ]
  },
  {
   "cell_type": "code",
   "execution_count": 131,
   "metadata": {},
   "outputs": [
    {
     "data": {
      "text/plain": [
       "[<matplotlib.lines.Line2D at 0x2c937b46ac8>]"
      ]
     },
     "execution_count": 131,
     "metadata": {},
     "output_type": "execute_result"
    },
    {
     "data": {
      "image/png": "[encoded data removed]",
      "text/plain": [
       "<Figure size 432x288 with 1 Axes>"
      ]
     },
     "metadata": {
      "needs_background": "light"
     },
     "output_type": "display_data"
    }
   ],
   "source": [
    "plt.plot(x,np.sin(x)+x)"
   ]
  },
  {
   "cell_type": "code",
   "execution_count": 132,
   "metadata": {},
   "outputs": [
    {
     "data": {
      "text/plain": [
       "[<matplotlib.lines.Line2D at 0x2c937ab6ef0>]"
      ]
     },
     "execution_count": 132,
     "metadata": {},
     "output_type": "execute_result"
    },
    {
     "data": {
      "image/png": "[encoded data removed]",
      "text/plain": [
       "<Figure size 432x288 with 1 Axes>"
      ]
     },
     "metadata": {
      "needs_background": "light"
     },
     "output_type": "display_data"
    }
   ],
   "source": [
    "plt.plot(x,np.sin(x)+x)\n",
    "plt.plot(x,np.cos(x))"
   ]
  },
  {
   "cell_type": "code",
   "execution_count": 133,
   "metadata": {},
   "outputs": [],
   "source": [
    "L=np.array([3,-2,-5,333,-555,-60])"
   ]
  },
  {
   "cell_type": "code",
   "execution_count": 134,
   "metadata": {},
   "outputs": [
    {
     "data": {
      "text/plain": [
       "array([False,  True,  True, False,  True,  True])"
      ]
     },
     "execution_count": 134,
     "metadata": {},
     "output_type": "execute_result"
    }
   ],
   "source": [
    "L<0"
   ]
  },
  {
   "cell_type": "code",
   "execution_count": 136,
   "metadata": {},
   "outputs": [
    {
     "data": {
      "text/plain": [
       "3"
      ]
     },
     "execution_count": 136,
     "metadata": {},
     "output_type": "execute_result"
    }
   ],
   "source": [
    "L[0]"
   ]
  },
  {
   "cell_type": "code",
   "execution_count": 137,
   "metadata": {},
   "outputs": [
    {
     "data": {
      "text/plain": [
       "array([ -5, 333])"
      ]
     },
     "execution_count": 137,
     "metadata": {},
     "output_type": "execute_result"
    }
   ],
   "source": [
    "L[2:4]"
   ]
  },
  {
   "cell_type": "code",
   "execution_count": 138,
   "metadata": {},
   "outputs": [
    {
     "data": {
      "text/plain": [
       "array([  -2,   -5, -555,  -60])"
      ]
     },
     "execution_count": 138,
     "metadata": {},
     "output_type": "execute_result"
    }
   ],
   "source": [
    "L[L<0]"
   ]
  },
  {
   "cell_type": "code",
   "execution_count": 139,
   "metadata": {},
   "outputs": [
    {
     "data": {
      "text/plain": [
       "[<matplotlib.lines.Line2D at 0x2c937e9ce10>]"
      ]
     },
     "execution_count": 139,
     "metadata": {},
     "output_type": "execute_result"
    },
    {
     "data": {
      "image/png": "[encoded data removed]",
      "text/plain": [
       "<Figure size 432x288 with 1 Axes>"
      ]
     },
     "metadata": {
      "needs_background": "light"
     },
     "output_type": "display_data"
    }
   ],
   "source": [
    "x=np.linspace(-5,5,500)\n",
    "y=np.sinc(x)\n",
    "\n",
    "plt.plot(x,y)"
   ]
  },
  {
   "cell_type": "code",
   "execution_count": 142,
   "metadata": {},
   "outputs": [
    {
     "data": {
      "text/plain": [
       "[<matplotlib.lines.Line2D at 0x2c937f289e8>]"
      ]
     },
     "execution_count": 142,
     "metadata": {},
     "output_type": "execute_result"
    },
    {
     "data": {
      "image/png": "[encoded data removed]",
      "text/plain": [
       "<Figure size 432x288 with 1 Axes>"
      ]
     },
     "metadata": {
      "needs_background": "light"
     },
     "output_type": "display_data"
    }
   ],
   "source": [
    "plt.plot(x,y)\n",
    "plt.plot(x[y>0],y[y>0],\"o\")"
   ]
  },
  {
   "cell_type": "code",
   "execution_count": 143,
   "metadata": {},
   "outputs": [],
   "source": []
  },
  {
   "cell_type": "code",
   "execution_count": null,
   "metadata": {},
   "outputs": [],
   "source": []
  }
 ],
 "metadata": {
  "kernelspec": {
   "display_name": "Python 3",
   "language": "python",
   "name": "python3"
  },
  "language_info": {
   "codemirror_mode": {
    "name": "ipython",
    "version": 3
   },
   "file_extension": ".py",
   "mimetype": "text/x-python",
   "name": "python",
   "nbconvert_exporter": "python",
   "pygments_lexer": "ipython3",
   "version": "3.7.3"
  }
 },
 "nbformat": 4,
 "nbformat_minor": 2
}
