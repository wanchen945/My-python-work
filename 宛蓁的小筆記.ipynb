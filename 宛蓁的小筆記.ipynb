{
 "cells": [
  {
   "cell_type": "markdown",
   "metadata": {},
   "source": [
    "# 筆記\n",
    "## 魔術指令\n",
    "* %pylab inline\n",
    "畫圖顯示在網頁裡\n",
    "(這時python已經會了數學)\n",
    "* plot([-2,10,3,13,5])\n",
    "畫圖指令(0,-2)(1,10)(2,3)(3,13)(4,5)\n",
    "* randn(10)\n",
    "隨機亂數 10個點 平均值是0，標準差是1\n",
    "* plot(randn(100))\n",
    "隨機100個點(畫圖)\n",
    "* plot([-2,1,2.7,3.3],[3,-5,6,0])\n",
    "plot([x,y])"
   ]
  },
  {
   "cell_type": "markdown",
   "metadata": {},
   "source": [
    "* 用\" \"引號刮起來的叫字串"
   ]
  },
  {
   "cell_type": "markdown",
   "metadata": {},
   "source": [
    "# 字串"
   ]
  },
  {
   "cell_type": "code",
   "execution_count": 1,
   "metadata": {},
   "outputs": [
    {
     "name": "stdout",
     "output_type": "stream",
     "text": [
      "stephanie\n"
     ]
    }
   ],
   "source": [
    "name=\"stephanie\"\n",
    "print(name)"
   ]
  },
  {
   "cell_type": "markdown",
   "metadata": {},
   "source": [
    "# 中間換行\n",
    "* '''巴拉巴拉\n",
    "鴉鴉鴉\n",
    "喔喔喔\n",
    "'''\n",
    "前後加三引號"
   ]
  },
  {
   "cell_type": "code",
   "execution_count": null,
   "metadata": {},
   "outputs": [],
   "source": []
  },
  {
   "cell_type": "code",
   "execution_count": null,
   "metadata": {},
   "outputs": [],
   "source": []
  }
 ],
 "metadata": {
  "kernelspec": {
   "display_name": "Python 3",
   "language": "python",
   "name": "python3"
  },
  "language_info": {
   "codemirror_mode": {
    "name": "ipython",
    "version": 3
   },
   "file_extension": ".py",
   "mimetype": "text/x-python",
   "name": "python",
   "nbconvert_exporter": "python",
   "pygments_lexer": "ipython3",
   "version": "3.7.3"
  }
 },
 "nbformat": 4,
 "nbformat_minor": 2
}
