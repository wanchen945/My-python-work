{
 "cells": [
  {
   "cell_type": "markdown",
   "metadata": {},
   "source": [
    "## 數字再大都不怕\n",
    "###                           不到3秒解決刁難的題目\n",
    "## 這麼多蘋果到底可以分幾天呢？"
   ]
  },
  {
   "cell_type": "code",
   "execution_count": 11,
   "metadata": {},
   "outputs": [
    {
     "name": "stdout",
     "output_type": "stream",
     "text": [
      "請輸入蘋果數：98888866666666665\n",
      "請輸入人數：1065\n",
      "蘋果可分 92853395931142 天\n",
      "第 92853395931143 天，會少 435 個蘋果\n"
     ]
    }
   ],
   "source": [
    "%matplotlib inline\n",
    "import numpy as np\n",
    "import matplotlib.pyplot as plt\n",
    "import pandas as pd\n",
    "\n",
    "num_1=int(input(\"請輸入蘋果數：\"))\n",
    "num_2=int(input(\"請輸入人數：\"))\n",
    "x=num_1//num_2\n",
    "y=num_1%num_2\n",
    "z=x+1\n",
    "print(\"蘋果可分\",x,\"天\")\n",
    "print(\"第\",z,\"天，會少\",y,\"個蘋果\")"
   ]
  }
 ],
 "metadata": {
  "kernelspec": {
   "display_name": "Python 3",
   "language": "python",
   "name": "python3"
  },
  "language_info": {
   "codemirror_mode": {
    "name": "ipython",
    "version": 3
   },
   "file_extension": ".py",
   "mimetype": "text/x-python",
   "name": "python",
   "nbconvert_exporter": "python",
   "pygments_lexer": "ipython3",
   "version": "3.7.3"
  }
 },
 "nbformat": 4,
 "nbformat_minor": 2
}
