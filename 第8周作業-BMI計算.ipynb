{
 "cells": [
  {
   "cell_type": "markdown",
   "metadata": {},
   "source": [
    "### BMI計算"
   ]
  },
  {
   "cell_type": "code",
   "execution_count": 1,
   "metadata": {},
   "outputs": [],
   "source": [
    "%matplotlib inline\n",
    "import numpy as np\n",
    "import pandas as ad\n",
    "import matplotlib.pyplot as plt"
   ]
  },
  {
   "cell_type": "code",
   "execution_count": 2,
   "metadata": {},
   "outputs": [
    {
     "name": "stdout",
     "output_type": "stream",
     "text": [
      "請輸入身高(公分):170\n",
      "請輸入體重(公斤):49\n",
      "BMI為17.0，過輕\n"
     ]
    }
   ],
   "source": [
    "height=float(input(\"請輸入身高(公分):\"))\n",
    "weight=float(input(\"請輸入體重(公斤):\"))\n",
    "BMI=weight/(height/100)**2\n",
    "\n",
    "if BMI>=35:\n",
    "        print(\"BMI為{:.1f}，{}\".format(BMI,\"重度肥胖\"))\n",
    "elif BMI>=30:\n",
    "        print(\"BMI為{:.1f}，{}\".format(BMI,\"中度肥胖\"))\n",
    "elif BMI>=27:\n",
    "        print(\"BMI為{:.1f}，{}\".format(BMI,\"輕度肥胖\"))\n",
    "elif BMI>=24:\n",
    "        print(\"BMI為{:.1f}，{}\".format(BMI,\"過重\"))\n",
    "elif BMI>=18.5:\n",
    "        print(\"BMI為{:.1f}，{}\".format(BMI,\"正常\"))\n",
    "else:\n",
    "        print(\"BMI為{:.1f}，{}\".format(BMI,\"過輕\"))"
   ]
  }
 ],
 "metadata": {
  "kernelspec": {
   "display_name": "Python 3",
   "language": "python",
   "name": "python3"
  },
  "language_info": {
   "codemirror_mode": {
    "name": "ipython",
    "version": 3
   },
   "file_extension": ".py",
   "mimetype": "text/x-python",
   "name": "python",
   "nbconvert_exporter": "python",
   "pygments_lexer": "ipython3",
   "version": "3.7.3"
  }
 },
 "nbformat": 4,
 "nbformat_minor": 2
}
