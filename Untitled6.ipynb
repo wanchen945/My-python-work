{
 "cells": [
  {
   "cell_type": "code",
   "execution_count": 2,
   "metadata": {},
   "outputs": [
    {
     "ename": "SyntaxError",
     "evalue": "invalid syntax (<ipython-input-2-6146152079dc>, line 17)",
     "output_type": "error",
     "traceback": [
      "\u001b[1;36m  File \u001b[1;32m\"<ipython-input-2-6146152079dc>\"\u001b[1;36m, line \u001b[1;32m17\u001b[0m\n\u001b[1;33m    while player == False\u001b[0m\n\u001b[1;37m                         ^\u001b[0m\n\u001b[1;31mSyntaxError\u001b[0m\u001b[1;31m:\u001b[0m invalid syntax\n"
     ]
    }
   ],
   "source": [
    "# 插入亂數函式庫\n",
    "from random import randint\n",
    "\n",
    "\n",
    "# 建立一個List，包含剪刀、石頭、布\n",
    "move = [\"剪刀\", \"石頭\", \"布\"]\n",
    "\n",
    "print(m)\n",
    "\n",
    "# 用亂數設定電腦的出拳\n",
    "computer = move[randint(0,2)]\n",
    "\n",
    "# 預設玩家沒有出拳\n",
    "player = False\n",
    "\n",
    "# 當使用者沒有出拳時，讓使用者輸入想要出的拳\n",
    "while player == False\n",
    "\n",
    "    # 請使用者出拳\n",
    "    print(\"石頭, 布, 剪刀?\")\n",
    "    player = input(\"你出：\")\n",
    "    \n",
    "    computer = move[randint(0,2)]\n",
    "    # 顯示電腦出拳\n",
    "    print(\"電腦出： \" + computer)\n",
    "\n",
    "    # 如果出一樣的 => 平手  *請注意：這邊已經把所有平手篩選掉了，下面就不會有平手了\n",
    "    if player == computer:\n",
    "        print(\"平手!\")\n",
    "    # 如果玩家出石頭\n",
    "    elif player == \"石頭\":\n",
    "        # 如果電腦出布 => 玩家輸了\n",
    "        if computer == \"布\":\n",
    "            print(\"你輸了!\", computer, \"包住\", player)\n",
    "        # 不然 => 玩家贏了\n",
    "        else:\n",
    "            print(\"你贏了!\", player, \"砸壞了\", computer)\n",
    "    # 如果玩家出布\n",
    "    elif player == \"布\":\n",
    "        # 如果電腦出剪刀 => 玩家輸了\n",
    "        if computer == \"剪刀\":\n",
    "            print(\"你輸了!\", computer, \"剪掉\", player)\n",
    "        # 不然 => 玩家贏了\n",
    "        else:\n",
    "            print(\"你贏了!\", player, \"包住\", computer)\n",
    "    # 如果玩家出剪刀\n",
    "    elif player == \"剪刀\":\n",
    "        # 如果電腦出石頭 => 玩家輸了\n",
    "        if computer == \"石頭\":\n",
    "            print(\"你輸了...\", computer, \"砸壞了\", player)\n",
    "        # 不然 => 玩家贏了\n",
    "        else:\n",
    "            print(\"你贏了!\", player, \"剪掉\", computer)\n",
    "    # 不然就表示，輸入錯誤，或來亂的\n",
    "    else:\n",
    "        # 告訴使用者，你輸入錯誤了\n",
    "        print(\"嗶嗶嗶～只能輸入 剪刀 石頭 布 唷\")\n",
    "    # 如果想讓使用者繼續玩，就是False，如果要讓程式直接結束，設為True\n",
    "    player = False\n",
    "    # 重新設定電腦出拳\n",
    "    computer = move[randint(0,2)]\n",
    "\n"
   ]
  },
  {
   "cell_type": "code",
   "execution_count": null,
   "metadata": {},
   "outputs": [],
   "source": []
  }
 ],
 "metadata": {
  "kernelspec": {
   "display_name": "Python 3",
   "language": "python",
   "name": "python3"
  },
  "language_info": {
   "codemirror_mode": {
    "name": "ipython",
    "version": 3
   },
   "file_extension": ".py",
   "mimetype": "text/x-python",
   "name": "python",
   "nbconvert_exporter": "python",
   "pygments_lexer": "ipython3",
   "version": "3.7.3"
  }
 },
 "nbformat": 4,
 "nbformat_minor": 2
}
