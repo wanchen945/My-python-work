{
 "cells": [
  {
   "cell_type": "code",
   "execution_count": 2,
   "metadata": {},
   "outputs": [],
   "source": [
    "%matplotlib inline\n",
    "import numpy as np\n",
    "import pandas as pd\n",
    "import matplotlib.pyplot as plt\n",
    "from numpy.random import randint\n",
    "from numpy.random import choice\n",
    "from IPython.display import display,HTML,Markdown,Image,YouTubeVideo\n",
    "from ipywidgets import interact\n",
    "import random\n",
    "funvideo=YouTubeVideo(\"5bqiK98bVGQ\")\n",
    "funvideo_2=YouTubeVideo(\"AZ4s3UnQW6s\")\n",
    "funvideo_3=YouTubeVideo(\"5bqiK98bVGQ\")"
   ]
  },
  {
   "cell_type": "code",
   "execution_count": 3,
   "metadata": {},
   "outputs": [
    {
     "data": {
      "text/plain": [
       "'first_q=input(\"今天心情好嗎？\")\\nif \"不好\" or \"糟透了\" or \"不開心\" in first_q:\\n        print(\"發生了什麼事？要跟我說說嗎？我是一個很棒的傾聽者黝\")\\n        input(\"請輸入:\")\\n        print(\"我能明白，你心裡一定很不舒服，那先看個好笑的影片放鬆一下心情吧真的很好笑喔哈哈哈\")#換行\\n        display(funvideo)\\n        input(\"ヽ(●´∀`●)ﾉ快看快看\")\\n        A=input(\"是不是真的超好笑哈哈哈心情有比較好嗎？\")\\n        while True:\\n            if A==(\"有\"):\\n                print(\"哈哈看來是小天使的同好呢(*´∀`)~♥\")\\n            elif A==(\"沒有\"):\\n                print(\"那我再給你看一部我覺得很好笑的哈哈哈\")\\n                display(funvideo_2)\\n                input(\">>看完按enter\")\\n                AA=input(\"看完後心情有比較好嗎\")\\n                while True:\\n                    if AA==(\"有\"):\\n                        print(\"hughug拍拍沒事的(*´ω`)人(´ω`*) 生活不是單行道，一條路走不通，可以轉彎黝*ଘ(੭*ˊᵕˋ)੭* ੈ✩‧₊˚小天使我永遠都在\")\\n                        break\\n                    elif AA==(\"沒有\"):\\n                        print(\"看來你是要哭過心情才會放鬆的類型呢那小天使我推薦幾部會哭的劇、電影給你\")\\n                        def f(x):\\n                            print(x)\\n                            interact(f,x={\"夏至未至\":\"是一部校園偶像劇，集數很多，男二超帥\",\"比悲傷更悲傷的故事\":\"劉以豪和陳意涵演的電影，真的會哭\"});\\n                        break\\n                    else:\\n                        print(\"唉呦你怎麼那麼可愛 輸入有或沒有啦 不然小天使我太笨了看不懂啦(๑•́ ₃ •̀๑)\")\\n                        AA=input(\"看完後心情有比較好嗎\")\\n            else:\\n                print(\"唉呦你怎麼那麼可愛 輸入有或沒有啦 不然小天使我太笨了看不懂啦(๑•́ ₃ •̀๑)\")\\n                A=input(\"是不是真的超好笑哈哈哈心情有比較好嗎？\")'"
      ]
     },
     "execution_count": 3,
     "metadata": {},
     "output_type": "execute_result"
    }
   ],
   "source": [
    "'''first_q=input(\"今天心情好嗎？\")\n",
    "if \"不好\" or \"糟透了\" or \"不開心\" in first_q:\n",
    "        print(\"發生了什麼事？要跟我說說嗎？我是一個很棒的傾聽者黝\")\n",
    "        input(\"請輸入:\")\n",
    "        print(\"我能明白，你心裡一定很不舒服，那先看個好笑的影片放鬆一下心情吧真的很好笑喔哈哈哈\")#換行\n",
    "        display(funvideo)\n",
    "        input(\"ヽ(●´∀`●)ﾉ快看快看\")\n",
    "        A=input(\"是不是真的超好笑哈哈哈心情有比較好嗎？\")\n",
    "        while True:\n",
    "            if A==(\"有\"):\n",
    "                print(\"哈哈看來是小天使的同好呢(*´∀`)~♥\")\n",
    "            elif A==(\"沒有\"):\n",
    "                print(\"那我再給你看一部我覺得很好笑的哈哈哈\")\n",
    "                display(funvideo_2)\n",
    "                input(\">>看完按enter\")\n",
    "                AA=input(\"看完後心情有比較好嗎\")\n",
    "                while True:\n",
    "                    if AA==(\"有\"):\n",
    "                        print(\"hughug拍拍沒事的(*´ω`)人(´ω`*) 生活不是單行道，一條路走不通，可以轉彎黝*ଘ(੭*ˊᵕˋ)੭* ੈ✩‧₊˚小天使我永遠都在\")\n",
    "                        break\n",
    "                    elif AA==(\"沒有\"):\n",
    "                        print(\"看來你是要哭過心情才會放鬆的類型呢那小天使我推薦幾部會哭的劇、電影給你\")\n",
    "                        def f(x):\n",
    "                            print(x)\n",
    "                            interact(f,x={\"夏至未至\":\"是一部校園偶像劇，集數很多，男二超帥\",\"比悲傷更悲傷的故事\":\"劉以豪和陳意涵演的電影，真的會哭\"});\n",
    "                        break\n",
    "                    else:\n",
    "                        print(\"唉呦你怎麼那麼可愛 輸入有或沒有啦 不然小天使我太笨了看不懂啦(๑•́ ₃ •̀๑)\")\n",
    "                        AA=input(\"看完後心情有比較好嗎\")\n",
    "            else:\n",
    "                print(\"唉呦你怎麼那麼可愛 輸入有或沒有啦 不然小天使我太笨了看不懂啦(๑•́ ₃ •̀๑)\")\n",
    "                A=input(\"是不是真的超好笑哈哈哈心情有比較好嗎？\")'''"
   ]
  },
  {
   "cell_type": "code",
   "execution_count": 4,
   "metadata": {},
   "outputs": [
    {
     "data": {
      "text/plain": [
       "'if \"還好\" or \"還不錯\" in first_q:\\n        print(\"那很棒耶，那跟小天使玩個猜數字的遊戲吧，小天使好想玩喔\")\\n        x=np.random.randint(1,100)\\n        y=int(input(\"請輸入1-100中，你所猜的數字: \"))\\n\\n        if (y<x):\\n                print(\"小天使心中的數字比{}大\".format(y))\\n        elif (y>x):\\n                print(\"小天使心中的數字比{}小\".format(y))\\n        else:\\n                print(\"That\\'s the correct answer! Awesome d(`･∀･)b\")\\n        while y != x:\\n                y=int(input(\"再猜一個數字: \"))\\n                if (y<x):\\n                        print(\"再大一點\")\\n                elif (y>x):\\n                        print(\"再小一點\")\\n                else:\\n                        print(\"That\\'s the correct answer! Awesome d(`･∀･)b\")\\n                        break\\n        print(\">>(ﾉ>ω<)ﾉ(ﾉ>ω<)ﾉ(ﾉ>ω<)ﾉ\")\\n        print(\"作為獎勵，小天使免費幫你算你的BMI✧*｡٩(ˊᗜˋ*)و✧*｡\")\\n        height=float(input(\"請輸入身高(公分):\"))\\n        weight=float(input(\"請輸入體重(公斤):\"))\\n        BMI=weight/(height/100)**2\\n\\n        if BMI>=35:\\n            print(\"BMI為{:.1f}，{}\".format(BMI,\"重度肥胖，少吃一點啦啦啦\"))\\n        elif BMI>=30:\\n            print(\"BMI為{:.1f}，{}\".format(BMI,\"中度肥胖\"))\\n        elif BMI>=27:\\n            print(\"BMI為{:.1f}，{}\".format(BMI,\"輕度肥胖\"))\\n        elif BMI>=24:\\n            print(\"BMI為{:.1f}，{}\".format(BMI,\"過重\"))\\n        elif BMI>=18.5:\\n            print(\"BMI為{:.1f}，{}\".format(BMI,\"正常\"))\\n        else:\\n            print(\"BMI為{:.1f}，{}\".format(BMI,\"過輕\"))'"
      ]
     },
     "execution_count": 4,
     "metadata": {},
     "output_type": "execute_result"
    }
   ],
   "source": [
    "'''if \"還好\" or \"還不錯\" in first_q:\n",
    "        print(\"那很棒耶，那跟小天使玩個猜數字的遊戲吧，小天使好想玩喔\")\n",
    "        x=np.random.randint(1,100)\n",
    "        y=int(input(\"請輸入1-100中，你所猜的數字: \"))\n",
    "\n",
    "        if (y<x):\n",
    "                print(\"小天使心中的數字比{}大\".format(y))\n",
    "        elif (y>x):\n",
    "                print(\"小天使心中的數字比{}小\".format(y))\n",
    "        else:\n",
    "                print(\"That's the correct answer! Awesome d(`･∀･)b\")\n",
    "        while y != x:\n",
    "                y=int(input(\"再猜一個數字: \"))\n",
    "                if (y<x):\n",
    "                        print(\"再大一點\")\n",
    "                elif (y>x):\n",
    "                        print(\"再小一點\")\n",
    "                else:\n",
    "                        print(\"That's the correct answer! Awesome d(`･∀･)b\")\n",
    "                        break\n",
    "        print(\">>(ﾉ>ω<)ﾉ(ﾉ>ω<)ﾉ(ﾉ>ω<)ﾉ\")\n",
    "        print(\"作為獎勵，小天使免費幫你算你的BMI✧*｡٩(ˊᗜˋ*)و✧*｡\")\n",
    "        height=float(input(\"請輸入身高(公分):\"))\n",
    "        weight=float(input(\"請輸入體重(公斤):\"))\n",
    "        BMI=weight/(height/100)**2\n",
    "\n",
    "        if BMI>=35:\n",
    "            print(\"BMI為{:.1f}，{}\".format(BMI,\"重度肥胖，少吃一點啦啦啦\"))\n",
    "        elif BMI>=30:\n",
    "            print(\"BMI為{:.1f}，{}\".format(BMI,\"中度肥胖\"))\n",
    "        elif BMI>=27:\n",
    "            print(\"BMI為{:.1f}，{}\".format(BMI,\"輕度肥胖\"))\n",
    "        elif BMI>=24:\n",
    "            print(\"BMI為{:.1f}，{}\".format(BMI,\"過重\"))\n",
    "        elif BMI>=18.5:\n",
    "            print(\"BMI為{:.1f}，{}\".format(BMI,\"正常\"))\n",
    "        else:\n",
    "            print(\"BMI為{:.1f}，{}\".format(BMI,\"過輕\"))'''"
   ]
  },
  {
   "cell_type": "code",
   "execution_count": 5,
   "metadata": {},
   "outputs": [
    {
     "data": {
      "text/plain": [
       "'if \"好\" or \"超好\" in first_q:\\n    \\n    print(\"那真是太棒了，小天使今天也超級開心的\")\\n    print(\"在這開心的日子裡，我們來玩個剪刀石頭布吧\")\\n    input(\"好不好？只能說好喔\")\\n    print(\"好，那我們來玩吧\")\\n        \\n    move = [\"剪刀\", \"石頭\", \"布\"]\\n\\n    computer = move[randint(0,2)]\\n\\n    player = False\\n\\n\\n    while player == False:\\n    \\n        print(\"石頭， 布， 剪刀，結束遊戲？\")\\n        player = input(\"你出：\")\\n    \\n        computer = move[randint(0,2)]\\n        print(\"小天使出： \" + computer)\\n\\n        if player == computer:\\n            print(\"平手!\")\\n    \\n        elif player == \"石頭\":\\n        \\n            if computer == \"布\":\\n                print(\"你輸了嘿嘿!\", computer, \"包住\", player)\\n        \\n            else:\\n                print(\"嗚嗚你贏了!\", player, \"砸壞了\", computer)\\n    \\n        elif player == \"布\":\\n        \\n            if computer == \"剪刀\":\\n                print(\"你輸了嘿嘿!\", computer, \"剪掉\", player)\\n        \\n            else:\\n                print(\"嗚嗚你贏了!\", player, \"包住\", computer)\\n   \\n        elif player == \"剪刀\":\\n        \\n            if computer == \"石頭\":\\n                print(\"你輸了不哭不哭...\", computer, \"砸壞了\", player)\\n        \\n            else:\\n                print(\"你贏了棒棒!\", player, \"剪掉\", computer)\\n    \\n        elif player==\"結束遊戲\":\\n            break\\n\\n        \\n        else:\\n            print(\"認真點啦小天使想跟你玩剪刀石頭不很久了耶～只能輸入 剪刀 石頭 布 唷\")\\n    \\n        player = False\\n\\ninput(\"哈哈哈你覺得好玩嗎？\")\\nprint(\"小天使覺得很好玩ε٩(๑> ₃ <)۶з謝謝你陪小天使玩\")'"
      ]
     },
     "execution_count": 5,
     "metadata": {},
     "output_type": "execute_result"
    }
   ],
   "source": [
    "'''if \"好\" or \"超好\" in first_q:\n",
    "    \n",
    "    print(\"那真是太棒了，小天使今天也超級開心的\")\n",
    "    print(\"在這開心的日子裡，我們來玩個剪刀石頭布吧\")\n",
    "    input(\"好不好？只能說好喔\")\n",
    "    print(\"好，那我們來玩吧\")\n",
    "        \n",
    "    move = [\"剪刀\", \"石頭\", \"布\"]\n",
    "\n",
    "    computer = move[randint(0,2)]\n",
    "\n",
    "    player = False\n",
    "\n",
    "\n",
    "    while player == False:\n",
    "    \n",
    "        print(\"石頭， 布， 剪刀，結束遊戲？\")\n",
    "        player = input(\"你出：\")\n",
    "    \n",
    "        computer = move[randint(0,2)]\n",
    "        print(\"小天使出： \" + computer)\n",
    "\n",
    "        if player == computer:\n",
    "            print(\"平手!\")\n",
    "    \n",
    "        elif player == \"石頭\":\n",
    "        \n",
    "            if computer == \"布\":\n",
    "                print(\"你輸了嘿嘿!\", computer, \"包住\", player)\n",
    "        \n",
    "            else:\n",
    "                print(\"嗚嗚你贏了!\", player, \"砸壞了\", computer)\n",
    "    \n",
    "        elif player == \"布\":\n",
    "        \n",
    "            if computer == \"剪刀\":\n",
    "                print(\"你輸了嘿嘿!\", computer, \"剪掉\", player)\n",
    "        \n",
    "            else:\n",
    "                print(\"嗚嗚你贏了!\", player, \"包住\", computer)\n",
    "   \n",
    "        elif player == \"剪刀\":\n",
    "        \n",
    "            if computer == \"石頭\":\n",
    "                print(\"你輸了不哭不哭...\", computer, \"砸壞了\", player)\n",
    "        \n",
    "            else:\n",
    "                print(\"你贏了棒棒!\", player, \"剪掉\", computer)\n",
    "    \n",
    "        elif player==\"結束遊戲\":\n",
    "            break\n",
    "\n",
    "        \n",
    "        else:\n",
    "            print(\"認真點啦小天使想跟你玩剪刀石頭不很久了耶～只能輸入 剪刀 石頭 布 唷\")\n",
    "    \n",
    "        player = False\n",
    "\n",
    "input(\"哈哈哈你覺得好玩嗎？\")\n",
    "print(\"小天使覺得很好玩ε٩(๑> ₃ <)۶з謝謝你陪小天使玩\")'''"
   ]
  },
  {
   "cell_type": "code",
   "execution_count": 6,
   "metadata": {},
   "outputs": [
    {
     "ename": "SyntaxError",
     "evalue": "invalid syntax (<ipython-input-6-88064877004a>, line 1)",
     "output_type": "error",
     "traceback": [
      "\u001b[1;36m  File \u001b[1;32m\"<ipython-input-6-88064877004a>\"\u001b[1;36m, line \u001b[1;32m1\u001b[0m\n\u001b[1;33m    else:\u001b[0m\n\u001b[1;37m       ^\u001b[0m\n\u001b[1;31mSyntaxError\u001b[0m\u001b[1;31m:\u001b[0m invalid syntax\n"
     ]
    }
   ],
   "source": [
    "else:\n",
    "        print(\"小天使不太很明白你的意思，我還在學習中，等小天使變聰明以後，就能明白你說什麼了\")\n",
    "        input(\"請輸入好、不好或還不錯\")"
   ]
  },
  {
   "cell_type": "code",
   "execution_count": null,
   "metadata": {},
   "outputs": [],
   "source": [
    "#心理測驗部分\n",
    "\n",
    "input(\"我們來玩個心理測驗吧\")\n",
    "![超準心理測驗](001.png)\n",
    "num =input(\"小天使是11號，你是幾號呢？\")\n",
    "if num==\"1\":\n",
    "        print(\"🌞積極、熱情、陽光都是你的特質，面對困難與未知，樂觀的你不會輕易地被打倒。\",\"\\n\\n\",\"你堅信會越挫越勇，只要報著積極向上的態度，沒有什麼事解決不了。\",\"\\n\\n\",\"這樣的人很容易取得成功。\")\n",
    "elif num==\"2\":\n",
    "    print(\"你在朋友圈裡富有群眾魅力。在朋友的心裡，你的地位無可撼動。\",\"\\n\\n\",\"當朋友快樂時，你願意和她分享喜悅。\",\"\\n\\n\",\"當朋友有困難時，你總是第一個站出來想方設法地去解決。\",\"\\n\\n\",\"仗義的你自然大家的都很喜歡。\")\n",
    "elif num==\"3\":\n",
    "    print(\"🌞積極、熱情、陽光都是你的特質，面對困難與未知，樂觀的你不會輕易地被打倒。\",\"\\n\\n\",\"你堅信會越挫越勇，只要報著積極向上的態度，沒有什麼事解決不了。\",\"\\n\\n\",\"這樣的人很容易取得成功。\")\n",
    "elif num==\"4\":\n",
    "    print(\"🌹你隨遇而安，對於物質要求不會很高。\",\"\\n\\n\",\"你看重的是精神上的安逸與舒適\",\"\\n\\n\",\"你的革新精神比較弱，難以接受按部就班的生活被打破。\",\"\\n\\n\",\"在追逐成功的路上也是如此，你希望能一帆風順，沒有任何阻礙的抵達終點。\")\n",
    "elif num==\"5\":\n",
    "    print(\"你生性憂鬱悲觀。\",\"\\n\\n\",\"生活中很難有事物能吸引你的注意力。\",\"\\n\\n\",\"苦悶煩惱積鬱在心中，你不願向別人抱怨訴苦也找不到傾訴的方式。\",\"\\n\\n\",\"這樣的你對生活沒有任何動力。\")\n",
    "elif num==\"6\":\n",
    "    print(\"🌞積極、熱情、陽光都是你的特質，面對困難與未知，樂觀的你不會輕易地被打倒。\",\"\\n\\n\",\"你堅信會越挫越勇，只要報著積極向上的態度，沒有什麼事解決不了。\",\"\\n\\n\",\"這樣的人很容易取得成功。\")\n",
    "elif num==\"7\":\n",
    "    print(\"🌞積極、熱情、陽光都是你的特質，面對困難與未知，樂觀的你不會輕易地被打倒。\",\"\\n\\n\",\"你堅信會越挫越勇，只要報著積極向上的態度，沒有什麼事解決不了。\",\"\\n\\n\",\"這樣的人很容易取得成功。\")\n",
    "elif num==\"8\":\n",
    "    print(\"👼🏻你單純善良，自尊心很強，又帶著一點小驕傲。\",\"\\n\\n\",\"你活在自己的世界裡，不論做什麼多是按照自己的感覺走。\",\"\\n\\n\",\"喜歡幻想，不會去過多在意他人的看法。\")\n",
    "elif num==\"9\":\n",
    "    print(\"你在朋友圈中一定屬於活躍氣氛的高手。\",\"\\n\\n\",\"不拘小節，沒有心機。\",\"\\n\\n\",\"總是喜歡用一種簡單的方式去和別人相處。\",\"\\n\\n\",\"好奇心很強，只要是你感興趣的東西，一定要玩出花樣。\")\n",
    "elif num==\"10\":\n",
    "    print(\"你拒絕低俗、崇尚高尚。\",\"\\n\\n\",\"對於生活品質有著一定的要求。\",\"\\n\\n\",\"你心無城府，遇事不喜歡與別人爭搶。\",\"\\n\\n\",\"但對於屬於自己的，就會拼盡一切去爭取。\")\n",
    "elif num==\"11\":\n",
    "    print(\"你在朋友圈裡富有群眾魅力。在朋友的心裡，你的地位無可撼動。\",\"\\n\\n\",\"當朋友快樂時，你願意和她分享喜悅。\",\"\\n\\n\",\"當朋友有困難時，你總是第一個站出來想方設法地去解決。\",\"\\n\\n\",\"仗義的你自然大家的都很喜歡。\")\n",
    "elif num==\"12\":\n",
    "    print(\"你在朋友圈裡富有群眾魅力。在朋友的心裡，你的地位無可撼動。\",\"\\n\\n\",\"當朋友快樂時，你願意和她分享喜悅。\",\"\\n\\n\",\"當朋友有困難時，你總是第一個站出來想方設法地去解決。\",\"\\n\\n\",\"仗義的你自然大家的都很喜歡。\")\n",
    "elif num==\"13\":\n",
    "    print(\"🌙你是一個外向的孤獨患者，封閉的內心別人很難闖進。\",\"\\n\\n\",\"對你來說，逃避是一種習慣，你把自己包裹的很嚴實，不願與人分享自己的秘密，也不善於跟他人溝通交流。\")\n",
    "elif num==\"14\":\n",
    "    print(\"🌧你時常會處於一種進退兩難的境地。\",\"\\n\\n\",\"無論是感情還是生活，即便出現問題你還是期待事情能有轉機，不願意、不捨得輕易去做出改變。\")\n",
    "elif num==\"15\":\n",
    "    print(\"你拒絕低俗、崇尚高尚。\",\"\\n\\n\",\"對於生活品質有著一定的要求。\",\"\\n\\n\",\"你心無城府，遇事不喜歡與別人爭搶。\",\"\\n\\n\",\"但對於屬於自己的，就會拼盡一切去爭取。\")\n",
    "elif num==\"16\":\n",
    "    print(\"🍄你比較依賴別人，遇到比較棘手的情況時，總是渴望能夠得到他人的幫助和依靠。\",\"\\n\\n\",\"看起來神經大條，其實內心極度敏感。\")\n",
    "elif num==\"17\":\n",
    "    print(\"你責任感很強，是非常值得信賴的人。\",\"\\n\\n\",\"即便是再糾結的事，朋友在你的安慰下，也會煙消雲散。\",\"\\n\\n\",\"你本內心孤獨但卻害怕孤獨，希望時刻得到別人的關注。\")\n",
    "elif num==\"18\":\n",
    "    print(\"你在朋友圈裡富有群眾魅力。在朋友的心裡，你的地位無可撼動。\",\"\\n\\n\",\"當朋友快樂時，你願意和她分享喜悅。\",\"\\n\\n\",\"當朋友有困難時，你總是第一個站出來想方設法地去解決。\",\"\\n\\n\",\"仗義的你自然大家的都很喜歡。\")\n",
    "elif num==\"19\":\n",
    "    print(\"你在朋友圈裡富有群眾魅力。在朋友的心裡，你的地位無可撼動。\",\"\\n\\n\",\"當朋友快樂時，你願意和她分享喜悅。\",\"\\n\\n\",\"當朋友有困難時，你總是第一個站出來想方設法地去解決。\",\"\\n\\n\",\"仗義的你自然大家的都很喜歡。\")\n",
    "elif num==\"20\":\n",
    "    print(\"你生來想要做王者，渴望成為團體中領導者的角色。\",\"\\n\\n\",\"但有時因為你的高傲自大，可能會傷害真正關心你的人。\")\n",
    "elif num==\"21\":\n",
    "    print(\"🌙你是一個外向的孤獨患者，封閉的內心別人很難闖進。\",\"\\n\\n\",\"對你來說，逃避是一種習慣，你把自己包裹的很嚴實，不願與人分享自己的秘密，也不善於跟他人溝通交流。\")\n",
    "else:\n",
    "    print(\"請輸入1~21的數字喔\")"
   ]
  },
  {
   "cell_type": "code",
   "execution_count": 7,
   "metadata": {},
   "outputs": [
    {
     "name": "stderr",
     "output_type": "stream",
     "text": [
      "'[超準心理測驗]' 不是內部或外部命令、可執行的程式或批次檔。\n"
     ]
    }
   ],
   "source": [
    "![超準心理測驗](001.png)"
   ]
  },
  {
   "cell_type": "code",
   "execution_count": null,
   "metadata": {},
   "outputs": [],
   "source": [
    "def f(x):\n",
    "    print(x)\n",
    "interact(f,x={\"夏至未至\":\"是一部校園偶像劇，集數很多，男二超帥\",\"比悲傷更悲傷的故事\":\"劉以豪和陳意涵演的電影，真的會哭\"});"
   ]
  },
  {
   "cell_type": "code",
   "execution_count": null,
   "metadata": {},
   "outputs": [],
   "source": [
    "#算bmi\n",
    "'''height=float(input(\"請輸入身高(公分):\"))\n",
    "weight=float(input(\"請輸入體重(公斤):\"))\n",
    "BMI=weight/(height/100)**2\n",
    "\n",
    "if BMI>=35:\n",
    "        print(\"BMI為{:.1f}，{}\".format(BMI,\"重度肥胖\"))\n",
    "elif BMI>=30:\n",
    "        print(\"BMI為{:.1f}，{}\".format(BMI,\"中度肥胖\"))\n",
    "elif BMI>=27:\n",
    "        print(\"BMI為{:.1f}，{}\".format(BMI,\"輕度肥胖\"))\n",
    "elif BMI>=24:\n",
    "        print(\"BMI為{:.1f}，{}\".format(BMI,\"過重\"))\n",
    "elif BMI>=18.5:\n",
    "        print(\"BMI為{:.1f}，{}\".format(BMI,\"正常\"))\n",
    "else:\n",
    "        print(\"BMI為{:.1f}，{}\".format(BMI,\"過輕\"))'''"
   ]
  },
  {
   "cell_type": "code",
   "execution_count": null,
   "metadata": {},
   "outputs": [],
   "source": [
    "'''move = [\"剪刀\", \"石頭\", \"布\"]\n",
    "\n",
    "computer = move[randint(0,2)]\n",
    "\n",
    "player = False\n",
    "\n",
    "\n",
    "while player == False:\n",
    "    \n",
    "    print(\"石頭， 布， 剪刀，結束遊戲？\")\n",
    "    player = input(\"你出：\")\n",
    "    \n",
    "    computer = move[randint(0,2)]\n",
    "    print(\"電腦出： \" + computer)\n",
    "\n",
    "    if player == computer:\n",
    "        print(\"平手!\")\n",
    "    \n",
    "    elif player == \"石頭\":\n",
    "        \n",
    "        if computer == \"布\":\n",
    "            print(\"你輸了!\", computer, \"包住\", player)\n",
    "        \n",
    "        else:\n",
    "            print(\"你贏了!\", player, \"砸壞了\", computer)\n",
    "    \n",
    "    elif player == \"布\":\n",
    "        \n",
    "        if computer == \"剪刀\":\n",
    "            print(\"你輸了!\", computer, \"剪掉\", player)\n",
    "        \n",
    "        else:\n",
    "            print(\"你贏了!\", player, \"包住\", computer)\n",
    "   \n",
    "    elif player == \"剪刀\":\n",
    "        \n",
    "        if computer == \"石頭\":\n",
    "            print(\"你輸了...\", computer, \"砸壞了\", player)\n",
    "        \n",
    "        else:\n",
    "            print(\"你贏了!\", player, \"剪掉\", computer)\n",
    "    \n",
    "    elif player==\"結束遊戲\":\n",
    "        break\n",
    "\n",
    "        \n",
    "    else:\n",
    "        print(\"嗶嗶嗶～只能輸入 剪刀 石頭 布 唷\")\n",
    "    \n",
    "    player = False'''\n"
   ]
  },
  {
   "cell_type": "code",
   "execution_count": null,
   "metadata": {},
   "outputs": [],
   "source": []
  },
  {
   "cell_type": "code",
   "execution_count": null,
   "metadata": {},
   "outputs": [],
   "source": []
  }
 ],
 "metadata": {
  "kernelspec": {
   "display_name": "Python 3",
   "language": "python",
   "name": "python3"
  },
  "language_info": {
   "codemirror_mode": {
    "name": "ipython",
    "version": 3
   },
   "file_extension": ".py",
   "mimetype": "text/x-python",
   "name": "python",
   "nbconvert_exporter": "python",
   "pygments_lexer": "ipython3",
   "version": "3.7.3"
  }
 },
 "nbformat": 4,
 "nbformat_minor": 2
}
