{
 "cells": [
  {
   "cell_type": "code",
   "execution_count": 1,
   "metadata": {},
   "outputs": [
    {
     "name": "stdout",
     "output_type": "stream",
     "text": [
      "我們來玩個心理測驗吧4\n"
     ]
    },
    {
     "name": "stderr",
     "output_type": "stream",
     "text": [
      "'[超準心理測驗]' 不是內部或外部命令、可執行的程式或批次檔。\n"
     ]
    },
    {
     "name": "stdout",
     "output_type": "stream",
     "text": [
      "小天使是11號，你是幾號呢？1\n",
      "🌞積極、熱情、陽光都是你的特質，面對困難與未知，樂觀的你不會輕易地被打倒。 \n",
      "\n",
      " 你堅信會越挫越勇，只要報著積極向上的態度，沒有什麼事解決不了。 \n",
      "\n",
      " 這樣的人很容易取得成功。\n"
     ]
    }
   ],
   "source": [
    "input(\"我們來玩個心理測驗吧\")\n",
    "![超準心理測驗](001.png)\n",
    "num =input(\"小天使是11號，你是幾號呢？\")\n",
    "if num==\"1\":\n",
    "        print(\"🌞積極、熱情、陽光都是你的特質，面對困難與未知，樂觀的你不會輕易地被打倒。\",\"\\n\\n\",\"你堅信會越挫越勇，只要報著積極向上的態度，沒有什麼事解決不了。\",\"\\n\\n\",\"這樣的人很容易取得成功。\")"
   ]
  },
  {
   "cell_type": "code",
   "execution_count": null,
   "metadata": {},
   "outputs": [],
   "source": []
  }
 ],
 "metadata": {
  "kernelspec": {
   "display_name": "Python 3",
   "language": "python",
   "name": "python3"
  },
  "language_info": {
   "codemirror_mode": {
    "name": "ipython",
    "version": 3
   },
   "file_extension": ".py",
   "mimetype": "text/x-python",
   "name": "python",
   "nbconvert_exporter": "python",
   "pygments_lexer": "ipython3",
   "version": "3.7.3"
  }
 },
 "nbformat": 4,
 "nbformat_minor": 2
}
