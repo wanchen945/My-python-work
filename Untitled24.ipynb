{
 "cells": [
  {
   "cell_type": "code",
   "execution_count": 1,
   "metadata": {},
   "outputs": [],
   "source": [
    "import numpy as np\n",
    "from numpy.random import choice"
   ]
  },
  {
   "cell_type": "code",
   "execution_count": 2,
   "metadata": {},
   "outputs": [
    {
     "name": "stdout",
     "output_type": "stream",
     "text": [
      "今天心情好嗎？cl3\n",
      "今天心情好嗎？\n",
      "今天心情好嗎？還好\n",
      "\u001b[1;34m那很棒耶，那跟小天使玩個猜數字的遊戲吧，小天使好想玩喔\n",
      "請輸入1-100中，你所猜的數字: 50\n",
      "\u001b[1;35m小天使心中的數字比50小\n",
      "再猜一個數字: 25\n",
      "\u001b[1;34m再大一點\n",
      "再猜一個數字: 30\n",
      "\u001b[1;34m再大一點\n",
      "再猜一個數字: 35\n",
      "\u001b[1;34m再大一點\n",
      "再猜一個數字: 40\n",
      "\u001b[1;34m再大一點\n",
      "再猜一個數字: 45\n",
      "\u001b[1;35m再小一點\n",
      "再猜一個數字: 42\n",
      "\u001b[1;35m再小一點\n",
      "再猜一個數字: 41\n",
      "\u001b[1;37mThat's the correct answer! Awesome d(`･∀･)b\n",
      ">>(ﾉ>ω<)ﾉ(ﾉ>ω<)ﾉ(ﾉ>ω<)ﾉ\n",
      "\u001b[4;34m作為獎勵，小天使免費幫你算你的BMI✧*｡٩(ˊᗜˋ*)و✧*｡\n",
      "請輸入身高(公分):15\n",
      "請輸入體重(公斤):2\n",
      "\u001b[7;31mBMI為88.9，重度肥胖，少吃一點啦啦啦\n",
      "\u001b[1;30m小天使最近最近發現了幾部超好笑的片，快點進去看超好笑哈哈哈\n",
      "雖然剛剛才算完BMI，但看影片就是要飲料XDDDD \n",
      "\n",
      " 小天使隨機幫你選了一杯熱量比較低的\n",
      "今日結果： ['珍珠鮮奶茶'] + ['無糖'] + ['微冰']\n"
     ]
    }
   ],
   "source": [
    "while True:\n",
    "    \n",
    "    first_q=input(\"\\033[1;34m今天心情好嗎？\")    \n",
    "    if first_q==\"還好\":\n",
    "            print(\"\\033[1;34m那很棒耶，那跟小天使玩個猜數字的遊戲吧，小天使好想玩喔\")\n",
    "            x=np.random.randint(1,100)\n",
    "            y=int(input(\"\\033[1;37m請輸入1-100中，你所猜的數字: \"))\n",
    "\n",
    "            if (y<x):\n",
    "                    print(\"\\033[1;34m小天使心中的數字比{}大\".format(y))\n",
    "            elif (y>x):\n",
    "                    print(\"\\033[1;35m小天使心中的數字比{}小\".format(y))\n",
    "            else:\n",
    "                    print(\"That's the correct answer! Awesome d(`･∀･)b\")\n",
    "            while y != x:\n",
    "                    y=int(input(\"\\033[1;37m再猜一個數字: \"))\n",
    "                    if (y<x):\n",
    "                            print(\"\\033[1;34m再大一點\")\n",
    "                    elif (y>x):\n",
    "                            print(\"\\033[1;35m再小一點\")\n",
    "                    else:\n",
    "                        print(\"\\033[1;37mThat's the correct answer! Awesome d(`･∀･)b\")\n",
    "                        break\n",
    "            print(\">>(ﾉ>ω<)ﾉ(ﾉ>ω<)ﾉ(ﾉ>ω<)ﾉ\")\n",
    "            print(\"\\033[4;34m作為獎勵，小天使免費幫你算你的BMI✧*｡٩(ˊᗜˋ*)و✧*｡\")\n",
    "            height=float(input(\"請輸入身高(公分):\"))\n",
    "            weight=float(input(\"請輸入體重(公斤):\"))\n",
    "            BMI=weight/(height/100)**2\n",
    "\n",
    "            if BMI>=35:\n",
    "                print(\"\\033[7;31mBMI為{:.1f}，{}\".format(BMI,\"重度肥胖，少吃一點啦啦啦\"))\n",
    "            elif BMI>=30:\n",
    "                print(\"\\033[7;31mBMI為{:.1f}，{}\".format(BMI,\"中度肥胖，少吃一點少吃一點\"))\n",
    "            elif BMI>=27:\n",
    "                print(\"\\033[7;31mBMI為{:.1f}，{}\".format(BMI,\"輕度肥胖，少吃一點多運動\"))\n",
    "            elif BMI>=24:\n",
    "                print(\"\\033[7;31mBMI為{:.1f}，{}\".format(BMI,\"過重，多運動多運動\"))\n",
    "            elif BMI>=18.5:\n",
    "                print(\"\\033[7;32mBMI為{:.1f}，{}\".format(BMI,\"正常，繼續保持讚讚\"))\n",
    "            else:\n",
    "                print(\"\\033[7;32mBMI為{:.1f}，{}\".format(BMI,\"過輕，多吃一點，記得要營養均衡黝\"))\n",
    "            print(\"\\033[1;30m小天使最近最近發現了幾部超好笑的片，快點進去看超好笑哈哈哈\")\n",
    "            print(\"雖然剛剛才算完BMI，但看影片就是要飲料XDDDD\",\"\\n\\n\",\"小天使隨機幫你選了一杯熱量比較低的\")\n",
    "            drink=[\"珍珠鮮奶茶\",\"日月潭紅茶\",\"梅子綠茶\",\"四季春\",\"檸檬紅茶\",\"焦糖鮮奶\"]\n",
    "            sweet=[\"無糖\"]\n",
    "            ice=[\"正常冰\",\"少冰\",\"微冰\",\"去冰\",\"完全去冰\"]\n",
    "            print(\"今日結果：\",choice(drink,1),\"+\",choice(sweet,1),\"+\",choice(ice,1))\n",
    "            display()\n",
    "            break "
   ]
  },
  {
   "cell_type": "code",
   "execution_count": 3,
   "metadata": {},
   "outputs": [
    {
     "name": "stdout",
     "output_type": "stream",
     "text": [
      "\u001b[1;30m小天使最近最近發現了幾部超好笑的片，快點進去看超好笑哈哈哈\n"
     ]
    }
   ],
   "source": [
    "print(\"\\033[1;30m小天使最近最近發現了幾部超好笑的片，快點進去看超好笑哈哈哈\")"
   ]
  },
  {
   "cell_type": "code",
   "execution_count": 10,
   "metadata": {},
   "outputs": [
    {
     "name": "stdout",
     "output_type": "stream",
     "text": [
      "\u001b[1m小天使最近最近發現了幾部超好笑的片，想分享給你\n",
      "不過看影片就是要飲料XDDDD\n",
      "你有選擇障礙嗎？有\n",
      "那小天使隨機幫你選一杯\n",
      "今日結果： ['四季春'] + ['七分糖'] + ['微冰']\n"
     ]
    }
   ],
   "source": [
    "        print(\"\\033[1m小天使最近最近發現了幾部超好笑的片，想分享給你\")\n",
    "        print(\"不過看影片就是要飲料XDDDD\")\n",
    "        \n",
    "        Q=input(\"你有選擇障礙嗎？\")\n",
    "        while True:\n",
    "            if Q==(\"有\"):\n",
    "                print(\"那小天使隨機幫你選一杯\")\n",
    "                drink=[\"珍珠鮮奶茶\",\"日月潭紅茶\",\"梅子綠茶\",\"四季春\",\"檸檬紅茶\",\"焦糖鮮奶\"]\n",
    "                sweet=[\"全糖\",\"七分糖\",\"半糖\",\"三分糖\",\"無糖\"]\n",
    "                ice=[\"正常冰\",\"少冰\",\"微冰\",\"去冰\",\"完全去冰\"]\n",
    "                print(\"今日結果：\",choice(drink,1),\"+\",choice(sweet,1),\"+\",choice(ice,1))\n",
    "                break\n",
    "            elif Q==(\"沒有\"):\n",
    "                print(\"那自己選一杯搭配影片吧，建議不要加珍珠，避免噴出來XDDD\")\n",
    "                break\n",
    "            else:\n",
    "                print(\"請輸入有或沒有黝\")\n",
    "                Q=input(\"你有選擇障礙嗎？\")\n",
    "           \n",
    "            \n",
    "        display()\n",
    "       "
   ]
  },
  {
   "cell_type": "code",
   "execution_count": null,
   "metadata": {},
   "outputs": [],
   "source": []
  }
 ],
 "metadata": {
  "kernelspec": {
   "display_name": "Python 3",
   "language": "python",
   "name": "python3"
  },
  "language_info": {
   "codemirror_mode": {
    "name": "ipython",
    "version": 3
   },
   "file_extension": ".py",
   "mimetype": "text/x-python",
   "name": "python",
   "nbconvert_exporter": "python",
   "pygments_lexer": "ipython3",
   "version": "3.7.3"
  }
 },
 "nbformat": 4,
 "nbformat_minor": 2
}
