{
 "cells": [
  {
   "cell_type": "markdown",
   "metadata": {},
   "source": [
    "### 計算小幫手\n",
    "## 幫你算存錢存銀行後，可以得到多少利息"
   ]
  },
  {
   "cell_type": "code",
   "execution_count": 2,
   "metadata": {},
   "outputs": [
    {
     "name": "stdout",
     "output_type": "stream",
     "text": [
      "請輸入本金：300000\n",
      "請輸入年利率(請以小數點表示)：0.015\n",
      "請輸入年數：10\n",
      "本金和為 348162.2475075447 元\n"
     ]
    }
   ],
   "source": [
    "%matplotlib inline\n",
    "import numpy as np\n",
    "import matplotlib.pyplot as plt\n",
    "import pandas as pd\n",
    "\n",
    "num_1=float(input(\"請輸入本金：\"))\n",
    "num_2=float(input(\"請輸入年利率(請以小數點表示)：\"))\n",
    "num_3=int(input(\"請輸入年數：\"))\n",
    "x=num_1*(1+num_2)**num_3\n",
    "print(\"本金和為\",x,\"元\")"
   ]
  }
 ],
 "metadata": {
  "kernelspec": {
   "display_name": "Python 3",
   "language": "python",
   "name": "python3"
  },
  "language_info": {
   "codemirror_mode": {
    "name": "ipython",
    "version": 3
   },
   "file_extension": ".py",
   "mimetype": "text/x-python",
   "name": "python",
   "nbconvert_exporter": "python",
   "pygments_lexer": "ipython3",
   "version": "3.7.3"
  }
 },
 "nbformat": 4,
 "nbformat_minor": 2
}
