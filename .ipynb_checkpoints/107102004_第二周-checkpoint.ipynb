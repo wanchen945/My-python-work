{
 "cells": [
  {
   "cell_type": "code",
   "execution_count": 4,
   "metadata": {},
   "outputs": [
    {
     "name": "stdout",
     "output_type": "stream",
     "text": [
      "請輸入1-100中，你所猜的數字: 50\n",
      "x比50大\n",
      "再猜一個數字: 75\n",
      "再大一點\n",
      "再猜一個數字: 87\n",
      "再大一點\n",
      "再猜一個數字: 93\n",
      "在小一點\n",
      "再猜一個數字: 90\n",
      "在小一點\n",
      "再猜一個數字: 89\n",
      "That's the correct answer! Awesome d(`･∀･)b\n"
     ]
    }
   ],
   "source": [
    "%matplotlib inline\n",
    "\n",
    "import numpy as np\n",
    "import pandas as pd\n",
    "import matplotlib.pyplot as plt\n",
    "\n",
    "x=np.random.randint(1,100)\n",
    "y=int(input(\"請輸入1-100中，你所猜的數字: \"))\n",
    "\n",
    "if (y<x):\n",
    "    print(\"x比{}大\".format(y))\n",
    "elif (y>x):\n",
    "    print(\"x比y小\".format(y))\n",
    "else:\n",
    "    print(\"That's the correct answer! Awesome d(`･∀･)b\")\n",
    "        \n",
    "while y != x:\n",
    "    y=int(input(\"再猜一個數字: \"))\n",
    "    if (y<x):\n",
    "        print(\"再大一點\")\n",
    "    elif (y>x):\n",
    "        print(\"在小一點\")\n",
    "    else:\n",
    "        print(\"That's the correct answer! Awesome d(`･∀･)b\")\n",
    "        break"
   ]
  },
  {
   "cell_type": "code",
   "execution_count": 12,
   "metadata": {},
   "outputs": [
    {
     "name": "stdout",
     "output_type": "stream",
     "text": [
      "請輸入1-100中，你所猜的數字: 50\n",
      "x比50大\n",
      "請輸入1-100中，你所猜的數字: 75\n",
      "x比y小\n",
      "請輸入1-100中，你所猜的數字: 63\n",
      "x比63大\n",
      "請輸入1-100中，你所猜的數字: 69\n",
      "x比y小\n",
      "請輸入1-100中，你所猜的數字: 65\n",
      "That's the correct answer! Awesome d(`･∀･)b\n"
     ]
    }
   ],
   "source": [
    "%matplotlib inline\n",
    "\n",
    "import numpy as np\n",
    "import pandas as pd\n",
    "import matplotlib.pyplot as plt\n",
    "\n",
    "x=np.random.randint(1,100)\n",
    "y=0\n",
    "\n",
    "while y != x:\n",
    "    y=int(input(\"請輸入1-100中，你所猜的數字: \"))\n",
    "    if (y<x):\n",
    "        print(\"x比{}大\".format(y))\n",
    "    elif (y>x):\n",
    "        print(\"x比y小\".format(y))\n",
    "    else:\n",
    "        print(\"That's the correct answer! Awesome d(`･∀･)b\")\n",
    "        break"
   ]
  },
  {
   "cell_type": "code",
   "execution_count": null,
   "metadata": {},
   "outputs": [],
   "source": []
  }
 ],
 "metadata": {
  "kernelspec": {
   "display_name": "Python 3",
   "language": "python",
   "name": "python3"
  },
  "language_info": {
   "codemirror_mode": {
    "name": "ipython",
    "version": 3
   },
   "file_extension": ".py",
   "mimetype": "text/x-python",
   "name": "python",
   "nbconvert_exporter": "python",
   "pygments_lexer": "ipython3",
   "version": "3.7.3"
  }
 },
 "nbformat": 4,
 "nbformat_minor": 2
}
