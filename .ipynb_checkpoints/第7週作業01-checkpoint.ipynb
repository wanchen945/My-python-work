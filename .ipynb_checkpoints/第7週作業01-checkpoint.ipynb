{
 "cells": [
  {
   "cell_type": "markdown",
   "metadata": {},
   "source": [
    "### 輸入兩個你願意付錢買我這項商品的價碼，電腦決定你要付多少能得到這項商品"
   ]
  },
  {
   "cell_type": "code",
   "execution_count": 1,
   "metadata": {},
   "outputs": [
    {
     "name": "stdout",
     "output_type": "stream",
     "text": [
      "整數1:56\n",
      "整數2:66\n",
      "66\n"
     ]
    }
   ],
   "source": [
    "num1=int(input(\"整數1:\"))\n",
    "num2=int(input(\"整數2:\"))\n",
    "\n",
    "value=num1 if num1>num2 else num2\n",
    "print(value)"
   ]
  }
 ],
 "metadata": {
  "kernelspec": {
   "display_name": "Python 3",
   "language": "python",
   "name": "python3"
  },
  "language_info": {
   "codemirror_mode": {
    "name": "ipython",
    "version": 3
   },
   "file_extension": ".py",
   "mimetype": "text/x-python",
   "name": "python",
   "nbconvert_exporter": "python",
   "pygments_lexer": "ipython3",
   "version": "3.7.3"
  }
 },
 "nbformat": 4,
 "nbformat_minor": 2
}
