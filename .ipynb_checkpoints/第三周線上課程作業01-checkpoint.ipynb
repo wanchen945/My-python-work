{
 "cells": [
  {
   "cell_type": "markdown",
   "metadata": {},
   "source": [
    "### 有A,B,C三個班級，每班皆有10個學生，期中考結束後，老師希望計算各班級每位學生的加權平均成績。\n",
    "### 請隨機產生3個班級的成績單,每班10人,共五科,權重為weights=[0.25,0.25,0.25,0.15,0.10]。\n",
    "### 請算出班級加權平均成績，並以一個array輸出。"
   ]
  },
  {
   "cell_type": "code",
   "execution_count": 111,
   "metadata": {},
   "outputs": [],
   "source": [
    "%matplotlib inline\n",
    "import matplotlib.pyplot as plt\n",
    "import numpy as np"
   ]
  },
  {
   "cell_type": "code",
   "execution_count": 112,
   "metadata": {},
   "outputs": [],
   "source": [
    "weights=np.array([0.25,0.25,0.25,0.15,0.10])"
   ]
  },
  {
   "cell_type": "code",
   "execution_count": 113,
   "metadata": {},
   "outputs": [],
   "source": [
    "A_grades=np.array(np.random.randint(0,101,size=(10,5)))\n",
    "B_grades=np.array(np.random.randint(0,101,size=(10,5)))\n",
    "C_grades=np.array(np.random.randint(0,101,size=(10,5)))"
   ]
  },
  {
   "cell_type": "code",
   "execution_count": 114,
   "metadata": {},
   "outputs": [
    {
     "name": "stdout",
     "output_type": "stream",
     "text": [
      "A班原始成績：\n",
      " [[42 28  2 27 57]\n",
      " [46 17 33 64 35]\n",
      " [ 9 34  7 70 75]\n",
      " [66 95 58 83 42]\n",
      " [ 4 66 69  9 64]\n",
      " [45 14 76 17  0]\n",
      " [82 66 19 29 21]\n",
      " [92 82 28 75 79]\n",
      " [46 88  7 37 91]\n",
      " [ 3 12 32 88 79]]\n",
      "B班原始成績：\n",
      " [[99 56 46 18 52]\n",
      " [67 43 81 13 53]\n",
      " [29 27 54  5 47]\n",
      " [42  0  1 98 82]\n",
      " [17 88 92 56 18]\n",
      " [59 20 25 66 40]\n",
      " [77 55 12 50 26]\n",
      " [44 49 70 68 80]\n",
      " [97 74 96 17 60]\n",
      " [93 53 31 57 31]]\n",
      "C班原始成績：\n",
      " [[85 22 65 89 32]\n",
      " [38 95 64 38 68]\n",
      " [65 34 93 94 45]\n",
      " [35 27 24 51 87]\n",
      " [78 62  6 70  7]\n",
      " [44 43 95 74 57]\n",
      " [ 5 23 46 11 81]\n",
      " [ 2 61  0 22 64]\n",
      " [99 67 17 40 53]\n",
      " [90 62 15 84 94]]\n"
     ]
    }
   ],
   "source": [
    "print(\"A班原始成績：\\n\",A_grades,end=\"\\n\")\n",
    "print(\"B班原始成績：\\n\",B_grades,end=\"\\n\")\n",
    "print(\"C班原始成績：\\n\",C_grades,end=\"\\n\")"
   ]
  },
  {
   "cell_type": "code",
   "execution_count": 115,
   "metadata": {},
   "outputs": [],
   "source": [
    "g1=np.dot(A_grades,weights)\n",
    "g2=np.dot(B_grades,weights)\n",
    "g3=np.dot(C_grades,weights)"
   ]
  },
  {
   "cell_type": "code",
   "execution_count": 116,
   "metadata": {},
   "outputs": [
    {
     "name": "stdout",
     "output_type": "stream",
     "text": [
      "A班加權平均為:\n",
      " [27.75 37.1  30.5  71.4  42.5  36.3  48.2  69.65 49.9  32.85] \n",
      "\n",
      "B班加權平均為:\n",
      " [58.15 55.   32.95 33.65 59.45 39.9  46.1  58.95 75.3  55.9 ] \n",
      "\n",
      "C班加權平均為:\n",
      " [59.55 61.75 66.6  37.85 47.7  62.3  28.25 25.45 57.05 63.75] \n",
      "\n"
     ]
    }
   ],
   "source": [
    "print(\"A班加權平均為:\\n\",g1,\"\\n\")\n",
    "print(\"B班加權平均為:\\n\",g2,\"\\n\")\n",
    "print(\"C班加權平均為:\\n\",g3,\"\\n\")"
   ]
  }
 ],
 "metadata": {
  "kernelspec": {
   "display_name": "Python 3",
   "language": "python",
   "name": "python3"
  },
  "language_info": {
   "codemirror_mode": {
    "name": "ipython",
    "version": 3
   },
   "file_extension": ".py",
   "mimetype": "text/x-python",
   "name": "python",
   "nbconvert_exporter": "python",
   "pygments_lexer": "ipython3",
   "version": "3.7.3"
  }
 },
 "nbformat": 4,
 "nbformat_minor": 2
}
