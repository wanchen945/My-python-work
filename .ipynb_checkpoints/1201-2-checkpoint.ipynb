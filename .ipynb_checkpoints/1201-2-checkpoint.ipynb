{
 "cells": [
  {
   "cell_type": "markdown",
   "metadata": {},
   "source": [
    "### 可以輸入任意的鍵與值，並將其存到字典中，每次輸入完都印出當前字典中的內容，若輸入的鍵已經存在於字典中，則結束程式。"
   ]
  },
  {
   "cell_type": "code",
   "execution_count": 1,
   "metadata": {},
   "outputs": [],
   "source": [
    "%matplotlib inline\n",
    "\n",
    "import numpy as np\n",
    "import pandas as pd\n",
    "import matplotlib.pyplot as plt"
   ]
  },
  {
   "cell_type": "code",
   "execution_count": 1,
   "metadata": {},
   "outputs": [
    {
     "name": "stdout",
     "output_type": "stream",
     "text": [
      "請輸入鍵:I have a dog\n",
      "請輸入值:4\n",
      "當前字典內容: {'I have a dog': '4'}\n",
      "請輸入鍵:4\n",
      "請輸入值:rabbit\n",
      "當前字典內容: {'I have a dog': '4', '4': 'rabbit'}\n",
      "請輸入鍵:I have a cat\n",
      "請輸入值:cat\n",
      "當前字典內容: {'I have a dog': '4', '4': 'rabbit', 'I have a cat': 'cat'}\n",
      "請輸入鍵:cat\n",
      "請輸入值:cat\n",
      "當前字典內容: {'I have a dog': '4', '4': 'rabbit', 'I have a cat': 'cat', 'cat': 'cat'}\n",
      "請輸入鍵:cat\n",
      "鍵已存在\n"
     ]
    }
   ],
   "source": [
    "D=dict()\n",
    "while True:\n",
    "        x=input(\"請輸入鍵:\")\n",
    "        if x in D:\n",
    "                print(\"鍵已存在\")\n",
    "                break\n",
    "\n",
    "        num=input(\"請輸入值:\")\n",
    "\n",
    "        D[x]=num\n",
    "        print(\"當前字典內容:\",D)"
   ]
  }
 ],
 "metadata": {
  "kernelspec": {
   "display_name": "Python 3",
   "language": "python",
   "name": "python3"
  },
  "language_info": {
   "codemirror_mode": {
    "name": "ipython",
    "version": 3
   },
   "file_extension": ".py",
   "mimetype": "text/x-python",
   "name": "python",
   "nbconvert_exporter": "python",
   "pygments_lexer": "ipython3",
   "version": "3.7.3"
  }
 },
 "nbformat": 4,
 "nbformat_minor": 2
}
