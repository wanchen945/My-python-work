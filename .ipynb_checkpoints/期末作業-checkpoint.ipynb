{
 "cells": [
  {
   "cell_type": "markdown",
   "metadata": {},
   "source": [
    "# YOU ARE NOT ALONE\n",
    "### 小天使陪著你(對話機器人)"
   ]
  },
  {
   "cell_type": "markdown",
   "metadata": {},
   "source": [
    "#### 想解決的問題：人們孤單、心情不好時，沒有人可以和他聊天、讓他發洩、幫他守住秘密。\n",
    "#### 遇到的困難：寫迴圈時，中斷、卡住了好幾次，因為迴圈中又包含迴圈，且是第一次寫這麼多行的程式碼，嘗試了很多次才成功。\n",
    "#### 如何解決問題：開新檔案，輸入其中一個迴圈的程式碼，先確定程式是否跑得出來，若不行再用較少的程式碼一點一點去抓錯。\n",
    "#### 最後得到的結論：空格的問題導致迴圈無法順利進行、程式安慰的成效如何須詢問使用者。\n",
    "#### 發揮的創意：字加顏色、最後結尾滑桿文字的巧思(不論滑桿有無移動，皆是一句祝福的話)、添入蠻多個人心得。\n",
    "#### 附註：中間很多和使用者的對話皆是以希望使用者的心情好起來為目的出發，多同理使用者，且有準備不同類型的影片針對不同類型的使用者(大笑心情會變好、大哭心情會變好)。"
   ]
  },
  {
   "cell_type": "markdown",
   "metadata": {},
   "source": [
    "## 前言\n",
    "### 人是群居動物，我們都需要與他人互動與交流\n",
    "### 有些時候，我們會想找人抱怨；有些時候，我們只是想要分享喜悅；有些時候，我們只是想要發洩一下情緒\n",
    "### 然而有些時候，我們無法說出我們的內心話\n",
    "### 這時候就和小天使聊聊天吧\n",
    "### 因為他/她不會罵你、不會批評你，而且過不久他/她就忘了σ ﾟ∀ ﾟ) ﾟ∀ﾟ)σ \n",
    "### 他/她絕對不會大嘴巴的\n",
    "### 所以就放心地跟小天使說吧"
   ]
  },
  {
   "cell_type": "code",
   "execution_count": 5,
   "metadata": {},
   "outputs": [],
   "source": [
    "%matplotlib inline\n",
    "import numpy as np\n",
    "import pandas as pd\n",
    "import matplotlib.pyplot as plt\n",
    "from numpy.random import randint\n",
    "from numpy.random import choice\n",
    "from IPython.display import display,HTML,Markdown,Image,YouTubeVideo\n",
    "from ipywidgets import interact\n",
    "import random\n",
    "funvideo=YouTubeVideo(\"5bqiK98bVGQ\")\n",
    "video_2=YouTubeVideo(\"KjkJyGFqwJs\")\n",
    "video_3=YouTubeVideo(\"pMZpC0_Zzdw\")\n",
    "lastchristmasenglish=YouTubeVideo(\"T4pTMZuAux4\")\n",
    "lastchristmaschinese=YouTubeVideo(\"CKJ7ocpYE8U\")"
   ]
  },
  {
   "cell_type": "markdown",
   "metadata": {},
   "source": [
    "# 程式碼小解析 \n",
    "#### 小天使會先問使用者今天心情好不好？\n",
    "#### 使用者輸入不好的話，小天使會先問他發生了什麼事？並放幾個小天使覺得很好笑的影片給使用者看，看完後，再詢問使用者心情有\n",
    "#### 沒有比較好？若有，便和使用者說勵志的話，若沒有，便再推薦幾部會哭的電影跟戲劇給使用者看。\n",
    "#### 使用者輸入好的話，小天使會表示他也很開心，並和使用者玩剪刀、石頭、布，直到使用者玩到不想再玩。\n",
    "#### 使用者輸入還好，小天使便主動提說自己想玩猜數字，要求使用者陪自己玩，並因為使用者陪自己玩，作為獎勵，免費幫使用者算\n",
    "#### BMI。\n",
    "#### 使用者輸入不知名的話，便和使用者說自己太笨了，請輸入好、不好或還好，使用者也能藉機說小天使怎麼那麼笨等等的話，讓使用\n",
    "#### 者有所發洩。"
   ]
  },
  {
   "cell_type": "code",
   "execution_count": 19,
   "metadata": {},
   "outputs": [
    {
     "name": "stdout",
     "output_type": "stream",
     "text": [
      "今天心情好嗎？還好\n",
      "\u001b[1;34m那很棒耶，那跟小天使玩個猜數字的遊戲吧，小天使好想玩喔\n",
      "請輸入1-100中，你所猜的數字: 56\n",
      "\u001b[1;34m小天使心中的數字比56大\n",
      "再猜一個數字: 89\n",
      "\u001b[1;35m再小一點\n",
      "再猜一個數字: 75\n",
      "\u001b[1;34m再大一點\n",
      "再猜一個數字: 80\n",
      "\u001b[1;34m再大一點\n",
      "再猜一個數字: 82\n",
      "\u001b[1;34m再大一點\n",
      "再猜一個數字: 83\n",
      "\u001b[1;34m再大一點\n",
      "再猜一個數字: 884\n",
      "\u001b[1;35m再小一點\n",
      "再猜一個數字: 84\n",
      "\u001b[1;34m再大一點\n",
      "再猜一個數字: 85\n",
      "\u001b[1;37mThat's the correct answer! Awesome d(`･∀･)b\n",
      ">>(ﾉ>ω<)ﾉ(ﾉ>ω<)ﾉ(ﾉ>ω<)ﾉ\n",
      "\u001b[4;34m作為獎勵，小天使免費幫你算你的BMI✧*｡٩(ˊᗜˋ*)و✧*｡\n",
      "請輸入身高(公分):152\n",
      "請輸入體重(公斤):43\n",
      "\u001b[7;32mBMI為18.6，正常，繼續保持讚讚\n"
     ]
    }
   ],
   "source": [
    "while True:\n",
    "    \n",
    "    first_q=input(\"\\033[1;34m今天心情好嗎？\")\n",
    "    if \"不好\" in first_q: # or \"糟透了\" or \"不開心\"\n",
    "            print(\"\\033[1;34m發生了什麼事？要跟我說說嗎？我是一個很棒的傾聽者黝\")\n",
    "            input(\"請輸入:\")\n",
    "            print(\"我能明白，你心裡一定很不舒服，那先看個好笑的影片放鬆一下心情吧真的很好笑喔哈哈哈\")#換行\n",
    "            display(funvideo)\n",
    "            print(\"\\033[1;33mヽ(●´∀`●)ﾉ快看快看\")\n",
    "            input(\"\\033[1;30m>>看完按enter\")\n",
    "            A=input(\"\\033[1;35m是不是真的超好笑哈哈哈心情有比較好嗎？\")\n",
    "            while True:\n",
    "                if A==(\"有\"):\n",
    "                    print('''\\033[1;35m哈哈看來是小天使的同好呢(*´∀`)~♥\n",
    "hughug拍拍沒事的(*´ω`)人(´ω`*) 生活不是單行道，一條路走不通，可以轉彎黝*ଘ(੭*ˊᵕˋ)੭* ੈ✩‧₊˚小天使我永遠都在''')\n",
    "                    break\n",
    "                elif A==(\"沒有\"):\n",
    "                    print(\"看來你是要哭過心情才會放鬆的類型呢那小天使我推薦幾部會哭的劇、電影給你\")\n",
    "                    display(video_2)\n",
    "                    print('''\\033[1;33m夏至未至是一部小說改編的校園偶像劇，男二超帥Σ>―(〃°ω°〃)♡→\n",
    "不過集數很多，如果你趕時間的話，小天使建議你可以調2倍速度看(笑\n",
    "雖然看完後會覺得後面的劇情有點扯，但看完後心情確實久久才能平復(短時間內會呈有一種陰鬱的狀態)\n",
    "貼心小提醒：過程中會不會哭還是因人而異喔''')\n",
    "                    display(video_3)\n",
    "                    print('''因為youtube沒有電影完整版，就先聽聽看歌吧\n",
    "有一種悲傷是劉以豪和陳意涵主演的電影，真的會哭嗚嗚嗚\n",
    "小天使蠻推的，希望你看完、哭完後能覺得心情比較舒坦''')\n",
    "                    break\n",
    "                \n",
    "                else:\n",
    "                    print(\"\\033[1;32m唉呦你怎麼那麼可愛 輸入有或沒有啦 不然小天使我太笨了看不懂啦(๑•́ ₃ •̀๑)\")\n",
    "                    A=input(\"看完後心情有比較好嗎\")\n",
    "            break\n",
    "\n",
    "                \n",
    "    elif \"還好\" in first_q: #or \"還不錯\"\n",
    "            print(\"\\033[1;34m那很棒耶，那跟小天使玩個猜數字的遊戲吧，小天使好想玩喔\")\n",
    "            x=np.random.randint(1,100)\n",
    "            y=int(input(\"\\033[1;37m請輸入1-100中，你所猜的數字: \"))\n",
    "\n",
    "            if (y<x):\n",
    "                    print(\"\\033[1;34m小天使心中的數字比{}大\".format(y))\n",
    "            elif (y>x):\n",
    "                    print(\"\\033[1;35m小天使心中的數字比{}小\".format(y))\n",
    "            else:\n",
    "                    print(\"That's the correct answer! Awesome d(`･∀･)b\")\n",
    "            while y != x:\n",
    "                    y=int(input(\"\\033[1;37m再猜一個數字: \"))\n",
    "                    if (y<x):\n",
    "                            print(\"\\033[1;34m再大一點\")\n",
    "                    elif (y>x):\n",
    "                            print(\"\\033[1;35m再小一點\")\n",
    "                    else:\n",
    "                        print(\"\\033[1;37mThat's the correct answer! Awesome d(`･∀･)b\")\n",
    "                        break\n",
    "            print(\">>(ﾉ>ω<)ﾉ(ﾉ>ω<)ﾉ(ﾉ>ω<)ﾉ\")\n",
    "            print(\"\\033[4;34m作為獎勵，小天使免費幫你算你的BMI✧*｡٩(ˊᗜˋ*)و✧*｡\")\n",
    "            height=float(input(\"請輸入身高(公分):\"))\n",
    "            weight=float(input(\"請輸入體重(公斤):\"))\n",
    "            BMI=weight/(height/100)**2\n",
    "\n",
    "            if BMI>=35:\n",
    "                print(\"\\033[7;31mBMI為{:.1f}，{}\".format(BMI,\"重度肥胖，少吃一點啦啦啦\"))\n",
    "            elif BMI>=30:\n",
    "                print(\"\\033[7;31mBMI為{:.1f}，{}\".format(BMI,\"中度肥胖，少吃一點少吃一點\"))\n",
    "            elif BMI>=27:\n",
    "                print(\"\\033[7;31mBMI為{:.1f}，{}\".format(BMI,\"輕度肥胖，少吃一點多運動\"))\n",
    "            elif BMI>=24:\n",
    "                print(\"\\033[7;31mBMI為{:.1f}，{}\".format(BMI,\"過重，多運動多運動\"))\n",
    "            elif BMI>=18.5:\n",
    "                print(\"\\033[7;32mBMI為{:.1f}，{}\".format(BMI,\"正常，繼續保持讚讚\"))\n",
    "            else:\n",
    "                print(\"\\033[7;32mBMI為{:.1f}，{}\".format(BMI,\"過輕，多吃一點，記得要營養均衡黝\"))\n",
    "            break \n",
    "            \n",
    "            \n",
    "    elif \"好\" in first_q: #or \"超好\" \n",
    "        print(\"\\033[1;31m那真是太棒了，小天使今天也超級開心的\")\n",
    "        print(\"\\033[1;31m在這開心的日子裡，我們來玩個剪刀石頭布吧\")\n",
    "        H=input(\"\\033[1;33m好不好？只能說好喔\")\n",
    "        if H==\"好\":\n",
    "            print(\"\\033[1;36m那我們來玩吧\")\n",
    "        elif H==\"不好\":\n",
    "            print(\"\\033[1;36m那我們來玩吧嘿嘿嘿\")\n",
    "        move = [\"剪刀\", \"石頭\", \"布\"]\n",
    "        computer = move[randint(0,2)]\n",
    "        \n",
    "        while True:\n",
    "            print(\"\\033[1;37m石頭， 布， 剪刀，結束遊戲？\")\n",
    "            player = input(\"\\033[1;37m你出：\")\n",
    "            computer = move[randint(0,2)]\n",
    "            print(\"\\033[7;34m小天使出： \" + computer)\n",
    "            if player == computer:\n",
    "                print(\"\\033[1;34m平手!\")\n",
    "            elif player == \"石頭\":\n",
    "                if computer == \"布\":\n",
    "                    print(\"\\033[1;35m你輸了嘿嘿!\", computer, \"包住\", player)\n",
    "                else:\n",
    "                    print(\"\\033[1;31m嗚嗚你贏了!\", player, \"砸壞了\", computer)\n",
    "            elif player == \"布\":\n",
    "                if computer == \"剪刀\":\n",
    "                    print(\"\\033[1;35m你輸了嘿嘿!\", computer, \"剪掉\", player)\n",
    "                else:\n",
    "                    print(\"\\033[1;31m嗚嗚你贏了!\", player, \"包住\", computer)\n",
    "            elif player == \"剪刀\":\n",
    "                if computer == \"石頭\":\n",
    "                    print(\"\\033[1;35m你輸了不哭不哭...\", computer, \"砸壞了\", player)\n",
    "                else:\n",
    "                    print(\"\\033[1;31m你贏了棒棒!\", player, \"剪掉\", computer)\n",
    "            elif player==\"結束遊戲\":\n",
    "                input(\"\\033[1;37m哈哈哈你覺得好玩嗎？\")\n",
    "                print(\"\\033[1;33m小天使覺得很好玩ε٩(๑> ₃ <)۶з謝謝你陪小天使玩\")\n",
    "                break\n",
    "\n",
    "            else:\n",
    "                print(\"\\033[7;36m認真點啦小天使想跟你玩剪刀石頭不很久了耶～只能輸入 剪刀 石頭 布 唷\")\n",
    "                print(\"\\033[1;37m石頭， 布， 剪刀，結束遊戲？\")\n",
    "                player = input(\"\\033[1;37m你出：\")\n",
    "        break\n",
    "\n",
    "    else:\n",
    "        print(\"\\033[1;35m小天使不太很明白你的意思，我還在學習中，等小天使變聰明以後，就能明白你說什麼了\")\n",
    "        print(\"\\033[7;33m請輸入好、不好或還不錯\")"
   ]
  },
  {
   "cell_type": "code",
   "execution_count": 3,
   "metadata": {},
   "outputs": [
    {
     "name": "stdout",
     "output_type": "stream",
     "text": [
      ">>看完按enter\n",
      "\u001b[1;31m我們來玩個心理測驗吧\n"
     ]
    }
   ],
   "source": [
    "input(\"\\033[7;30m>>看完按enter\")\n",
    "print(\"\\033[1;31m我們來玩個心理測驗吧\")"
   ]
  },
  {
   "cell_type": "markdown",
   "metadata": {},
   "source": [
    "# 程式碼小解析\n",
    "#### 這是暑假期間，給國中生做的心理測驗，個人覺得很準，所以拿出來和大家分享。\n",
    "#### 會請使用者輸入他們的選擇，並輸出他們的答案給他們做為參考，並詢問他們的想法，作為互動。"
   ]
  },
  {
   "cell_type": "markdown",
   "metadata": {},
   "source": [
    "### 這裡有21個小黃人，請在10秒內選出你最想在的位置"
   ]
  },
  {
   "cell_type": "markdown",
   "metadata": {},
   "source": [
    "![超準心理測驗](001.png)"
   ]
  },
  {
   "cell_type": "code",
   "execution_count": 4,
   "metadata": {},
   "outputs": [
    {
     "name": "stdout",
     "output_type": "stream",
     "text": [
      "小天使是11號，你是幾號呢？3\n",
      "\u001b[7;31m🌞積極、熱情、陽光都是你的特質，面對困難與未知，樂觀的你不會輕易地被打倒。 \n",
      "\n",
      " 你堅信會越挫越勇，只要報著積極向上的態度，沒有什麼事解決不了。 \n",
      "\n",
      " 這樣的人很容易取得成功。\n",
      "你覺得準嗎？準\n",
      "\u001b[1;31m小天使覺得還蠻準的(^_っ^)\n"
     ]
    }
   ],
   "source": [
    "num =input(\"小天使是11號，你是幾號呢？\")\n",
    "if num==\"1\":\n",
    "        print(\"\\033[7;31m🌞積極、熱情、陽光都是你的特質，面對困難與未知，樂觀的你不會輕易地被打倒。\",\"\\n\\n\",\"你堅信會越挫越勇，只要報著積極向上的態度，沒有什麼事解決不了。\",\"\\n\\n\",\"這樣的人很容易取得成功。\")\n",
    "elif num==\"2\":\n",
    "    print(\"\\033[7;31m你在朋友圈裡富有群眾魅力。在朋友的心裡，你的地位無可撼動。\",\"\\n\\n\",\"當朋友快樂時，你願意和她分享喜悅。\",\"\\n\\n\",\"當朋友有困難時，你總是第一個站出來想方設法地去解決。\",\"\\n\\n\",\"仗義的你自然大家的都很喜歡。\")\n",
    "elif num==\"3\":\n",
    "    print(\"\\033[7;31m🌞積極、熱情、陽光都是你的特質，面對困難與未知，樂觀的你不會輕易地被打倒。\",\"\\n\\n\",\"你堅信會越挫越勇，只要報著積極向上的態度，沒有什麼事解決不了。\",\"\\n\\n\",\"這樣的人很容易取得成功。\")\n",
    "elif num==\"4\":\n",
    "    print(\"\\033[7;31m🌹你隨遇而安，對於物質要求不會很高。\",\"\\n\\n\",\"你看重的是精神上的安逸與舒適\",\"\\n\\n\",\"你的革新精神比較弱，難以接受按部就班的生活被打破。\",\"\\n\\n\",\"在追逐成功的路上也是如此，你希望能一帆風順，沒有任何阻礙的抵達終點。\")\n",
    "elif num==\"5\":\n",
    "    print(\"\\033[7;30m你生性憂鬱悲觀。\",\"\\n\\n\",\"生活中很難有事物能吸引你的注意力。\",\"\\n\\n\",\"苦悶煩惱積鬱在心中，你不願向別人抱怨訴苦也找不到傾訴的方式。\",\"\\n\\n\",\"這樣的你對生活沒有任何動力。\")\n",
    "elif num==\"6\":\n",
    "    print(\"\\033[7;31m🌞積極、熱情、陽光都是你的特質，面對困難與未知，樂觀的你不會輕易地被打倒。\",\"\\n\\n\",\"你堅信會越挫越勇，只要報著積極向上的態度，沒有什麼事解決不了。\",\"\\n\\n\",\"這樣的人很容易取得成功。\")\n",
    "elif num==\"7\":\n",
    "    print(\"\\033[7;31m🌞積極、熱情、陽光都是你的特質，面對困難與未知，樂觀的你不會輕易地被打倒。\",\"\\n\\n\",\"你堅信會越挫越勇，只要報著積極向上的態度，沒有什麼事解決不了。\",\"\\n\\n\",\"這樣的人很容易取得成功。\")\n",
    "elif num==\"8\":\n",
    "    print(\"\\033[7;31m👼🏻你單純善良，自尊心很強，又帶著一點小驕傲。\",\"\\n\\n\",\"你活在自己的世界裡，不論做什麼多是按照自己的感覺走。\",\"\\n\\n\",\"喜歡幻想，不會去過多在意他人的看法。\")\n",
    "elif num==\"9\":\n",
    "    print(\"\\033[7;31m你在朋友圈中一定屬於活躍氣氛的高手。\",\"\\n\\n\",\"不拘小節，沒有心機。\",\"\\n\\n\",\"總是喜歡用一種簡單的方式去和別人相處。\",\"\\n\\n\",\"好奇心很強，只要是你感興趣的東西，一定要玩出花樣。\")\n",
    "elif num==\"10\":\n",
    "    print(\"\\033[7;30m你拒絕低俗、崇尚高尚。\",\"\\n\\n\",\"對於生活品質有著一定的要求。\",\"\\n\\n\",\"你心無城府，遇事不喜歡與別人爭搶。\",\"\\n\\n\",\"但對於屬於自己的，就會拼盡一切去爭取。\")\n",
    "elif num==\"11\":\n",
    "    print(\"\\033[7;31m你在朋友圈裡富有群眾魅力。在朋友的心裡，你的地位無可撼動。\",\"\\n\\n\",\"當朋友快樂時，你願意和她分享喜悅。\",\"\\n\\n\",\"當朋友有困難時，你總是第一個站出來想方設法地去解決。\",\"\\n\\n\",\"仗義的你自然大家的都很喜歡。\")\n",
    "elif num==\"12\":\n",
    "    print(\"\\033[7;31m你在朋友圈裡富有群眾魅力。在朋友的心裡，你的地位無可撼動。\",\"\\n\\n\",\"當朋友快樂時，你願意和她分享喜悅。\",\"\\n\\n\",\"當朋友有困難時，你總是第一個站出來想方設法地去解決。\",\"\\n\\n\",\"仗義的你自然大家的都很喜歡。\")\n",
    "elif num==\"13\":\n",
    "    print(\"\\033[7;30m🌙你是一個外向的孤獨患者，封閉的內心別人很難闖進。\",\"\\n\\n\",\"對你來說，逃避是一種習慣，你把自己包裹的很嚴實，不願與人分享自己的秘密，也不善於跟他人溝通交流。\")\n",
    "elif num==\"14\":\n",
    "    print(\"\\033[7;30m🌧你時常會處於一種進退兩難的境地。\",\"\\n\\n\",\"無論是感情還是生活，即便出現問題你還是期待事情能有轉機，不願意、不捨得輕易去做出改變。\")\n",
    "elif num==\"15\":\n",
    "    print(\"\\033[7;30m你拒絕低俗、崇尚高尚。\",\"\\n\\n\",\"對於生活品質有著一定的要求。\",\"\\n\\n\",\"你心無城府，遇事不喜歡與別人爭搶。\",\"\\n\\n\",\"但對於屬於自己的，就會拼盡一切去爭取。\")\n",
    "elif num==\"16\":\n",
    "    print(\"\\033[7;30m🍄你比較依賴別人，遇到比較棘手的情況時，總是渴望能夠得到他人的幫助和依靠。\",\"\\n\\n\",\"看起來神經大條，其實內心極度敏感。\")\n",
    "elif num==\"17\":\n",
    "    print(\"\\033[7;31m你責任感很強，是非常值得信賴的人。\",\"\\n\\n\",\"即便是再糾結的事，朋友在你的安慰下，也會煙消雲散。\",\"\\n\\n\",\"你本內心孤獨但卻害怕孤獨，希望時刻得到別人的關注。\")\n",
    "elif num==\"18\":\n",
    "    print(\"\\033[7;31m你在朋友圈裡富有群眾魅力。在朋友的心裡，你的地位無可撼動。\",\"\\n\\n\",\"當朋友快樂時，你願意和她分享喜悅。\",\"\\n\\n\",\"當朋友有困難時，你總是第一個站出來想方設法地去解決。\",\"\\n\\n\",\"仗義的你自然大家的都很喜歡。\")\n",
    "elif num==\"19\":\n",
    "    print(\"\\033[7;31m你在朋友圈裡富有群眾魅力。在朋友的心裡，你的地位無可撼動。\",\"\\n\\n\",\"當朋友快樂時，你願意和她分享喜悅。\",\"\\n\\n\",\"當朋友有困難時，你總是第一個站出來想方設法地去解決。\",\"\\n\\n\",\"仗義的你自然大家的都很喜歡。\")\n",
    "elif num==\"20\":\n",
    "    print(\"\\033[7;30m你生來想要做王者，渴望成為團體中領導者的角色。\",\"\\n\\n\",\"但有時因為你的高傲自大，可能會傷害真正關心你的人。\")\n",
    "elif num==\"21\":\n",
    "    print(\"\\033[7;30m🌙你是一個外向的孤獨患者，封閉的內心別人很難闖進。\",\"\\n\\n\",\"對你來說，逃避是一種習慣，你把自己包裹的很嚴實，不願與人分享自己的秘密，也不善於跟他人溝通交流。\")\n",
    "else:\n",
    "    print(\"\\033[1;31m請輸入1~21的數字喔\")\n",
    "input(\"\\033[1;31m你覺得準嗎？\")\n",
    "print(\"\\033[1;31m小天使覺得還蠻準的(^_っ^)\")"
   ]
  },
  {
   "cell_type": "code",
   "execution_count": 5,
   "metadata": {},
   "outputs": [
    {
     "name": "stdout",
     "output_type": "stream",
     "text": [
      "喔對明年是閏年喔，你想知道位什麼小天使知道嗎？因為小天使天才啊哈哈哈神經病\n",
      "開玩笑的 因為小天使作弊用了閏年判斷器 快來玩玩吧\n"
     ]
    }
   ],
   "source": [
    "input(\"\\033[1;30m喔對明年是閏年喔，你想知道位什麼小天使知道嗎？因為小天使天才啊哈哈哈\")\n",
    "print(\"開玩笑的 因為小天使作弊用了閏年判斷器 快來玩玩吧\")"
   ]
  },
  {
   "cell_type": "code",
   "execution_count": 6,
   "metadata": {},
   "outputs": [
    {
     "name": "stdout",
     "output_type": "stream",
     "text": [
      "輸入你想知道是不是閏年的年份：20000\n",
      "\u001b[7;36m20000年是閏年\n"
     ]
    }
   ],
   "source": [
    "x=int(input(\"輸入你想知道是不是閏年的年份：\"))\n",
    "if (x%4==0):\n",
    "        if (x%100!=0) or (x%400==0):\n",
    "                print(\"\\033[7;36m{}年是閏年\".format(x))\n",
    "else:\n",
    "        print(\"{}年不是閏年黝\".format(x))"
   ]
  },
  {
   "cell_type": "markdown",
   "metadata": {},
   "source": [
    "# 程式碼小解析\n",
    "#### 取自我買的一本書：用Python開發經典遊戲(博碩)\n",
    "#### 純粹想給使用者玩個遊戲"
   ]
  },
  {
   "cell_type": "markdown",
   "metadata": {},
   "source": [
    "### 小天使準備了一個球球打磚塊遊戲，希望你喜歡，要開開心心的玩喔"
   ]
  },
  {
   "cell_type": "code",
   "execution_count": 17,
   "metadata": {},
   "outputs": [],
   "source": [
    "import tkinter as tk\n",
    "\n",
    "\n",
    "class GameObject(object):\n",
    "    def __init__(self, canvas, item):\n",
    "        self.canvas = canvas\n",
    "        self.item = item\n",
    "\n",
    "    def get_position(self):\n",
    "        return self.canvas.coords(self.item)\n",
    "\n",
    "    def move(self, x, y):\n",
    "        self.canvas.move(self.item, x, y)\n",
    "\n",
    "    def delete(self):\n",
    "        self.canvas.delete(self.item)\n",
    "\n",
    "\n",
    "class Ball(GameObject):\n",
    "    def __init__(self, canvas, x, y):\n",
    "        self.radius = 10\n",
    "        self.direction = [1, -1]\n",
    "        self.speed = 10\n",
    "        item = canvas.create_oval(x-self.radius, y-self.radius,\n",
    "                                  x+self.radius, y+self.radius,\n",
    "                                  fill='white')\n",
    "        super(Ball, self).__init__(canvas, item)\n",
    "\n",
    "    def update(self):\n",
    "        coords = self.get_position()\n",
    "        width = self.canvas.winfo_width()\n",
    "        if coords[0] <= 0 or coords[2] >= width:\n",
    "            self.direction[0] *= -1\n",
    "        if coords[1] <= 0:\n",
    "            self.direction[1] *= -1\n",
    "        x = self.direction[0] * self.speed\n",
    "        y = self.direction[1] * self.speed\n",
    "        self.move(x, y)\n",
    "\n",
    "    def collide(self, game_objects):\n",
    "        coords = self.get_position()\n",
    "        x = (coords[0] + coords[2]) * 0.5\n",
    "        if len(game_objects) > 1:\n",
    "            self.direction[1] *= -1\n",
    "        elif len(game_objects) == 1:\n",
    "            game_object = game_objects[0]\n",
    "            coords = game_object.get_position()\n",
    "            if x > coords[2]:\n",
    "                self.direction[0] = 1\n",
    "            elif x < coords[0]:\n",
    "                self.direction[0] = -1\n",
    "            else:\n",
    "                self.direction[1] *= -1\n",
    "\n",
    "        for game_object in game_objects:\n",
    "            if isinstance(game_object, Brick):\n",
    "                game_object.hit()\n",
    "\n",
    "\n",
    "class Paddle(GameObject):\n",
    "    def __init__(self, canvas, x, y):\n",
    "        self.width = 80\n",
    "        self.height = 10\n",
    "        self.ball = None\n",
    "        item = canvas.create_rectangle(x - self.width / 2,\n",
    "                                       y - self.height / 2,\n",
    "                                       x + self.width / 2,\n",
    "                                       y + self.height / 2,\n",
    "                                       fill='blue')\n",
    "        super(Paddle, self).__init__(canvas, item)\n",
    "\n",
    "    def set_ball(self, ball):\n",
    "        self.ball = ball\n",
    "\n",
    "    def move(self, offset):\n",
    "        coords = self.get_position()\n",
    "        width = self.canvas.winfo_width()\n",
    "        if coords[0] + offset >= 0 and coords[2] + offset <= width:\n",
    "            super(Paddle, self).move(offset, 0)\n",
    "            if self.ball is not None:\n",
    "                self.ball.move(offset, 0)\n",
    "\n",
    "\n",
    "class Brick(GameObject):\n",
    "    COLORS = {1: '#999999', 2: '#555555', 3: '#222222'}\n",
    "\n",
    "    def __init__(self, canvas, x, y, hits):\n",
    "        self.width = 75\n",
    "        self.height = 20\n",
    "        self.hits = hits\n",
    "        color = Brick.COLORS[hits]\n",
    "        item = canvas.create_rectangle(x - self.width / 2,\n",
    "                                       y - self.height / 2,\n",
    "                                       x + self.width / 2,\n",
    "                                       y + self.height / 2,\n",
    "                                       fill=color, tags='brick')\n",
    "        super(Brick, self).__init__(canvas, item)\n",
    "\n",
    "    def hit(self):\n",
    "        self.hits -= 1\n",
    "        if self.hits == 0:\n",
    "            self.delete()\n",
    "        else:\n",
    "            self.canvas.itemconfig(self.item,\n",
    "                                   fill=Brick.COLORS[self.hits])\n",
    "\n",
    "\n",
    "class Game(tk.Frame):\n",
    "    def __init__(self, master):\n",
    "        super(Game, self).__init__(master)\n",
    "        self.lives = 3\n",
    "        self.width = 610\n",
    "        self.height = 400\n",
    "        self.canvas = tk.Canvas(self, bg='#aaaaff',\n",
    "                                width=self.width,\n",
    "                                height=self.height,)\n",
    "        self.canvas.pack()\n",
    "        self.pack()\n",
    "\n",
    "        self.items = {}\n",
    "        self.ball = None\n",
    "        self.paddle = Paddle(self.canvas, self.width/2, 326)\n",
    "        self.items[self.paddle.item] = self.paddle\n",
    "        for x in range(5, self.width - 5, 75):\n",
    "            self.add_brick(x + 37.5, 50, 2)\n",
    "            self.add_brick(x + 37.5, 70, 1)\n",
    "            self.add_brick(x + 37.5, 90, 1)\n",
    "\n",
    "        self.hud = None\n",
    "        self.setup_game()\n",
    "        self.canvas.focus_set()\n",
    "        self.canvas.bind('<Left>',\n",
    "                         lambda _: self.paddle.move(-10))\n",
    "        self.canvas.bind('<Right>',\n",
    "                         lambda _: self.paddle.move(10))\n",
    "\n",
    "    def setup_game(self):\n",
    "           self.add_ball()\n",
    "           self.update_lives_text()\n",
    "           self.text = self.draw_text(300, 200,\n",
    "                                      'Press Space to start')\n",
    "           self.canvas.bind('<space>', lambda _: self.start_game())\n",
    "\n",
    "    def add_ball(self):\n",
    "        if self.ball is not None:\n",
    "            self.ball.delete()\n",
    "        paddle_coords = self.paddle.get_position()\n",
    "        x = (paddle_coords[0] + paddle_coords[2]) * 0.5\n",
    "        self.ball = Ball(self.canvas, x, 310)\n",
    "        self.paddle.set_ball(self.ball)\n",
    "\n",
    "    def add_brick(self, x, y, hits):\n",
    "        brick = Brick(self.canvas, x, y, hits)\n",
    "        self.items[brick.item] = brick\n",
    "\n",
    "    def draw_text(self, x, y, text, size='40'):\n",
    "        font = ('Helvetica', size)\n",
    "        return self.canvas.create_text(x, y, text=text,\n",
    "                                       font=font)\n",
    "\n",
    "    def update_lives_text(self):\n",
    "        text = 'Lives: %s' % self.lives\n",
    "        if self.hud is None:\n",
    "            self.hud = self.draw_text(50, 20, text, 15)\n",
    "        else:\n",
    "            self.canvas.itemconfig(self.hud, text=text)\n",
    "\n",
    "    def start_game(self):\n",
    "        self.canvas.unbind('<space>')\n",
    "        self.canvas.delete(self.text)\n",
    "        self.paddle.ball = None\n",
    "        self.game_loop()\n",
    "\n",
    "    def game_loop(self):\n",
    "        self.check_collisions()\n",
    "        num_bricks = len(self.canvas.find_withtag('brick'))\n",
    "        if num_bricks == 0: \n",
    "            self.ball.speed = None\n",
    "            self.draw_text(300, 200, 'You win!')\n",
    "        elif self.ball.get_position()[3] >= self.height: \n",
    "            self.ball.speed = None\n",
    "            self.lives -= 1\n",
    "            if self.lives < 0:\n",
    "                self.draw_text(300, 200, 'Game Over')\n",
    "            else:\n",
    "                self.after(1000, self.setup_game)\n",
    "        else:\n",
    "            self.ball.update()\n",
    "            self.after(50, self.game_loop)\n",
    "\n",
    "    def check_collisions(self):\n",
    "        ball_coords = self.ball.get_position()\n",
    "        items = self.canvas.find_overlapping(*ball_coords)\n",
    "        objects = [self.items[x] for x in items if x in self.items]\n",
    "        self.ball.collide(objects)\n",
    "\n",
    "\n",
    "\n",
    "if __name__ == '__main__':\n",
    "    root = tk.Tk()\n",
    "    root.title('快來玩球球打磚塊')\n",
    "    game = Game(root)\n",
    "    game.mainloop()\n",
    "\n",
    "#取自我買的一本書：用Python開發經典遊戲(博碩)"
   ]
  },
  {
   "cell_type": "markdown",
   "metadata": {},
   "source": [
    "### 玩完是不是累了、餓了XD"
   ]
  },
  {
   "cell_type": "markdown",
   "metadata": {},
   "source": [
    "### 小天使在這裡跟大家介紹一家經濟實惠又超好吃的店\n",
    "\n",
    "### 它叫六堆伙房(捷運七張站就有一家黝)"
   ]
  },
  {
   "cell_type": "code",
   "execution_count": 8,
   "metadata": {},
   "outputs": [
    {
     "name": "stdout",
     "output_type": "stream",
     "text": [
      "小菜 有:\n",
      "\t 紫蘇脆南瓜\n",
      "\t 紫蘇梅番茄\n",
      "\t 金沙翠苦瓜\n",
      "\t 美濃花生豆腐\n",
      "\t 黃金泡菜\n",
      "\t 香辣豆干\n",
      "\t 胡麻龍鬚塔\n",
      "\t 桔香涼拌過貓\n",
      "\t 涼拌黑木耳\n",
      "\t 花生醬涼拌小黃瓜\n",
      "\t 蒜泥茄子\n",
      "\n",
      "\u001b[7;35m真的都超級好吃(*´∀`)~♥(*´∀`)~♥(*´∀`)~♥\n"
     ]
    }
   ],
   "source": [
    "def yammy(dish,*ingredients):\n",
    "    print(dish,\"有:\")\n",
    "    for item in ingredients:\n",
    "        print(\"\\t\",item)\n",
    "\n",
    "yammy(\"小菜\",\"紫蘇脆南瓜\",\"紫蘇梅番茄\",\"金沙翠苦瓜\",\"美濃花生豆腐\",\"黃金泡菜\",\"香辣豆干\",\"胡麻龍鬚塔\",\"桔香涼拌過貓\",\"涼拌黑木耳\",\"花生醬涼拌小黃瓜\",\"蒜泥茄子\")\n",
    "print()\n",
    "print(\"\\033[7;35m真的都超級好吃(*´∀`)~♥(*´∀`)~♥(*´∀`)~♥\")"
   ]
  },
  {
   "cell_type": "markdown",
   "metadata": {},
   "source": [
    "### 它的招牌有"
   ]
  },
  {
   "cell_type": "code",
   "execution_count": 9,
   "metadata": {},
   "outputs": [
    {
     "data": {
      "application/vnd.jupyter.widget-view+json": {
       "model_id": "89d97073ddcd4081a9c577214888e8e9",
       "version_major": 2,
       "version_minor": 0
      },
      "text/plain": [
       "interactive(children=(Dropdown(description='x', options={'鹹蛋絲瓜麵線': '只要108(๑´ڡ`๑)', '芋頭米粉湯': '只要108(๑´ڡ`๑)', '酸…"
      ]
     },
     "metadata": {},
     "output_type": "display_data"
    }
   ],
   "source": [
    "def f(x):\n",
    "    print(x)\n",
    "interact(f,x={\"鹹蛋絲瓜麵線\":\"只要108(๑´ڡ`๑)\",\"芋頭米粉湯\":\"只要108(๑´ڡ`๑)\",\"酸菜魚片麵\":\"只要108(๑´ڡ`๑)\",\"福菜鹹豬肉拌飯\":\"只要108(๑´ڡ`๑)\",\n",
    "              \"客家乾拌細麵\":\"只要88(๑´ڡ`๑)\",\"金沙南瓜豆腐\":\"要188，但真的好吃，有吃鹹酥雞的感覺(๑´ڡ`๑)\",\"擂茶麻糬鍋餅\":\"$73，連不愛吃抹茶的我都愛(๑´ڡ`๑)\"});"
   ]
  },
  {
   "cell_type": "markdown",
   "metadata": {},
   "source": [
    "### 真的CP值爆表\n",
    "### 貼心小叮嚀：人多記得先訂位✧*｡٩(ˊᗜˋ*)و✧*｡"
   ]
  },
  {
   "cell_type": "code",
   "execution_count": 10,
   "metadata": {},
   "outputs": [
    {
     "name": "stdout",
     "output_type": "stream",
     "text": [
      "-------------------------------------------------------------------------------------------------------------------------\n"
     ]
    }
   ],
   "source": [
    "print(\"-------------------------------------------------------------------------------------------------------------------------\")"
   ]
  },
  {
   "cell_type": "markdown",
   "metadata": {},
   "source": [
    "### 不知道你是否也不愛吃蔥呢？每次都希望店家把加了什麼成分寫出來，什麼紅蔥頭啊等等的就不會點到了థ౪థ"
   ]
  },
  {
   "cell_type": "markdown",
   "metadata": {},
   "source": [
    "### 如果店家的菜單都有下面的功能就好了"
   ]
  },
  {
   "cell_type": "markdown",
   "metadata": {},
   "source": [
    "### 就是不讓你知道那是什麼的神祕料理大解密"
   ]
  },
  {
   "cell_type": "code",
   "execution_count": 11,
   "metadata": {},
   "outputs": [
    {
     "name": "stdout",
     "output_type": "stream",
     "text": [
      "健康蔬食 的配料有:\n",
      "\t 高麗菜\n",
      "\t 青江菜\n",
      "\t 花椰菜\n",
      "\t 凍豆腐\n",
      "\t 紅蘿蔔\n",
      "\t 小黃瓜\n",
      "\t 玉米\n",
      "\t 南瓜\n",
      "\n",
      "酥皮濃湯 的配料有:\n",
      "\t 起士\n",
      "\t 馬鈴薯\n",
      "\t 玉米\n",
      "\t 火腿\n",
      "\n",
      "紅通通嫩QQ 的配料有:\n",
      "\t 番茄\n",
      "\t 豬肉\n",
      "\t 醬油\n",
      "\n",
      "甜蜜蜜 的配料有:\n",
      "\t 巧克力\n",
      "\t 紅砂糖\n",
      "\t 奶油\n",
      "\n",
      "陽光不暖 的配料有:\n",
      "\t 沙拉\n",
      "\t 蛋\n",
      "\t 冰沙\n",
      "\n",
      "深海遺珠 的配料有:\n",
      "\t 干貝\n",
      "\t 食用藍色色素\n",
      "\t 蓮藕粉\n",
      "\t 白色小珍珠\n",
      "\n",
      "大食怪 的配料有:\n",
      "\t 香菇\n",
      "\t 豬肉\n",
      "\t 醬油\n",
      "\t 白飯\n",
      "\n",
      "小鳥胃 的配料有:\n",
      "\t 蛋\n",
      "\t 火鍋料\n",
      "\t 太白粉\n",
      "\t 蘿蔔乾\n",
      "\n",
      "驚喜包 的配料有:\n",
      "\t 驚喜\n",
      "\n"
     ]
    }
   ],
   "source": [
    "def yammy(name,*ingredients):\n",
    "    print(name,\"的配料有:\")\n",
    "    for item in ingredients:\n",
    "        print(\"\\t\",item)\n",
    "\n",
    "yammy(\"健康蔬食\",\"高麗菜\",\"青江菜\",\"花椰菜\",\"凍豆腐\",\"紅蘿蔔\",\"小黃瓜\",\"玉米\",\"南瓜\")\n",
    "print()\n",
    "yammy(\"酥皮濃湯\",\"起士\",\"馬鈴薯\",\"玉米\",\"火腿\")\n",
    "print()\n",
    "yammy(\"紅通通嫩QQ\",\"番茄\",\"豬肉\",\"醬油\")\n",
    "print()\n",
    "yammy(\"甜蜜蜜\",\"巧克力\",\"紅砂糖\",\"奶油\")\n",
    "print()\n",
    "yammy(\"陽光不暖\",\"沙拉\",\"蛋\",\"冰沙\")\n",
    "print()\n",
    "yammy(\"深海遺珠\",\"干貝\",\"食用藍色色素\",\"蓮藕粉\",\"白色小珍珠\")\n",
    "print()\n",
    "yammy(\"大食怪\",\"香菇\",\"豬肉\",\"醬油\",\"白飯\")\n",
    "print()\n",
    "yammy(\"小鳥胃\",\"蛋\",\"火鍋料\",\"太白粉\",\"蘿蔔乾\")\n",
    "print()\n",
    "yammy(\"驚喜包\",\"驚喜\")\n",
    "print()"
   ]
  },
  {
   "cell_type": "markdown",
   "metadata": {},
   "source": [
    "### 不要嚇到，以上都是小天使自創的菜名( ͡° ͜ʖ ͡°)"
   ]
  },
  {
   "cell_type": "markdown",
   "metadata": {},
   "source": [
    "### 最後結束前，和你分享幾首小天使最近聽到而且很喜歡的歌"
   ]
  },
  {
   "cell_type": "code",
   "execution_count": 12,
   "metadata": {},
   "outputs": [
    {
     "data": {
      "application/vnd.jupyter.widget-view+json": {
       "model_id": "cee6573a93be4fe1b3411b4d9c840f13",
       "version_major": 2,
       "version_minor": 0
      },
      "text/plain": [
       "interactive(children=(Dropdown(description='x', options={'鄉下來的': '艾文在聲林之王2中決賽的自創曲，是Rap的風格，我其是不太聽Rap的，但我還蠻喜歡這首的…"
      ]
     },
     "metadata": {},
     "output_type": "display_data"
    }
   ],
   "source": [
    "def f(x):\n",
    "    print(x)\n",
    "interact(f,x={\"鄉下來的\":\"艾文在聲林之王2中決賽的自創曲，是Rap的風格，我其是不太聽Rap的，但我還蠻喜歡這首的(*´∀`)~♥\",\"緣分一道橋\":\"李艾葳和陳守恩在聲林之王2中翻唱王力宏和譚微微的歌曲，歌詞有古代風格的few，超好聽(*´∀`)~♥\",\"無名之輩\":\"是「親愛的，熱愛的」陸劇裡的歌曲，很好聽，很振奮人心d(`･∀･)b\",});"
   ]
  },
  {
   "cell_type": "code",
   "execution_count": 13,
   "metadata": {},
   "outputs": [
    {
     "name": "stdout",
     "output_type": "stream",
     "text": [
      "\u001b[1;31m在這冷冷的12月，讓一首聖誕歌，溫暖我們的心吧！\n",
      "有英文和中文的黝，雖然意思不太一樣XD\n"
     ]
    }
   ],
   "source": [
    "print('''\\033[1;31m在這冷冷的12月，讓一首聖誕歌，溫暖我們的心吧！\n",
    "有英文和中文的黝，雖然意思不太一樣XD''')"
   ]
  },
  {
   "cell_type": "code",
   "execution_count": 14,
   "metadata": {},
   "outputs": [
    {
     "data": {
      "image/jpeg": "[encoded data removed]",
      "text/html": [
       "\n",
       "        <iframe\n",
       "            width=\"400\"\n",
       "            height=\"300\"\n",
       "            src=\"https://www.youtube.com/embed/T4pTMZuAux4\"\n",
       "            frameborder=\"0\"\n",
       "            allowfullscreen\n",
       "        ></iframe>\n",
       "        "
      ],
      "text/plain": [
       "<IPython.lib.display.YouTubeVideo at 0x1f1f2693f60>"
      ]
     },
     "metadata": {},
     "output_type": "display_data"
    },
    {
     "data": {
      "image/jpeg": "[encoded data removed]",
      "text/html": [
       "\n",
       "        <iframe\n",
       "            width=\"400\"\n",
       "            height=\"300\"\n",
       "            src=\"https://www.youtube.com/embed/CKJ7ocpYE8U\"\n",
       "            frameborder=\"0\"\n",
       "            allowfullscreen\n",
       "        ></iframe>\n",
       "        "
      ],
      "text/plain": [
       "<IPython.lib.display.YouTubeVideo at 0x1f1f2693da0>"
      ]
     },
     "metadata": {},
     "output_type": "display_data"
    }
   ],
   "source": [
    "display(lastchristmasenglish)\n",
    "display(lastchristmaschinese)"
   ]
  },
  {
   "cell_type": "markdown",
   "metadata": {},
   "source": [
    "## Merry Christmas and Happy New Year"
   ]
  },
  {
   "cell_type": "code",
   "execution_count": 7,
   "metadata": {},
   "outputs": [],
   "source": [
    "def move(n=1):\n",
    "    print(\" \"*n+\"在新的一年\")\n",
    "    print(\" \"*(40-n)+\"祝福你\")\n",
    "    print(\" \"*52+\"心想事成\")\n",
    "    print(\" \"*52+\"(*´▽`*)\")"
   ]
  },
  {
   "cell_type": "code",
   "execution_count": 8,
   "metadata": {},
   "outputs": [
    {
     "data": {
      "application/vnd.jupyter.widget-view+json": {
       "model_id": "1a11f8a8d0a74e76a36331f568991fa6",
       "version_major": 2,
       "version_minor": 0
      },
      "text/plain": [
       "interactive(children=(IntSlider(value=1, description='n', max=30, min=1), Output()), _dom_classes=('widget-int…"
      ]
     },
     "metadata": {},
     "output_type": "display_data"
    }
   ],
   "source": [
    "interact(move,n=(1,30));"
   ]
  },
  {
   "cell_type": "code",
   "execution_count": 14,
   "metadata": {},
   "outputs": [
    {
     "data": {
      "image/png": "[encoded data removed]",
      "text/plain": [
       "<Figure size 432x288 with 1 Axes>"
      ]
     },
     "metadata": {
      "needs_background": "light"
     },
     "output_type": "display_data"
    }
   ],
   "source": [
    "%matplotlib inline\n",
    "import pylab\n",
    "import scipy\n",
    "x = scipy.linspace(-2,2,1500)\n",
    "y1 = scipy.sqrt(1-(abs(x)-1)**2)\n",
    "y2 = -3*scipy.sqrt(1-(abs(x)/2)**0.5)\n",
    "pylab.fill_between(x, y1, color='red')\n",
    "pylab.fill_between(x, y2, color='red')\n",
    "pylab.xlim([-2.5, 2.5])\n",
    "pylab.text(0, -0.5, 'Happy New Year', fontsize=25, fontweight='bold',\n",
    "           color='yellow', horizontalalignment='center');"
   ]
  }
 ],
 "metadata": {
  "kernelspec": {
   "display_name": "Python 3",
   "language": "python",
   "name": "python3"
  },
  "language_info": {
   "codemirror_mode": {
    "name": "ipython",
    "version": 3
   },
   "file_extension": ".py",
   "mimetype": "text/x-python",
   "name": "python",
   "nbconvert_exporter": "python",
   "pygments_lexer": "ipython3",
   "version": "3.7.3"
  }
 },
 "nbformat": 4,
 "nbformat_minor": 2
}
