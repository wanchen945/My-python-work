{
 "cells": [
  {
   "cell_type": "code",
   "execution_count": 2,
   "metadata": {},
   "outputs": [],
   "source": [
    "%matplotlib inline\n",
    "\n",
    "import numpy as np\n",
    "import pandas as pd\n",
    "import matplotlib.pyplot as mlt"
   ]
  },
  {
   "cell_type": "markdown",
   "metadata": {},
   "source": [
    "## 想在台北買個1500萬的房子，月付5萬\n",
    "                                 要多久.............\n",
    "# 才能脫離房奴的稱號呢！！！"
   ]
  },
  {
   "cell_type": "code",
   "execution_count": 13,
   "metadata": {},
   "outputs": [
    {
     "name": "stdout",
     "output_type": "stream",
     "text": [
      "房子購入價:15000000\n",
      "頭期款:4500000\n",
      "總房貸:10500000\n",
      "每月房貸加利息:50000\n",
      "再過幾個 17.5 年，又 6.0 個月後，恭喜你就不再是房奴了！！！\n"
     ]
    }
   ],
   "source": [
    "the_price_of_the_house_you_buyed:float(input(\"房子購入價:\"))\n",
    "down_payment:float(input(\"頭期款:\"))#購入價*百分之30\n",
    "total_mortgage=float(input(\"總房貸:\"))\n",
    "monthly_mortgage=float(input(\"每月房貸加利息:\"))\n",
    "month=total_mortgage/monthly_mortgage\n",
    "year=month/12\n",
    "left_month=month%12\n",
    "print(\"再過幾個\",year,\"年，又\",left_month,\"個月後，恭喜你就不再是房奴了！！！\")"
   ]
  },
  {
   "cell_type": "markdown",
   "metadata": {},
   "source": [
    "## 出門前送一句話給今天的自己吧(^_っ^)"
   ]
  },
  {
   "cell_type": "code",
   "execution_count": 43,
   "metadata": {},
   "outputs": [
    {
     "name": "stdout",
     "output_type": "stream",
     "text": [
      "今天絕對會是非常幸運的一天\n"
     ]
    }
   ],
   "source": [
    "import random\n",
    "a=[\"會是\",\"絕對會是\",\"一定會是\",\"毫無疑問地會是\",\"百分之百會是\"]\n",
    "b=[\"很棒\",\"非常開心\",\"非常幸運\",\"marvelous\",\"wonderful\",\"非常順利\"]\n",
    "\n",
    "print(\"今天\"+random.choice(a)+random.choice(b)+\"的一天\")"
   ]
  },
  {
   "cell_type": "markdown",
   "metadata": {},
   "source": [
    "## 這周末要來看甚麼電影呢?"
   ]
  },
  {
   "cell_type": "code",
   "execution_count": 24,
   "metadata": {},
   "outputs": [
    {
     "name": "stdout",
     "output_type": "stream",
     "text": [
      "今天來部文藝片休閒一下吧！\n"
     ]
    },
    {
     "data": {
      "application/vnd.jupyter.widget-view+json": {
       "model_id": "2c9884208ab3432e8bdc12bea44e8059",
       "version_major": 2,
       "version_minor": 0
      },
      "text/plain": [
       "interactive(children=(Dropdown(description='x', options={'動作片': '限制級戰警、生死時速、鋼鐵墳墓、蜘蛛人:離家日、復仇者聯盟:終局之戰、神力女超人、地心冒險…"
      ]
     },
     "metadata": {},
     "output_type": "display_data"
    }
   ],
   "source": [
    "import random\n",
    "a=[\"動作片\",\"喜劇片\",\"愛情片\",\"動畫片\",\"文藝片\",\"紀錄片\"]\n",
    "\n",
    "print(\"那就來部\"+random.choice(a)+\"休閒一下吧！\")\n",
    "def f(x):\n",
    "    print(x)\n",
    "from ipywidgets import interact\n",
    "interact(f,x={\"動作片\":\"限制級戰警、生死時速、鋼鐵墳墓、蜘蛛人:離家日、復仇者聯盟:終局之戰、神力女超人、地心冒險\",\n",
    "              \"喜劇片\":\"詐騙女神、三個傻瓜、回到小時候、抱歉打擾你、速成家庭、姐就是美、凸搥特派員、醫生敲愛錢\",\n",
    "              \"愛情片\":\"比悲傷更悲傷的故事、愛上觸不到的你、一吻定情、我的少女時代、幸福之吻、曼哈頓奇緣\",\n",
    "              \"動畫片\":\"小飛象、你的名字、馴龍高手、小腳怪、尖叫旅社、超人特攻隊、動物方程式、幸福路上\",\n",
    "              \"文藝片\":\"心中的小星星、狗狗的旅程、刺蝟的優雅、壁花男孩、藍色是最溫暖的顏色、寂寞拍賣師、我和我的冠軍女兒\",\n",
    "              \"紀錄片\":\"看見台灣、夢想的角落\",});"
   ]
  },
  {
   "cell_type": "code",
   "execution_count": null,
   "metadata": {},
   "outputs": [],
   "source": []
  },
  {
   "cell_type": "code",
   "execution_count": null,
   "metadata": {},
   "outputs": [],
   "source": []
  }
 ],
 "metadata": {
  "kernelspec": {
   "display_name": "Python 3",
   "language": "python",
   "name": "python3"
  },
  "language_info": {
   "codemirror_mode": {
    "name": "ipython",
    "version": 3
   },
   "file_extension": ".py",
   "mimetype": "text/x-python",
   "name": "python",
   "nbconvert_exporter": "python",
   "pygments_lexer": "ipython3",
   "version": "3.7.3"
  }
 },
 "nbformat": 4,
 "nbformat_minor": 2
}
