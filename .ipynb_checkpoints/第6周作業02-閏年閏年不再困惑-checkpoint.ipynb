{
 "cells": [
  {
   "cell_type": "markdown",
   "metadata": {},
   "source": [
    "## 閏年閏年何時閏年不再困惑\n",
    "### 輸入你想知道是否為閏年的年份，按下enter立馬為您解答"
   ]
  },
  {
   "cell_type": "code",
   "execution_count": 3,
   "metadata": {},
   "outputs": [],
   "source": [
    "%matplotlib inline\n",
    "import numpy as np\n",
    "import matplotlib.pyplot as plt\n",
    "import pandas as pd"
   ]
  },
  {
   "cell_type": "code",
   "execution_count": 1,
   "metadata": {},
   "outputs": [
    {
     "name": "stdout",
     "output_type": "stream",
     "text": [
      "請輸入年份：2020\n",
      "2020年為閏年\n"
     ]
    }
   ],
   "source": [
    "x=int(input(\"請輸入年份：\"))\n",
    "if (x%4==0):\n",
    "        if (x%100!=0) or (x%400==0):\n",
    "                print(\"{}年為閏年\".format(x))\n",
    "else:\n",
    "        print(\"{}年不是閏年\".format(x))"
   ]
  },
  {
   "cell_type": "code",
   "execution_count": null,
   "metadata": {},
   "outputs": [],
   "source": []
  }
 ],
 "metadata": {
  "kernelspec": {
   "display_name": "Python 3",
   "language": "python",
   "name": "python3"
  },
  "language_info": {
   "codemirror_mode": {
    "name": "ipython",
    "version": 3
   },
   "file_extension": ".py",
   "mimetype": "text/x-python",
   "name": "python",
   "nbconvert_exporter": "python",
   "pygments_lexer": "ipython3",
   "version": "3.7.3"
  }
 },
 "nbformat": 4,
 "nbformat_minor": 2
}
