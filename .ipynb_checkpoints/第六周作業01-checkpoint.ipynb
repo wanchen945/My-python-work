{
 "cells": [
  {
   "cell_type": "markdown",
   "metadata": {},
   "source": [
    "### 奇偶碰撞樂"
   ]
  },
  {
   "cell_type": "code",
   "execution_count": 1,
   "metadata": {},
   "outputs": [],
   "source": [
    "%matplotlib inline\n",
    "import numpy as np\n",
    "import matplotlib.pyplot as plt\n",
    "import pandas as ad"
   ]
  },
  {
   "cell_type": "code",
   "execution_count": 6,
   "metadata": {},
   "outputs": [
    {
     "name": "stdout",
     "output_type": "stream",
     "text": [
      "請輸入一個整數：-777\n",
      "-777為負奇數\n"
     ]
    }
   ],
   "source": [
    "x=int(input(\"請輸入一個整數：\"))\n",
    "if (x>0):\n",
    "        if(x%2==0):\n",
    "                print(\"{}為正偶數\".format(x))\n",
    "        else:\n",
    "                print(\"{}為正奇數\".format(x))\n",
    "elif (x<0):\n",
    "        if(x%2==0):\n",
    "                print(\"{}為負偶數\".format(x))\n",
    "        else:\n",
    "                print(\"{}為負奇數\".format(x))\n",
    "elif (x==0):\n",
    "        print(\"{}就是整數，你答對了棒棒，但它沒有正負嘿嘿\".format(x))"
   ]
  }
 ],
 "metadata": {
  "kernelspec": {
   "display_name": "Python 3",
   "language": "python",
   "name": "python3"
  },
  "language_info": {
   "codemirror_mode": {
    "name": "ipython",
    "version": 3
   },
   "file_extension": ".py",
   "mimetype": "text/x-python",
   "name": "python",
   "nbconvert_exporter": "python",
   "pygments_lexer": "ipython3",
   "version": "3.7.3"
  }
 },
 "nbformat": 4,
 "nbformat_minor": 2
}
