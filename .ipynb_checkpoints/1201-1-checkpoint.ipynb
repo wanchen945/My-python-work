{
 "cells": [
  {
   "cell_type": "markdown",
   "metadata": {},
   "source": [
    "### 使用者可以一直輸入使用者名稱和使用者血型，直到使用者選擇不再輸入為止，印出當前字典blood內容"
   ]
  },
  {
   "cell_type": "code",
   "execution_count": 1,
   "metadata": {},
   "outputs": [],
   "source": [
    "%matplotlib inline\n",
    "\n",
    "import numpy as np\n",
    "import pandas as pd\n",
    "import matplotlib.pyplot as plt"
   ]
  },
  {
   "cell_type": "code",
   "execution_count": 2,
   "metadata": {},
   "outputs": [
    {
     "name": "stdout",
     "output_type": "stream",
     "text": [
      "請輸入使用者名稱:Bob\n",
      "請輸入使用者血型:B\n",
      "是否繼續輸入:(Y/N)Y\n",
      "請輸入使用者名稱:Claire\n",
      "請輸入使用者血型:O\n",
      "是否繼續輸入:(Y/N)Y\n",
      "請輸入使用者名稱:David\n",
      "請輸入使用者血型:AB\n",
      "是否繼續輸入:(Y/N)n\n",
      "{'Alice': 'B', 'Bob': 'B', 'Claire': 'O', 'David': 'AB'}\n"
     ]
    }
   ],
   "source": [
    "blood={\"Alice\":\"B\"}\n",
    "\n",
    "i=\"y\"\n",
    "while (i !=\"n\"):\n",
    "        name=input(\"請輸入使用者名稱:\")\n",
    "        blood_type=input(\"請輸入使用者血型:\")\n",
    "        blood[name]=blood_type\n",
    "        i=input(\"是否繼續輸入:(Y/N)\")\n",
    "print(blood)"
   ]
  }
 ],
 "metadata": {
  "kernelspec": {
   "display_name": "Python 3",
   "language": "python",
   "name": "python3"
  },
  "language_info": {
   "codemirror_mode": {
    "name": "ipython",
    "version": 3
   },
   "file_extension": ".py",
   "mimetype": "text/x-python",
   "name": "python",
   "nbconvert_exporter": "python",
   "pygments_lexer": "ipython3",
   "version": "3.7.3"
  }
 },
 "nbformat": 4,
 "nbformat_minor": 2
}
