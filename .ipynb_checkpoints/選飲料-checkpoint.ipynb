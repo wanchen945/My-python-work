{
 "cells": [
  {
   "cell_type": "code",
   "execution_count": 7,
   "metadata": {},
   "outputs": [],
   "source": [
    "%matplotlib inline\n",
    "import numpy as np\n",
    "import pandas as pd\n",
    "import matplotlib.pyplot as plt\n",
    "from numpy.random import randint\n",
    "from numpy.random import choice"
   ]
  },
  {
   "cell_type": "code",
   "execution_count": 11,
   "metadata": {},
   "outputs": [
    {
     "name": "stdout",
     "output_type": "stream",
     "text": [
      "今日結果： ['梅子綠茶'] + ['無糖'] + ['完全去冰']\n"
     ]
    }
   ],
   "source": [
    "drink=[\"珍珠鮮奶茶\",\"日月潭紅茶\",\"梅子綠茶\",\"四季春\",\"檸檬紅茶\",\"焦糖鮮奶\"]\n",
    "sweet=[\"全糖\",\"七分糖\",\"半糖\",\"三分糖\",\"無糖\"]\n",
    "ice=[\"正常冰\",\"少冰\",\"微冰\",\"去冰\",\"完全去冰\"]\n",
    "print(\"今日結果：\",choice(drink,1),\"+\",choice(sweet,1),\"+\",choice(ice,1))"
   ]
  }
 ],
 "metadata": {
  "kernelspec": {
   "display_name": "Python 3",
   "language": "python",
   "name": "python3"
  },
  "language_info": {
   "codemirror_mode": {
    "name": "ipython",
    "version": 3
   },
   "file_extension": ".py",
   "mimetype": "text/x-python",
   "name": "python",
   "nbconvert_exporter": "python",
   "pygments_lexer": "ipython3",
   "version": "3.7.3"
  }
 },
 "nbformat": 4,
 "nbformat_minor": 2
}
