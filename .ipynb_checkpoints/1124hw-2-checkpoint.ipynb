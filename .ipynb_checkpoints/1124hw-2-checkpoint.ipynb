{
 "cells": [
  {
   "cell_type": "code",
   "execution_count": 1,
   "metadata": {},
   "outputs": [],
   "source": [
    "%matplotlib inline\n",
    "import pandas as pd\n",
    "import numpy as np\n",
    "import matplotlib.pyplot as plt"
   ]
  },
  {
   "cell_type": "markdown",
   "metadata": {},
   "source": [
    "## 費波納西數列𝑓𝑛的規律為\n",
    "#### 𝑛 , 𝑛 = 0,1\n",
    "#### 𝑓𝑛−1 + 𝑓𝑛−2 , 𝑛 > 1"
   ]
  },
  {
   "cell_type": "code",
   "execution_count": 3,
   "metadata": {},
   "outputs": [
    {
     "name": "stdout",
     "output_type": "stream",
     "text": [
      "請輸入正整數:15\n",
      "f_0=0\n",
      "f_1=1\n",
      "f_2=1\n",
      "f_3=2\n",
      "f_4=3\n",
      "f_5=5\n",
      "f_6=8\n",
      "f_7=13\n",
      "f_8=21\n",
      "f_9=34\n",
      "f_10=55\n",
      "f_11=89\n",
      "f_12=144\n",
      "f_13=233\n",
      "f_14=377\n",
      "f_15=610\n"
     ]
    }
   ],
   "source": [
    "num=int(input(\"請輸入正整數:\"))\n",
    "def fibo(n):\n",
    "    if n == 0:\n",
    "        return 0;\n",
    "    elif n == 1:\n",
    "        return 1;\n",
    "    return fibo(n-1) + fibo(n-2)\n",
    "i=0\n",
    "while i<=num:\n",
    "        print(\"f_{}={}\".format(i,fibo(i)))\n",
    "        i=i+1"
   ]
  }
 ],
 "metadata": {
  "kernelspec": {
   "display_name": "Python 3",
   "language": "python",
   "name": "python3"
  },
  "language_info": {
   "codemirror_mode": {
    "name": "ipython",
    "version": 3
   },
   "file_extension": ".py",
   "mimetype": "text/x-python",
   "name": "python",
   "nbconvert_exporter": "python",
   "pygments_lexer": "ipython3",
   "version": "3.7.3"
  }
 },
 "nbformat": 4,
 "nbformat_minor": 2
}
