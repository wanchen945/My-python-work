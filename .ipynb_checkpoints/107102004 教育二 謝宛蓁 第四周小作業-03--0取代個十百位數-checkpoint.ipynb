{
 "cells": [
  {
   "cell_type": "markdown",
   "metadata": {},
   "source": [
    "# 你輸入1個三位數\n",
    "## 我送你至少3個各有一個0的數"
   ]
  },
  {
   "cell_type": "code",
   "execution_count": 1,
   "metadata": {},
   "outputs": [
    {
     "name": "stdout",
     "output_type": "stream",
     "text": [
      "請輸入三位數正整數:987\n",
      "0取代個位數:980\n",
      "0取代十位數:907\n",
      "0取代百位數:087\n"
     ]
    }
   ],
   "source": [
    "%matplotlib inline\n",
    "\n",
    "import pandas as pd\n",
    "import numpy as np\n",
    "import matplotlib.pyplot as plt\n",
    "\n",
    "num=int(input(\"請輸入三位數正整數:\"))\n",
    "one=num%10\n",
    "ten=(num%100)//10\n",
    "hundred=num//100\n",
    "\n",
    "print(\"0取代個位數:%d%d0\"%(hundred,ten))\n",
    "print(\"0取代十位數:%d0%d\"%(hundred,one))\n",
    "print(\"0取代百位數:0%d%d\"%(ten,one))\n"
   ]
  }
 ],
 "metadata": {
  "kernelspec": {
   "display_name": "Python 3",
   "language": "python",
   "name": "python3"
  },
  "language_info": {
   "codemirror_mode": {
    "name": "ipython",
    "version": 3
   },
   "file_extension": ".py",
   "mimetype": "text/x-python",
   "name": "python",
   "nbconvert_exporter": "python",
   "pygments_lexer": "ipython3",
   "version": "3.7.3"
  }
 },
 "nbformat": 4,
 "nbformat_minor": 2
}
