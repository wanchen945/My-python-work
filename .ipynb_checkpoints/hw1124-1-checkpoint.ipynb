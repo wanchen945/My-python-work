{
 "cells": [
  {
   "cell_type": "code",
   "execution_count": 1,
   "metadata": {},
   "outputs": [],
   "source": [
    "%matplotlib inline\n",
    "import pandas as pd\n",
    "import numpy as np\n",
    "import matplotlib.pyplot as plt"
   ]
  },
  {
   "cell_type": "markdown",
   "metadata": {},
   "source": [
    "### 使用者輸入本金、年利率、年數，程式輸出到年數為止每一年的本金和"
   ]
  },
  {
   "cell_type": "code",
   "execution_count": 2,
   "metadata": {},
   "outputs": [
    {
     "name": "stdout",
     "output_type": "stream",
     "text": [
      "請輸入本金:50000\n",
      "請輸入年利率(單位%):1.5\n",
      "請輸入年數:5\n",
      "第 1 年本金和為: 50749\n",
      "第 2 年本金和為: 51511\n",
      "第 3 年本金和為: 52283\n",
      "第 4 年本金和為: 53068\n",
      "第 5 年本金和為: 53864\n"
     ]
    }
   ],
   "source": [
    "x=int(input(\"請輸入本金:\"))\n",
    "y=float(input(\"請輸入年利率(單位%):\"))\n",
    "z=int(input(\"請輸入年數:\"))\n",
    "i=1\n",
    "while i<=z:\n",
    "        result=x*(1+y/100)**i\n",
    "        print(\"第\",i,\"年本金和為:\",int(result))\n",
    "        i=i+1"
   ]
  }
 ],
 "metadata": {
  "kernelspec": {
   "display_name": "Python 3",
   "language": "python",
   "name": "python3"
  },
  "language_info": {
   "codemirror_mode": {
    "name": "ipython",
    "version": 3
   },
   "file_extension": ".py",
   "mimetype": "text/x-python",
   "name": "python",
   "nbconvert_exporter": "python",
   "pygments_lexer": "ipython3",
   "version": "3.7.3"
  }
 },
 "nbformat": 4,
 "nbformat_minor": 2
}
