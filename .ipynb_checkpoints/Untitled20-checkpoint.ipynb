{
 "cells": [
  {
   "cell_type": "code",
   "execution_count": 70,
   "metadata": {},
   "outputs": [
    {
     "name": "stdout",
     "output_type": "stream",
     "text": [
      "\u001b[7;36m認真點啦小天使想跟你玩剪刀石頭不很久了耶～只能輸入 剪刀 石頭 布 唷\n"
     ]
    }
   ],
   "source": [
    "print(\"\\033[7;36m認真點啦小天使想跟你玩剪刀石頭不很久了耶～只能輸入 剪刀 石頭 布 唷\")"
   ]
  },
  {
   "cell_type": "code",
   "execution_count": 74,
   "metadata": {},
   "outputs": [
    {
     "name": "stdout",
     "output_type": "stream",
     "text": [
      "\u001b[1;35m請輸入好、不好或還不錯\n"
     ]
    }
   ],
   "source": [
    "print(\"\\033[1;35m請輸入好、不好或還不錯\")"
   ]
  },
  {
   "cell_type": "code",
   "execution_count": 58,
   "metadata": {},
   "outputs": [
    {
     "ename": "IndentationError",
     "evalue": "unexpected indent (<ipython-input-58-5c17dcf5e11d>, line 2)",
     "output_type": "error",
     "traceback": [
      "\u001b[1;36m  File \u001b[1;32m\"<ipython-input-58-5c17dcf5e11d>\"\u001b[1;36m, line \u001b[1;32m2\u001b[0m\n\u001b[1;33m    player = input(\"你出：\")\u001b[0m\n\u001b[1;37m    ^\u001b[0m\n\u001b[1;31mIndentationError\u001b[0m\u001b[1;31m:\u001b[0m unexpected indent\n"
     ]
    }
   ],
   "source": [
    " print(\"\\033[1;37m石頭， 布， 剪刀，結束遊戲？\")\n",
    "    player = input(\"你出：\")\n",
    "computer = move[randint(0,2)]\n",
    "print(\"\\033[1;37m小天使出： \" + computer)"
   ]
  },
  {
   "cell_type": "code",
   "execution_count": 57,
   "metadata": {},
   "outputs": [
    {
     "ename": "IndentationError",
     "evalue": "unexpected indent (<ipython-input-57-53563568efb1>, line 2)",
     "output_type": "error",
     "traceback": [
      "\u001b[1;36m  File \u001b[1;32m\"<ipython-input-57-53563568efb1>\"\u001b[1;36m, line \u001b[1;32m2\u001b[0m\n\u001b[1;33m    player = input(\"你出：\")\u001b[0m\n\u001b[1;37m    ^\u001b[0m\n\u001b[1;31mIndentationError\u001b[0m\u001b[1;31m:\u001b[0m unexpected indent\n"
     ]
    }
   ],
   "source": [
    "print(\"\\033[1;37m石頭， 布， 剪刀，結束遊戲？\")\n",
    "player = input(\"你出：\")\n",
    "computer = move[randint(0,2)]\n",
    "print(\"\\033[1;37m小天使出： \" + computer)\n",
    "if player == computer:\n",
    "    print(\"\\033[1;34m平手!\")\n",
    "elif player == \"石頭\":\n",
    "    if computer == \"布\":\n",
    "        print(\"你輸了嘿嘿!\", computer, \"包住\", player)\n",
    "        else:\n",
    "        print(\"嗚嗚你贏了!\", player, \"砸壞了\", computer)\n",
    "            elif player == \"布\":\n",
    "                if computer == \"剪刀\":\n",
    "                    print(\"你輸了嘿嘿!\", computer, \"剪掉\", player)\n",
    "                else:\n",
    "                    print(\"嗚嗚你贏了!\", player, \"包住\", computer)\n",
    "            elif player == \"剪刀\":\n",
    "                if computer == \"石頭\":\n",
    "                    print(\"你輸了不哭不哭...\", computer, \"砸壞了\", player)\n",
    "                else:\n",
    "                    print(\"你贏了棒棒!\", player, \"剪掉\", computer)\n",
    "            elif player==\"結束遊戲\":\n",
    "                input(\"哈哈哈你覺得好玩嗎？\")\n",
    "                print(\"小天使覺得很好玩ε٩(๑> ₃ <)۶з謝謝你陪小天使玩\")\n",
    "                break"
   ]
  },
  {
   "cell_type": "code",
   "execution_count": null,
   "metadata": {},
   "outputs": [],
   "source": []
  }
 ],
 "metadata": {
  "kernelspec": {
   "display_name": "Python 3",
   "language": "python",
   "name": "python3"
  },
  "language_info": {
   "codemirror_mode": {
    "name": "ipython",
    "version": 3
   },
   "file_extension": ".py",
   "mimetype": "text/x-python",
   "name": "python",
   "nbconvert_exporter": "python",
   "pygments_lexer": "ipython3",
   "version": "3.7.3"
  }
 },
 "nbformat": 4,
 "nbformat_minor": 2
}
